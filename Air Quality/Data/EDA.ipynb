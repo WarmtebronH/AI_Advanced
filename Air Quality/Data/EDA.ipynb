{
 "cells": [
  {
   "attachments": {},
   "cell_type": "markdown",
   "metadata": {},
   "source": [
    "# Air Quality"
   ]
  },
  {
   "attachments": {},
   "cell_type": "markdown",
   "metadata": {},
   "source": [
    "## 1. Data Understanding\n",
    "\n",
    "In the EDA of this project, I start by adding libraries. \n",
    "Then I import the dataset.\n",
    "\n",
    "For this example I've used the data of the center (point i36) of Eindhoven with the date starting from the first of Januari 2023 until the thirteen of Februari 2023."
   ]
  },
  {
   "cell_type": "code",
   "execution_count": 24,
   "metadata": {},
   "outputs": [],
   "source": [
    "import numpy as np\n",
    "import pandas as pd\n",
    "\n",
    "import matplotlib.pyplot as plt\n",
    "import seaborn as sns\n",
    "\n",
    "#File uitlezen\n",
    "df_Air_2023 = pd.read_csv(\"dataset_2023_Eindhoven_i36.csv\")"
   ]
  },
  {
   "attachments": {},
   "cell_type": "markdown",
   "metadata": {},
   "source": [
    "I first check what data I have in the dataset by looking at the first and last 5 rows of the dataset."
   ]
  },
  {
   "cell_type": "code",
   "execution_count": 25,
   "metadata": {},
   "outputs": [
    {
     "data": {
      "text/html": [
       "<div>\n",
       "<style scoped>\n",
       "    .dataframe tbody tr th:only-of-type {\n",
       "        vertical-align: middle;\n",
       "    }\n",
       "\n",
       "    .dataframe tbody tr th {\n",
       "        vertical-align: top;\n",
       "    }\n",
       "\n",
       "    .dataframe thead th {\n",
       "        text-align: right;\n",
       "    }\n",
       "</style>\n",
       "<table border=\"1\" class=\"dataframe\">\n",
       "  <thead>\n",
       "    <tr style=\"text-align: right;\">\n",
       "      <th></th>\n",
       "      <th>Unnamed: 0</th>\n",
       "      <th>Unnamed: 1</th>\n",
       "      <th>I36</th>\n",
       "      <th>I36.1</th>\n",
       "      <th>I36.2</th>\n",
       "      <th>I36.3</th>\n",
       "      <th>I36.4</th>\n",
       "      <th>I36.5</th>\n",
       "    </tr>\n",
       "  </thead>\n",
       "  <tbody>\n",
       "    <tr>\n",
       "      <th>0</th>\n",
       "      <td>Time</td>\n",
       "      <td>Time</td>\n",
       "      <td>Lat</td>\n",
       "      <td>Lon</td>\n",
       "      <td>PM1</td>\n",
       "      <td>PM2.5</td>\n",
       "      <td>PM10</td>\n",
       "      <td>NO2</td>\n",
       "    </tr>\n",
       "    <tr>\n",
       "      <th>1</th>\n",
       "      <td>UTC</td>\n",
       "      <td>Local</td>\n",
       "      <td>°</td>\n",
       "      <td>°</td>\n",
       "      <td>μg/m³</td>\n",
       "      <td>μg/m³</td>\n",
       "      <td>μg/m³</td>\n",
       "      <td>μg/m³\\r\\n</td>\n",
       "    </tr>\n",
       "    <tr>\n",
       "      <th>2</th>\n",
       "      <td>2023-01-01 00:00:00</td>\n",
       "      <td>2023-01-01 01:00:00</td>\n",
       "      <td>51.4389</td>\n",
       "      <td>5.4818</td>\n",
       "      <td>14.33</td>\n",
       "      <td>18.85</td>\n",
       "      <td>25.24</td>\n",
       "      <td>27</td>\n",
       "    </tr>\n",
       "    <tr>\n",
       "      <th>3</th>\n",
       "      <td>2023-01-01 00:10:00</td>\n",
       "      <td>2023-01-01 01:10:00</td>\n",
       "      <td>51.4392</td>\n",
       "      <td>5.4825</td>\n",
       "      <td>11.04</td>\n",
       "      <td>15.72</td>\n",
       "      <td>20.69</td>\n",
       "      <td>29</td>\n",
       "    </tr>\n",
       "    <tr>\n",
       "      <th>4</th>\n",
       "      <td>2023-01-01 00:20:00</td>\n",
       "      <td>2023-01-01 01:20:00</td>\n",
       "      <td>51.4390</td>\n",
       "      <td>5.4826</td>\n",
       "      <td>9.05</td>\n",
       "      <td>12.47</td>\n",
       "      <td>18.13</td>\n",
       "      <td>31</td>\n",
       "    </tr>\n",
       "  </tbody>\n",
       "</table>\n",
       "</div>"
      ],
      "text/plain": [
       "            Unnamed: 0           Unnamed: 1      I36   I36.1  I36.2  I36.3  \\\n",
       "0                 Time                 Time      Lat     Lon    PM1  PM2.5   \n",
       "1                  UTC                Local        °       °  μg/m³  μg/m³   \n",
       "2  2023-01-01 00:00:00  2023-01-01 01:00:00  51.4389  5.4818  14.33  18.85   \n",
       "3  2023-01-01 00:10:00  2023-01-01 01:10:00  51.4392  5.4825  11.04  15.72   \n",
       "4  2023-01-01 00:20:00  2023-01-01 01:20:00  51.4390  5.4826   9.05  12.47   \n",
       "\n",
       "   I36.4      I36.5  \n",
       "0   PM10        NO2  \n",
       "1  μg/m³  μg/m³\\r\\n  \n",
       "2  25.24         27  \n",
       "3  20.69         29  \n",
       "4  18.13         31  "
      ]
     },
     "execution_count": 25,
     "metadata": {},
     "output_type": "execute_result"
    }
   ],
   "source": [
    "df_Air_2023.head()"
   ]
  },
  {
   "cell_type": "code",
   "execution_count": 26,
   "metadata": {},
   "outputs": [
    {
     "data": {
      "text/html": [
       "<div>\n",
       "<style scoped>\n",
       "    .dataframe tbody tr th:only-of-type {\n",
       "        vertical-align: middle;\n",
       "    }\n",
       "\n",
       "    .dataframe tbody tr th {\n",
       "        vertical-align: top;\n",
       "    }\n",
       "\n",
       "    .dataframe thead th {\n",
       "        text-align: right;\n",
       "    }\n",
       "</style>\n",
       "<table border=\"1\" class=\"dataframe\">\n",
       "  <thead>\n",
       "    <tr style=\"text-align: right;\">\n",
       "      <th></th>\n",
       "      <th>Unnamed: 0</th>\n",
       "      <th>Unnamed: 1</th>\n",
       "      <th>I36</th>\n",
       "      <th>I36.1</th>\n",
       "      <th>I36.2</th>\n",
       "      <th>I36.3</th>\n",
       "      <th>I36.4</th>\n",
       "      <th>I36.5</th>\n",
       "    </tr>\n",
       "  </thead>\n",
       "  <tbody>\n",
       "    <tr>\n",
       "      <th>6252</th>\n",
       "      <td>2023-02-13 14:10:00</td>\n",
       "      <td>2023-02-13 15:10:00</td>\n",
       "      <td>51.4382</td>\n",
       "      <td>5.4820</td>\n",
       "      <td>20.53</td>\n",
       "      <td>22.78</td>\n",
       "      <td>24.43</td>\n",
       "      <td>28</td>\n",
       "    </tr>\n",
       "    <tr>\n",
       "      <th>6253</th>\n",
       "      <td>2023-02-13 14:20:00</td>\n",
       "      <td>2023-02-13 15:20:00</td>\n",
       "      <td>51.4382</td>\n",
       "      <td>5.4820</td>\n",
       "      <td>19.82</td>\n",
       "      <td>21.20</td>\n",
       "      <td>26.25</td>\n",
       "      <td>28</td>\n",
       "    </tr>\n",
       "    <tr>\n",
       "      <th>6254</th>\n",
       "      <td>2023-02-13 14:30:00</td>\n",
       "      <td>2023-02-13 15:30:00</td>\n",
       "      <td>51.4376</td>\n",
       "      <td>5.4809</td>\n",
       "      <td>19.36</td>\n",
       "      <td>21.51</td>\n",
       "      <td>26.53</td>\n",
       "      <td>23</td>\n",
       "    </tr>\n",
       "    <tr>\n",
       "      <th>6255</th>\n",
       "      <td>2023-02-13 14:40:01</td>\n",
       "      <td>2023-02-13 15:40:01</td>\n",
       "      <td>51.4376</td>\n",
       "      <td>5.4809</td>\n",
       "      <td>21.23</td>\n",
       "      <td>22.98</td>\n",
       "      <td>24.03</td>\n",
       "      <td>25</td>\n",
       "    </tr>\n",
       "    <tr>\n",
       "      <th>6256</th>\n",
       "      <td>2023-02-13 14:50:00</td>\n",
       "      <td>2023-02-13 15:50:00</td>\n",
       "      <td>51.4389</td>\n",
       "      <td>5.4822</td>\n",
       "      <td>20.72</td>\n",
       "      <td>22.71</td>\n",
       "      <td>27.57</td>\n",
       "      <td>28</td>\n",
       "    </tr>\n",
       "  </tbody>\n",
       "</table>\n",
       "</div>"
      ],
      "text/plain": [
       "               Unnamed: 0           Unnamed: 1      I36   I36.1  I36.2  I36.3  \\\n",
       "6252  2023-02-13 14:10:00  2023-02-13 15:10:00  51.4382  5.4820  20.53  22.78   \n",
       "6253  2023-02-13 14:20:00  2023-02-13 15:20:00  51.4382  5.4820  19.82  21.20   \n",
       "6254  2023-02-13 14:30:00  2023-02-13 15:30:00  51.4376  5.4809  19.36  21.51   \n",
       "6255  2023-02-13 14:40:01  2023-02-13 15:40:01  51.4376  5.4809  21.23  22.98   \n",
       "6256  2023-02-13 14:50:00  2023-02-13 15:50:00  51.4389  5.4822  20.72  22.71   \n",
       "\n",
       "      I36.4 I36.5  \n",
       "6252  24.43    28  \n",
       "6253  26.25    28  \n",
       "6254  26.53    23  \n",
       "6255  24.03    25  \n",
       "6256  27.57    28  "
      ]
     },
     "execution_count": 26,
     "metadata": {},
     "output_type": "execute_result"
    }
   ],
   "source": [
    "df_Air_2023.tail()"
   ]
  },
  {
   "attachments": {},
   "cell_type": "markdown",
   "metadata": {},
   "source": [
    "This dataset has the following columns:\n",
    "\n",
    "- Lat : Latitude \n",
    "- Lon : Longitude\n",
    "- NO2 : Nitrogen Dioxide\n",
    "- UFP : Ultrafine particle\n",
    "\n",
    "PM1, PM2.5, PM10: Ultrafine particle with micrometer smaller then 1. The smaller the PM, the more dangerous.\n",
    "\n",
    "Then for the rows. the dataset has data for every 10 minutes of the daym making it a large dataset."
   ]
  },
  {
   "attachments": {},
   "cell_type": "markdown",
   "metadata": {},
   "source": [
    "Next, I'm going to look at the shape of the dataset. So I look at exactly how big the dataset is."
   ]
  },
  {
   "cell_type": "code",
   "execution_count": 28,
   "metadata": {},
   "outputs": [
    {
     "data": {
      "text/plain": [
       "(6257, 8)"
      ]
     },
     "execution_count": 28,
     "metadata": {},
     "output_type": "execute_result"
    }
   ],
   "source": [
    "df_Air_2023.shape"
   ]
  },
  {
   "cell_type": "code",
   "execution_count": null,
   "metadata": {},
   "outputs": [],
   "source": []
  }
 ],
 "metadata": {
  "kernelspec": {
   "display_name": "base",
   "language": "python",
   "name": "python3"
  },
  "language_info": {
   "codemirror_mode": {
    "name": "ipython",
    "version": 3
   },
   "file_extension": ".py",
   "mimetype": "text/x-python",
   "name": "python",
   "nbconvert_exporter": "python",
   "pygments_lexer": "ipython3",
   "version": "3.9.13 (main, Aug 25 2022, 23:51:50) [MSC v.1916 64 bit (AMD64)]"
  },
  "orig_nbformat": 4,
  "vscode": {
   "interpreter": {
    "hash": "135dd61f25e7ad99382e31a9b18da1fa31b0780841b4ca2974d870836fb3c00a"
   }
  }
 },
 "nbformat": 4,
 "nbformat_minor": 2
}
