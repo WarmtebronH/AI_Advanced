{
 "cells": [
  {
   "cell_type": "markdown",
   "metadata": {},
   "source": [
    "# Intent Classification"
   ]
  },
  {
   "cell_type": "markdown",
   "metadata": {},
   "source": [
    "## Data Requirements\n",
    "\n",
    "De essentie van Data Requierments is dat je moet begrijpen dat een stakeholder deze data opslaat vr een specifieke reden of doel.\n",
    "\n",
    "Dit onderdeel heb ik uitgebreid behandeld in het word document wat bij deze challenge zit.\n",
    "\n",
    "Bestand: .. op pagina .."
   ]
  },
  {
   "cell_type": "markdown",
   "metadata": {},
   "source": [
    "## Data Collection\n",
    "\n",
    "Data collection is het proces van het verzamelen van informatie uit een vastgesteld systeem. Het doel van data collection is:\n",
    "het verzamelen van kwaliteitsbewijs dat analyse mogelijk maakt om tot overtuigende en geloofwaardige antwoorden op de gestelde vragen te komen.\n",
    "\n",
    "Dit onderdeel is terug te vinden in het word document wat bij deze challenge zit.\n",
    "\n",
    "Bestand .. op pagina .."
   ]
  },
  {
   "cell_type": "markdown",
   "metadata": {},
   "source": [
    "## 1. Data Understanding\n",
    "In de EDA van dit project, begin ik met het toevoegen van de libraries. Vervolgens lees ik de csv file, die ik verkregen, heb uit en geef ik deze file een variabel."
   ]
  },
  {
   "cell_type": "code",
   "execution_count": 2,
   "metadata": {},
   "outputs": [],
   "source": [
    "import numpy as np\n",
    "import pandas as pd\n",
    "\n",
    "import matplotlib.pyplot as plt\n",
    "import seaborn as sns\n",
    "\n",
    "#File uitlezen\n",
    "df_keukens = pd.read_csv(\"data/intent-test-keukens.csv\")"
   ]
  },
  {
   "cell_type": "markdown",
   "metadata": {},
   "source": [
    "Ik bekijk eerst wat er precies in de dataset staat door de eerste vijf en de laatste vijf rijen te bekijken."
   ]
  },
  {
   "cell_type": "code",
   "execution_count": 3,
   "metadata": {},
   "outputs": [
    {
     "data": {
      "text/html": [
       "<div>\n",
       "<style scoped>\n",
       "    .dataframe tbody tr th:only-of-type {\n",
       "        vertical-align: middle;\n",
       "    }\n",
       "\n",
       "    .dataframe tbody tr th {\n",
       "        vertical-align: top;\n",
       "    }\n",
       "\n",
       "    .dataframe thead th {\n",
       "        text-align: right;\n",
       "    }\n",
       "</style>\n",
       "<table border=\"1\" class=\"dataframe\">\n",
       "  <thead>\n",
       "    <tr style=\"text-align: right;\">\n",
       "      <th></th>\n",
       "      <th>Keyword</th>\n",
       "      <th>Zoekvolume</th>\n",
       "      <th>CPC (average)</th>\n",
       "      <th>Segment</th>\n",
       "      <th>Subsegment</th>\n",
       "      <th>Intentie</th>\n",
       "      <th>INFO</th>\n",
       "      <th>COM</th>\n",
       "      <th>TRANS</th>\n",
       "      <th>BQ1</th>\n",
       "      <th>BQ2</th>\n",
       "      <th>BQ3</th>\n",
       "      <th>BQ4</th>\n",
       "      <th>BQ5</th>\n",
       "      <th>Getstat</th>\n",
       "    </tr>\n",
       "  </thead>\n",
       "  <tbody>\n",
       "    <tr>\n",
       "      <th>0</th>\n",
       "      <td>keuken</td>\n",
       "      <td>60500</td>\n",
       "      <td>1.06</td>\n",
       "      <td>keuken koopproces</td>\n",
       "      <td>Keuken kopen</td>\n",
       "      <td>TRANS</td>\n",
       "      <td>False</td>\n",
       "      <td>False</td>\n",
       "      <td>False</td>\n",
       "      <td>keuken koopproces</td>\n",
       "      <td>TRANS</td>\n",
       "      <td>keuken koopproces | Keuken kopen</td>\n",
       "      <td>keuken koopproces - TRANS</td>\n",
       "      <td>keuken koopproces | Keuken kopen - TRANS</td>\n",
       "      <td>keuken koopproces, keuken koopproces | Keuken ...</td>\n",
       "    </tr>\n",
       "    <tr>\n",
       "      <th>1</th>\n",
       "      <td>koelkast</td>\n",
       "      <td>40500</td>\n",
       "      <td>0.49</td>\n",
       "      <td>apparatuur</td>\n",
       "      <td>Koelkast</td>\n",
       "      <td>TRANS</td>\n",
       "      <td>False</td>\n",
       "      <td>False</td>\n",
       "      <td>False</td>\n",
       "      <td>apparatuur</td>\n",
       "      <td>TRANS</td>\n",
       "      <td>apparatuur | Koelkast</td>\n",
       "      <td>apparatuur - TRANS</td>\n",
       "      <td>apparatuur | Koelkast - TRANS</td>\n",
       "      <td>apparatuur, apparatuur | Koelkast, apparatuur ...</td>\n",
       "    </tr>\n",
       "    <tr>\n",
       "      <th>2</th>\n",
       "      <td>inductie kookplaat</td>\n",
       "      <td>40500</td>\n",
       "      <td>0.45</td>\n",
       "      <td>apparatuur</td>\n",
       "      <td>Kookplaat inductie</td>\n",
       "      <td>TRANS</td>\n",
       "      <td>False</td>\n",
       "      <td>False</td>\n",
       "      <td>False</td>\n",
       "      <td>apparatuur</td>\n",
       "      <td>TRANS</td>\n",
       "      <td>apparatuur | Kookplaat inductie</td>\n",
       "      <td>apparatuur - TRANS</td>\n",
       "      <td>apparatuur | Kookplaat inductie - TRANS</td>\n",
       "      <td>apparatuur, apparatuur | Kookplaat inductie, a...</td>\n",
       "    </tr>\n",
       "    <tr>\n",
       "      <th>3</th>\n",
       "      <td>afzuigkap</td>\n",
       "      <td>27100</td>\n",
       "      <td>0.49</td>\n",
       "      <td>apparatuur</td>\n",
       "      <td>Afzuigkap</td>\n",
       "      <td>TRANS</td>\n",
       "      <td>False</td>\n",
       "      <td>False</td>\n",
       "      <td>False</td>\n",
       "      <td>apparatuur</td>\n",
       "      <td>TRANS</td>\n",
       "      <td>apparatuur | Afzuigkap</td>\n",
       "      <td>apparatuur - TRANS</td>\n",
       "      <td>apparatuur | Afzuigkap - TRANS</td>\n",
       "      <td>apparatuur, apparatuur | Afzuigkap, apparatuur...</td>\n",
       "    </tr>\n",
       "    <tr>\n",
       "      <th>4</th>\n",
       "      <td>vaatwasser</td>\n",
       "      <td>27100</td>\n",
       "      <td>0.41</td>\n",
       "      <td>apparatuur</td>\n",
       "      <td>Vaatwasser</td>\n",
       "      <td>TRANS</td>\n",
       "      <td>False</td>\n",
       "      <td>False</td>\n",
       "      <td>False</td>\n",
       "      <td>apparatuur</td>\n",
       "      <td>TRANS</td>\n",
       "      <td>apparatuur | Vaatwasser</td>\n",
       "      <td>apparatuur - TRANS</td>\n",
       "      <td>apparatuur | Vaatwasser - TRANS</td>\n",
       "      <td>apparatuur, apparatuur | Vaatwasser, apparatuu...</td>\n",
       "    </tr>\n",
       "  </tbody>\n",
       "</table>\n",
       "</div>"
      ],
      "text/plain": [
       "              Keyword  Zoekvolume  CPC (average)             Segment  \\\n",
       "0             keuken        60500            1.06  keuken koopproces   \n",
       "1            koelkast       40500            0.49         apparatuur   \n",
       "2  inductie kookplaat       40500            0.45         apparatuur   \n",
       "3           afzuigkap       27100            0.49         apparatuur   \n",
       "4          vaatwasser       27100            0.41         apparatuur   \n",
       "\n",
       "           Subsegment Intentie   INFO    COM  TRANS                BQ1    BQ2  \\\n",
       "0        Keuken kopen    TRANS  False  False  False  keuken koopproces  TRANS   \n",
       "1            Koelkast    TRANS  False  False  False         apparatuur  TRANS   \n",
       "2  Kookplaat inductie    TRANS  False  False  False         apparatuur  TRANS   \n",
       "3           Afzuigkap    TRANS  False  False  False         apparatuur  TRANS   \n",
       "4          Vaatwasser    TRANS  False  False  False         apparatuur  TRANS   \n",
       "\n",
       "                                BQ3                        BQ4  \\\n",
       "0  keuken koopproces | Keuken kopen  keuken koopproces - TRANS   \n",
       "1             apparatuur | Koelkast         apparatuur - TRANS   \n",
       "2   apparatuur | Kookplaat inductie         apparatuur - TRANS   \n",
       "3            apparatuur | Afzuigkap         apparatuur - TRANS   \n",
       "4           apparatuur | Vaatwasser         apparatuur - TRANS   \n",
       "\n",
       "                                        BQ5  \\\n",
       "0  keuken koopproces | Keuken kopen - TRANS   \n",
       "1             apparatuur | Koelkast - TRANS   \n",
       "2   apparatuur | Kookplaat inductie - TRANS   \n",
       "3            apparatuur | Afzuigkap - TRANS   \n",
       "4           apparatuur | Vaatwasser - TRANS   \n",
       "\n",
       "                                             Getstat  \n",
       "0  keuken koopproces, keuken koopproces | Keuken ...  \n",
       "1  apparatuur, apparatuur | Koelkast, apparatuur ...  \n",
       "2  apparatuur, apparatuur | Kookplaat inductie, a...  \n",
       "3  apparatuur, apparatuur | Afzuigkap, apparatuur...  \n",
       "4  apparatuur, apparatuur | Vaatwasser, apparatuu...  "
      ]
     },
     "execution_count": 3,
     "metadata": {},
     "output_type": "execute_result"
    }
   ],
   "source": [
    "df_keukens.head()"
   ]
  },
  {
   "cell_type": "code",
   "execution_count": 4,
   "metadata": {},
   "outputs": [
    {
     "data": {
      "text/html": [
       "<div>\n",
       "<style scoped>\n",
       "    .dataframe tbody tr th:only-of-type {\n",
       "        vertical-align: middle;\n",
       "    }\n",
       "\n",
       "    .dataframe tbody tr th {\n",
       "        vertical-align: top;\n",
       "    }\n",
       "\n",
       "    .dataframe thead th {\n",
       "        text-align: right;\n",
       "    }\n",
       "</style>\n",
       "<table border=\"1\" class=\"dataframe\">\n",
       "  <thead>\n",
       "    <tr style=\"text-align: right;\">\n",
       "      <th></th>\n",
       "      <th>Keyword</th>\n",
       "      <th>Zoekvolume</th>\n",
       "      <th>CPC (average)</th>\n",
       "      <th>Segment</th>\n",
       "      <th>Subsegment</th>\n",
       "      <th>Intentie</th>\n",
       "      <th>INFO</th>\n",
       "      <th>COM</th>\n",
       "      <th>TRANS</th>\n",
       "      <th>BQ1</th>\n",
       "      <th>BQ2</th>\n",
       "      <th>BQ3</th>\n",
       "      <th>BQ4</th>\n",
       "      <th>BQ5</th>\n",
       "      <th>Getstat</th>\n",
       "    </tr>\n",
       "  </thead>\n",
       "  <tbody>\n",
       "    <tr>\n",
       "      <th>38659</th>\n",
       "      <td>groothandel keuken accessoires</td>\n",
       "      <td>10</td>\n",
       "      <td>0.0</td>\n",
       "      <td>toebehoren &amp; accessoires</td>\n",
       "      <td>accessoires</td>\n",
       "      <td>TRANS</td>\n",
       "      <td>False</td>\n",
       "      <td>False</td>\n",
       "      <td>False</td>\n",
       "      <td>toebehoren &amp; accessoires</td>\n",
       "      <td>TRANS</td>\n",
       "      <td>toebehoren &amp; accessoires | accessoires</td>\n",
       "      <td>toebehoren &amp; accessoires - TRANS</td>\n",
       "      <td>toebehoren &amp; accessoires | accessoires - TRANS</td>\n",
       "      <td>toebehoren &amp; accessoires, toebehoren &amp; accesso...</td>\n",
       "    </tr>\n",
       "    <tr>\n",
       "      <th>38660</th>\n",
       "      <td>keuken accessoires groothandel</td>\n",
       "      <td>10</td>\n",
       "      <td>0.0</td>\n",
       "      <td>toebehoren &amp; accessoires</td>\n",
       "      <td>accessoires</td>\n",
       "      <td>TRANS</td>\n",
       "      <td>False</td>\n",
       "      <td>False</td>\n",
       "      <td>False</td>\n",
       "      <td>toebehoren &amp; accessoires</td>\n",
       "      <td>TRANS</td>\n",
       "      <td>toebehoren &amp; accessoires | accessoires</td>\n",
       "      <td>toebehoren &amp; accessoires - TRANS</td>\n",
       "      <td>toebehoren &amp; accessoires | accessoires - TRANS</td>\n",
       "      <td>toebehoren &amp; accessoires, toebehoren &amp; accesso...</td>\n",
       "    </tr>\n",
       "    <tr>\n",
       "      <th>38661</th>\n",
       "      <td>roze keuken accessoires</td>\n",
       "      <td>10</td>\n",
       "      <td>0.0</td>\n",
       "      <td>toebehoren &amp; accessoires</td>\n",
       "      <td>accessoires</td>\n",
       "      <td>TRANS</td>\n",
       "      <td>False</td>\n",
       "      <td>False</td>\n",
       "      <td>False</td>\n",
       "      <td>toebehoren &amp; accessoires</td>\n",
       "      <td>TRANS</td>\n",
       "      <td>toebehoren &amp; accessoires | accessoires</td>\n",
       "      <td>toebehoren &amp; accessoires - TRANS</td>\n",
       "      <td>toebehoren &amp; accessoires | accessoires - TRANS</td>\n",
       "      <td>toebehoren &amp; accessoires, toebehoren &amp; accesso...</td>\n",
       "    </tr>\n",
       "    <tr>\n",
       "      <th>38662</th>\n",
       "      <td>zwart wit keuken accessoires</td>\n",
       "      <td>10</td>\n",
       "      <td>0.0</td>\n",
       "      <td>toebehoren &amp; accessoires</td>\n",
       "      <td>accessoires</td>\n",
       "      <td>TRANS</td>\n",
       "      <td>False</td>\n",
       "      <td>False</td>\n",
       "      <td>False</td>\n",
       "      <td>toebehoren &amp; accessoires</td>\n",
       "      <td>TRANS</td>\n",
       "      <td>toebehoren &amp; accessoires | accessoires</td>\n",
       "      <td>toebehoren &amp; accessoires - TRANS</td>\n",
       "      <td>toebehoren &amp; accessoires | accessoires - TRANS</td>\n",
       "      <td>toebehoren &amp; accessoires, toebehoren &amp; accesso...</td>\n",
       "    </tr>\n",
       "    <tr>\n",
       "      <th>38663</th>\n",
       "      <td>greepjes keuken vervangen</td>\n",
       "      <td>10</td>\n",
       "      <td>0.0</td>\n",
       "      <td>toebehoren &amp; accessoires</td>\n",
       "      <td>Handgrepen</td>\n",
       "      <td>TRANS</td>\n",
       "      <td>False</td>\n",
       "      <td>False</td>\n",
       "      <td>False</td>\n",
       "      <td>toebehoren &amp; accessoires</td>\n",
       "      <td>TRANS</td>\n",
       "      <td>toebehoren &amp; accessoires | Handgrepen</td>\n",
       "      <td>toebehoren &amp; accessoires - TRANS</td>\n",
       "      <td>toebehoren &amp; accessoires | Handgrepen - TRANS</td>\n",
       "      <td>toebehoren &amp; accessoires, toebehoren &amp; accesso...</td>\n",
       "    </tr>\n",
       "  </tbody>\n",
       "</table>\n",
       "</div>"
      ],
      "text/plain": [
       "                              Keyword  Zoekvolume  CPC (average)   \\\n",
       "38659  groothandel keuken accessoires          10             0.0   \n",
       "38660  keuken accessoires groothandel          10             0.0   \n",
       "38661         roze keuken accessoires          10             0.0   \n",
       "38662    zwart wit keuken accessoires          10             0.0   \n",
       "38663       greepjes keuken vervangen          10             0.0   \n",
       "\n",
       "                        Segment   Subsegment Intentie   INFO    COM  TRANS  \\\n",
       "38659  toebehoren & accessoires  accessoires    TRANS  False  False  False   \n",
       "38660  toebehoren & accessoires  accessoires    TRANS  False  False  False   \n",
       "38661  toebehoren & accessoires  accessoires    TRANS  False  False  False   \n",
       "38662  toebehoren & accessoires  accessoires    TRANS  False  False  False   \n",
       "38663  toebehoren & accessoires   Handgrepen    TRANS  False  False  False   \n",
       "\n",
       "                            BQ1    BQ2  \\\n",
       "38659  toebehoren & accessoires  TRANS   \n",
       "38660  toebehoren & accessoires  TRANS   \n",
       "38661  toebehoren & accessoires  TRANS   \n",
       "38662  toebehoren & accessoires  TRANS   \n",
       "38663  toebehoren & accessoires  TRANS   \n",
       "\n",
       "                                          BQ3  \\\n",
       "38659  toebehoren & accessoires | accessoires   \n",
       "38660  toebehoren & accessoires | accessoires   \n",
       "38661  toebehoren & accessoires | accessoires   \n",
       "38662  toebehoren & accessoires | accessoires   \n",
       "38663   toebehoren & accessoires | Handgrepen   \n",
       "\n",
       "                                    BQ4  \\\n",
       "38659  toebehoren & accessoires - TRANS   \n",
       "38660  toebehoren & accessoires - TRANS   \n",
       "38661  toebehoren & accessoires - TRANS   \n",
       "38662  toebehoren & accessoires - TRANS   \n",
       "38663  toebehoren & accessoires - TRANS   \n",
       "\n",
       "                                                  BQ5  \\\n",
       "38659  toebehoren & accessoires | accessoires - TRANS   \n",
       "38660  toebehoren & accessoires | accessoires - TRANS   \n",
       "38661  toebehoren & accessoires | accessoires - TRANS   \n",
       "38662  toebehoren & accessoires | accessoires - TRANS   \n",
       "38663   toebehoren & accessoires | Handgrepen - TRANS   \n",
       "\n",
       "                                                 Getstat  \n",
       "38659  toebehoren & accessoires, toebehoren & accesso...  \n",
       "38660  toebehoren & accessoires, toebehoren & accesso...  \n",
       "38661  toebehoren & accessoires, toebehoren & accesso...  \n",
       "38662  toebehoren & accessoires, toebehoren & accesso...  \n",
       "38663  toebehoren & accessoires, toebehoren & accesso...  "
      ]
     },
     "execution_count": 4,
     "metadata": {},
     "output_type": "execute_result"
    }
   ],
   "source": [
    "df_keukens.tail()"
   ]
  },
  {
   "cell_type": "markdown",
   "metadata": {},
   "source": [
    "Vervolgens ga ik de shape van de dataset bekijken. Ik kijk dus naar hoe groot de dataset precies is."
   ]
  },
  {
   "cell_type": "code",
   "execution_count": 5,
   "metadata": {},
   "outputs": [
    {
     "data": {
      "text/plain": [
       "(38664, 15)"
      ]
     },
     "execution_count": 5,
     "metadata": {},
     "output_type": "execute_result"
    }
   ],
   "source": [
    "df_keukens.shape"
   ]
  },
  {
   "attachments": {},
   "cell_type": "markdown",
   "metadata": {},
   "source": [
    "Deze dataset is verdeeld in 15 kolommen. Hiervan heb ik uiteindelijk enkel de volgende kolommen nodig:\n",
    "- Keyword\n",
    "- Intentie\n",
    "\n",
    "Verder heeft de dataset 38664 rijen aan data.<br>\n",
    "\n",
    "Ik begin nu met de dataset terug te schalen naar deze 2 kolommen"
   ]
  },
  {
   "cell_type": "code",
   "execution_count": 8,
   "metadata": {},
   "outputs": [
    {
     "data": {
      "text/html": [
       "<div>\n",
       "<style scoped>\n",
       "    .dataframe tbody tr th:only-of-type {\n",
       "        vertical-align: middle;\n",
       "    }\n",
       "\n",
       "    .dataframe tbody tr th {\n",
       "        vertical-align: top;\n",
       "    }\n",
       "\n",
       "    .dataframe thead th {\n",
       "        text-align: right;\n",
       "    }\n",
       "</style>\n",
       "<table border=\"1\" class=\"dataframe\">\n",
       "  <thead>\n",
       "    <tr style=\"text-align: right;\">\n",
       "      <th></th>\n",
       "      <th>Keyword</th>\n",
       "      <th>Intentie</th>\n",
       "    </tr>\n",
       "  </thead>\n",
       "  <tbody>\n",
       "    <tr>\n",
       "      <th>0</th>\n",
       "      <td>keuken</td>\n",
       "      <td>TRANS</td>\n",
       "    </tr>\n",
       "    <tr>\n",
       "      <th>1</th>\n",
       "      <td>koelkast</td>\n",
       "      <td>TRANS</td>\n",
       "    </tr>\n",
       "    <tr>\n",
       "      <th>2</th>\n",
       "      <td>inductie kookplaat</td>\n",
       "      <td>TRANS</td>\n",
       "    </tr>\n",
       "    <tr>\n",
       "      <th>3</th>\n",
       "      <td>afzuigkap</td>\n",
       "      <td>TRANS</td>\n",
       "    </tr>\n",
       "    <tr>\n",
       "      <th>4</th>\n",
       "      <td>vaatwasser</td>\n",
       "      <td>TRANS</td>\n",
       "    </tr>\n",
       "    <tr>\n",
       "      <th>...</th>\n",
       "      <td>...</td>\n",
       "      <td>...</td>\n",
       "    </tr>\n",
       "    <tr>\n",
       "      <th>38659</th>\n",
       "      <td>groothandel keuken accessoires</td>\n",
       "      <td>TRANS</td>\n",
       "    </tr>\n",
       "    <tr>\n",
       "      <th>38660</th>\n",
       "      <td>keuken accessoires groothandel</td>\n",
       "      <td>TRANS</td>\n",
       "    </tr>\n",
       "    <tr>\n",
       "      <th>38661</th>\n",
       "      <td>roze keuken accessoires</td>\n",
       "      <td>TRANS</td>\n",
       "    </tr>\n",
       "    <tr>\n",
       "      <th>38662</th>\n",
       "      <td>zwart wit keuken accessoires</td>\n",
       "      <td>TRANS</td>\n",
       "    </tr>\n",
       "    <tr>\n",
       "      <th>38663</th>\n",
       "      <td>greepjes keuken vervangen</td>\n",
       "      <td>TRANS</td>\n",
       "    </tr>\n",
       "  </tbody>\n",
       "</table>\n",
       "<p>38664 rows × 2 columns</p>\n",
       "</div>"
      ],
      "text/plain": [
       "                              Keyword Intentie\n",
       "0                             keuken     TRANS\n",
       "1                            koelkast    TRANS\n",
       "2                  inductie kookplaat    TRANS\n",
       "3                           afzuigkap    TRANS\n",
       "4                          vaatwasser    TRANS\n",
       "...                               ...      ...\n",
       "38659  groothandel keuken accessoires    TRANS\n",
       "38660  keuken accessoires groothandel    TRANS\n",
       "38661         roze keuken accessoires    TRANS\n",
       "38662    zwart wit keuken accessoires    TRANS\n",
       "38663       greepjes keuken vervangen    TRANS\n",
       "\n",
       "[38664 rows x 2 columns]"
      ]
     },
     "execution_count": 8,
     "metadata": {},
     "output_type": "execute_result"
    }
   ],
   "source": [
    "df_keukens = df_keukens[['Keyword', 'Intentie']].copy()\n",
    "df_keukens"
   ]
  },
  {
   "attachments": {},
   "cell_type": "markdown",
   "metadata": {},
   "source": [
    "Nu ga ik een klein overzicht maken van de dataset, dit doe ik meet de describe() functie. De describe functie geeft een snel en goed ovoerzicht van enkele belangrijke punten. Zo zie je hoe veel verschillende unieke waardes iedere kolom heeft en welke waarde het meeste voorkomt."
   ]
  },
  {
   "cell_type": "code",
   "execution_count": 9,
   "metadata": {},
   "outputs": [
    {
     "data": {
      "text/html": [
       "<div>\n",
       "<style scoped>\n",
       "    .dataframe tbody tr th:only-of-type {\n",
       "        vertical-align: middle;\n",
       "    }\n",
       "\n",
       "    .dataframe tbody tr th {\n",
       "        vertical-align: top;\n",
       "    }\n",
       "\n",
       "    .dataframe thead th {\n",
       "        text-align: right;\n",
       "    }\n",
       "</style>\n",
       "<table border=\"1\" class=\"dataframe\">\n",
       "  <thead>\n",
       "    <tr style=\"text-align: right;\">\n",
       "      <th></th>\n",
       "      <th>Keyword</th>\n",
       "      <th>Intentie</th>\n",
       "    </tr>\n",
       "  </thead>\n",
       "  <tbody>\n",
       "    <tr>\n",
       "      <th>count</th>\n",
       "      <td>38664</td>\n",
       "      <td>38664</td>\n",
       "    </tr>\n",
       "    <tr>\n",
       "      <th>unique</th>\n",
       "      <td>38325</td>\n",
       "      <td>4</td>\n",
       "    </tr>\n",
       "    <tr>\n",
       "      <th>top</th>\n",
       "      <td>hoogte afzuigkap kookplaat</td>\n",
       "      <td>TRANS</td>\n",
       "    </tr>\n",
       "    <tr>\n",
       "      <th>freq</th>\n",
       "      <td>2</td>\n",
       "      <td>28399</td>\n",
       "    </tr>\n",
       "  </tbody>\n",
       "</table>\n",
       "</div>"
      ],
      "text/plain": [
       "                           Keyword Intentie\n",
       "count                        38664    38664\n",
       "unique                       38325        4\n",
       "top     hoogte afzuigkap kookplaat    TRANS\n",
       "freq                             2    28399"
      ]
     },
     "execution_count": 9,
     "metadata": {},
     "output_type": "execute_result"
    }
   ],
   "source": [
    "df_keukens.describe()"
   ]
  },
  {
   "attachments": {},
   "cell_type": "markdown",
   "metadata": {},
   "source": [
    "Uit de twee kolommen die deze dataset heeft, zie je dat de eerste kolom allemaal unieke waardes bevat. Hierdoor is de 'top' rij niet relevant. \n",
    "\n",
    "De 2e kolom genaamd 'Intentie\" heeft 4 verschillende waardes. Wat in mijn verslag al uitgezocht is, is dat deze kolom bestaat uit de 4 volgende waardes, namelijk:\n",
    "- Informatief (INFO)\n",
    "- Navigatief (LOCAL)\n",
    "- Transactioneel (TRANS)\n",
    "- Commercieel (COM)\n",
    "\n",
    "Je ziet dat Trans het meest voorkomend is."
   ]
  },
  {
   "cell_type": "markdown",
   "metadata": {},
   "source": [
    "Als laatst bekijk ik wat voor types er in de dataset staan (int of string). Dit doe ik met de .info methode."
   ]
  },
  {
   "cell_type": "code",
   "execution_count": 10,
   "metadata": {},
   "outputs": [
    {
     "name": "stdout",
     "output_type": "stream",
     "text": [
      "<class 'pandas.core.frame.DataFrame'>\n",
      "RangeIndex: 38664 entries, 0 to 38663\n",
      "Data columns (total 2 columns):\n",
      " #   Column    Non-Null Count  Dtype \n",
      "---  ------    --------------  ----- \n",
      " 0   Keyword   38664 non-null  object\n",
      " 1   Intentie  38664 non-null  object\n",
      "dtypes: object(2)\n",
      "memory usage: 604.2+ KB\n"
     ]
    }
   ],
   "source": [
    "df_keukens.info()"
   ]
  },
  {
   "cell_type": "markdown",
   "metadata": {},
   "source": [
    "Je ziet dat alle kolommen objecten zijn, wat betekent dat het meerdere Dtypes kan bevatten.\n"
   ]
  },
  {
   "cell_type": "markdown",
   "metadata": {},
   "source": [
    "## 2. Cleaning the data\n",
    "\n",
    "In dit onderdeel gan ik kijken of er ergens waardes missen, en/of er rijen/kolommen uit de dataset gehaald kunnen worden."
   ]
  },
  {
   "cell_type": "code",
   "execution_count": 11,
   "metadata": {},
   "outputs": [
    {
     "data": {
      "text/plain": [
       "Keyword     0\n",
       "Intentie    0\n",
       "dtype: int64"
      ]
     },
     "execution_count": 11,
     "metadata": {},
     "output_type": "execute_result"
    }
   ],
   "source": [
    "#Checken of er missende data in de dataset te vinden is\n",
    "df_keukens.isnull().sum()"
   ]
  },
  {
   "attachments": {},
   "cell_type": "markdown",
   "metadata": {},
   "source": [
    "Deze dataset bevat geen missende data."
   ]
  },
  {
   "cell_type": "markdown",
   "metadata": {},
   "source": [
    "## 3. Data Visualization\n",
    "\n",
    "In dit onderdeel ga ik de data d.m.v. plots visualizeren. Dit doe ik om een duidelijker beeld te krijgen van hoe de data er precies uit ziet."
   ]
  },
  {
   "cell_type": "code",
   "execution_count": 14,
   "metadata": {},
   "outputs": [
    {
     "data": {
      "image/png": "[encoded data removed]",
      "text/plain": [
       "<Figure size 640x480 with 1 Axes>"
      ]
     },
     "metadata": {},
     "output_type": "display_data"
    }
   ],
   "source": [
    "ax = sns.histplot(df_keukens, x='Intentie', color='lightblue')\n",
    "ax.patches[0].set_facecolor('salmon')\n",
    "plt.show()"
   ]
  },
  {
   "attachments": {},
   "cell_type": "markdown",
   "metadata": {},
   "source": [
    "Zoals we eerder al hadden gezien bij de describe() functie, weten we dat TRANS de categorie is die het meest in deze dataset voorkomt."
   ]
  },
  {
   "cell_type": "code",
   "execution_count": 15,
   "metadata": {},
   "outputs": [
    {
     "data": {
      "text/html": [
       "<div>\n",
       "<style scoped>\n",
       "    .dataframe tbody tr th:only-of-type {\n",
       "        vertical-align: middle;\n",
       "    }\n",
       "\n",
       "    .dataframe tbody tr th {\n",
       "        vertical-align: top;\n",
       "    }\n",
       "\n",
       "    .dataframe thead th {\n",
       "        text-align: right;\n",
       "    }\n",
       "</style>\n",
       "<table border=\"1\" class=\"dataframe\">\n",
       "  <thead>\n",
       "    <tr style=\"text-align: right;\">\n",
       "      <th></th>\n",
       "      <th>Keyword</th>\n",
       "      <th>Intentie</th>\n",
       "    </tr>\n",
       "  </thead>\n",
       "  <tbody>\n",
       "    <tr>\n",
       "      <th>0</th>\n",
       "      <td>keuken</td>\n",
       "      <td>TRANS</td>\n",
       "    </tr>\n",
       "    <tr>\n",
       "      <th>1</th>\n",
       "      <td>koelkast</td>\n",
       "      <td>TRANS</td>\n",
       "    </tr>\n",
       "    <tr>\n",
       "      <th>2</th>\n",
       "      <td>inductie kookplaat</td>\n",
       "      <td>TRANS</td>\n",
       "    </tr>\n",
       "    <tr>\n",
       "      <th>3</th>\n",
       "      <td>afzuigkap</td>\n",
       "      <td>TRANS</td>\n",
       "    </tr>\n",
       "    <tr>\n",
       "      <th>4</th>\n",
       "      <td>vaatwasser</td>\n",
       "      <td>TRANS</td>\n",
       "    </tr>\n",
       "    <tr>\n",
       "      <th>...</th>\n",
       "      <td>...</td>\n",
       "      <td>...</td>\n",
       "    </tr>\n",
       "    <tr>\n",
       "      <th>38659</th>\n",
       "      <td>groothandel keuken accessoires</td>\n",
       "      <td>TRANS</td>\n",
       "    </tr>\n",
       "    <tr>\n",
       "      <th>38660</th>\n",
       "      <td>keuken accessoires groothandel</td>\n",
       "      <td>TRANS</td>\n",
       "    </tr>\n",
       "    <tr>\n",
       "      <th>38661</th>\n",
       "      <td>roze keuken accessoires</td>\n",
       "      <td>TRANS</td>\n",
       "    </tr>\n",
       "    <tr>\n",
       "      <th>38662</th>\n",
       "      <td>zwart wit keuken accessoires</td>\n",
       "      <td>TRANS</td>\n",
       "    </tr>\n",
       "    <tr>\n",
       "      <th>38663</th>\n",
       "      <td>greepjes keuken vervangen</td>\n",
       "      <td>TRANS</td>\n",
       "    </tr>\n",
       "  </tbody>\n",
       "</table>\n",
       "<p>38664 rows × 2 columns</p>\n",
       "</div>"
      ],
      "text/plain": [
       "                              Keyword Intentie\n",
       "0                             keuken     TRANS\n",
       "1                            koelkast    TRANS\n",
       "2                  inductie kookplaat    TRANS\n",
       "3                           afzuigkap    TRANS\n",
       "4                          vaatwasser    TRANS\n",
       "...                               ...      ...\n",
       "38659  groothandel keuken accessoires    TRANS\n",
       "38660  keuken accessoires groothandel    TRANS\n",
       "38661         roze keuken accessoires    TRANS\n",
       "38662    zwart wit keuken accessoires    TRANS\n",
       "38663       greepjes keuken vervangen    TRANS\n",
       "\n",
       "[38664 rows x 2 columns]"
      ]
     },
     "execution_count": 15,
     "metadata": {},
     "output_type": "execute_result"
    }
   ],
   "source": [
    "df_keukens"
   ]
  },
  {
   "cell_type": "code",
   "execution_count": 17,
   "metadata": {},
   "outputs": [],
   "source": [
    "#dataset omnzetten in csv file\n",
    "df_keukens.to_csv('intent-keuken.csv', index=False)"
   ]
  },
  {
   "attachments": {},
   "cell_type": "markdown",
   "metadata": {},
   "source": [
    "## Conclusie\n",
    "\n",
    "In dit script heb ik bekeken wat er precies in de dataset staat en of er waardes in staan die weggelaten kunnen worden. Gezien het een kleine dataset is, valt er aan visualisatie niet zo veel weer te geven.\n",
    "\n",
    "Deze dataset ga ik nu verder gebruiken voor het model."
   ]
  }
 ],
 "metadata": {
  "kernelspec": {
   "display_name": "Python 3.10.8 ('ghEnv')",
   "language": "python",
   "name": "python3"
  },
  "language_info": {
   "codemirror_mode": {
    "name": "ipython",
    "version": 3
   },
   "file_extension": ".py",
   "mimetype": "text/x-python",
   "name": "python",
   "nbconvert_exporter": "python",
   "pygments_lexer": "ipython3",
   "version": "3.9.15"
  },
  "orig_nbformat": 4,
  "vscode": {
   "interpreter": {
    "hash": "4e36532f3c67c9b69118d78b19504b28473073cb941c20407d484ae3432cb4aa"
   }
  }
 },
 "nbformat": 4,
 "nbformat_minor": 2
}
