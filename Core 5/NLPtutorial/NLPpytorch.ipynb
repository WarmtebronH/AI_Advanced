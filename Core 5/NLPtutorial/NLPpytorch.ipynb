{
 "cells": [
  {
   "attachments": {},
   "cell_type": "markdown",
   "metadata": {},
   "source": [
    "### 1. Data Understanding"
   ]
  },
  {
   "cell_type": "code",
   "execution_count": 1,
   "metadata": {},
   "outputs": [],
   "source": [
    "import pandas as pd\n",
    "\n",
    "data = pd.read_csv(\"afr.txt\", delimiter='\\t', header=None, names=['source', 'target', 'comments'])\n"
   ]
  },
  {
   "cell_type": "code",
   "execution_count": 2,
   "metadata": {},
   "outputs": [
    {
     "data": {
      "text/html": [
       "<div>\n",
       "<style scoped>\n",
       "    .dataframe tbody tr th:only-of-type {\n",
       "        vertical-align: middle;\n",
       "    }\n",
       "\n",
       "    .dataframe tbody tr th {\n",
       "        vertical-align: top;\n",
       "    }\n",
       "\n",
       "    .dataframe thead th {\n",
       "        text-align: right;\n",
       "    }\n",
       "</style>\n",
       "<table border=\"1\" class=\"dataframe\">\n",
       "  <thead>\n",
       "    <tr style=\"text-align: right;\">\n",
       "      <th></th>\n",
       "      <th>source</th>\n",
       "      <th>target</th>\n",
       "      <th>comments</th>\n",
       "    </tr>\n",
       "  </thead>\n",
       "  <tbody>\n",
       "    <tr>\n",
       "      <th>0</th>\n",
       "      <td>Come in.</td>\n",
       "      <td>Gaan binne.</td>\n",
       "      <td>CC-BY 2.0 (France) Attribution: tatoeba.org #3...</td>\n",
       "    </tr>\n",
       "    <tr>\n",
       "      <th>1</th>\n",
       "      <td>I'm full.</td>\n",
       "      <td>Ek is vol.</td>\n",
       "      <td>CC-BY 2.0 (France) Attribution: tatoeba.org #4...</td>\n",
       "    </tr>\n",
       "    <tr>\n",
       "      <th>2</th>\n",
       "      <td>She runs.</td>\n",
       "      <td>Sy hardloop.</td>\n",
       "      <td>CC-BY 2.0 (France) Attribution: tatoeba.org #6...</td>\n",
       "    </tr>\n",
       "    <tr>\n",
       "      <th>3</th>\n",
       "      <td>You lost.</td>\n",
       "      <td>Jy verloor.</td>\n",
       "      <td>CC-BY 2.0 (France) Attribution: tatoeba.org #6...</td>\n",
       "    </tr>\n",
       "    <tr>\n",
       "      <th>4</th>\n",
       "      <td>Go inside.</td>\n",
       "      <td>Gaan binne.</td>\n",
       "      <td>CC-BY 2.0 (France) Attribution: tatoeba.org #2...</td>\n",
       "    </tr>\n",
       "  </tbody>\n",
       "</table>\n",
       "</div>"
      ],
      "text/plain": [
       "       source        target                                           comments\n",
       "0    Come in.   Gaan binne.  CC-BY 2.0 (France) Attribution: tatoeba.org #3...\n",
       "1   I'm full.    Ek is vol.  CC-BY 2.0 (France) Attribution: tatoeba.org #4...\n",
       "2   She runs.  Sy hardloop.  CC-BY 2.0 (France) Attribution: tatoeba.org #6...\n",
       "3   You lost.   Jy verloor.  CC-BY 2.0 (France) Attribution: tatoeba.org #6...\n",
       "4  Go inside.   Gaan binne.  CC-BY 2.0 (France) Attribution: tatoeba.org #2..."
      ]
     },
     "execution_count": 2,
     "metadata": {},
     "output_type": "execute_result"
    }
   ],
   "source": [
    "data.head()"
   ]
  },
  {
   "cell_type": "code",
   "execution_count": 3,
   "metadata": {},
   "outputs": [
    {
     "name": "stdout",
     "output_type": "stream",
     "text": [
      "<class 'pandas.core.frame.DataFrame'>\n",
      "RangeIndex: 912 entries, 0 to 911\n",
      "Data columns (total 3 columns):\n",
      " #   Column    Non-Null Count  Dtype \n",
      "---  ------    --------------  ----- \n",
      " 0   source    912 non-null    object\n",
      " 1   target    912 non-null    object\n",
      " 2   comments  912 non-null    object\n",
      "dtypes: object(3)\n",
      "memory usage: 21.5+ KB\n"
     ]
    }
   ],
   "source": [
    "#Check what data we have, their count and their data type\n",
    "data.info()"
   ]
  },
  {
   "cell_type": "code",
   "execution_count": 10,
   "metadata": {},
   "outputs": [],
   "source": [
    "# drop comments\n",
    "data = data.drop(['comments'], axis=1)"
   ]
  },
  {
   "cell_type": "code",
   "execution_count": 11,
   "metadata": {},
   "outputs": [
    {
     "data": {
      "text/plain": [
       "(912, 2)"
      ]
     },
     "execution_count": 11,
     "metadata": {},
     "output_type": "execute_result"
    }
   ],
   "source": [
    "#Check the shape of the dataset\n",
    "data.shape"
   ]
  },
  {
   "cell_type": "code",
   "execution_count": 12,
   "metadata": {},
   "outputs": [
    {
     "data": {
      "text/plain": [
       "source    897\n",
       "target    848\n",
       "dtype: int64"
      ]
     },
     "execution_count": 12,
     "metadata": {},
     "output_type": "execute_result"
    }
   ],
   "source": [
    "#Check unique values\n",
    "data.nunique()"
   ]
  },
  {
   "attachments": {},
   "cell_type": "markdown",
   "metadata": {},
   "source": [
    "### 2. Data Cleaning\n",
    "\n",
    "Now I want to check if there are any empty columns and replace them with values"
   ]
  },
  {
   "cell_type": "code",
   "execution_count": 13,
   "metadata": {},
   "outputs": [
    {
     "data": {
      "text/plain": [
       "False"
      ]
     },
     "execution_count": 13,
     "metadata": {},
     "output_type": "execute_result"
    }
   ],
   "source": [
    "data.isnull().values.any()"
   ]
  },
  {
   "cell_type": "code",
   "execution_count": 43,
   "metadata": {},
   "outputs": [
    {
     "name": "stderr",
     "output_type": "stream",
     "text": [
      "C:\\Users\\heath\\AppData\\Local\\Temp\\ipykernel_1580\\2984938001.py:2: FutureWarning: The default value of regex will change from True to False in a future version. In addition, single character regular expressions will *not* be treated as literal strings when regex=True.\n",
      "  data[\"Afrikaans\"] = data[\"source\"].str.replace(\".\", \"\")\n",
      "C:\\Users\\heath\\AppData\\Local\\Temp\\ipykernel_1580\\2984938001.py:5: FutureWarning: The default value of regex will change from True to False in a future version. In addition, single character regular expressions will *not* be treated as literal strings when regex=True.\n",
      "  data[\"English\"] = data[\"target\"].str.replace(\".\", \"\")\n"
     ]
    }
   ],
   "source": [
    "# Remove all dots from the \"Afrikaans\" column\n",
    "data[\"Afrikaans\"] = data[\"source\"].str.replace(\".\", \"\")\n",
    "\n",
    "# Remove all dots from the \"English\" column\n",
    "data[\"English\"] = data[\"target\"].str.replace(\".\", \"\")"
   ]
  },
  {
   "cell_type": "code",
   "execution_count": 44,
   "metadata": {},
   "outputs": [
    {
     "name": "stderr",
     "output_type": "stream",
     "text": [
      "C:\\Users\\heath\\AppData\\Local\\Temp\\ipykernel_1580\\2999920383.py:2: FutureWarning: The default value of regex will change from True to False in a future version. In addition, single character regular expressions will *not* be treated as literal strings when regex=True.\n",
      "  data[\"Afrikaans\"] = data[\"Afrikaans\"].str.replace(\"?\", \"\")\n",
      "C:\\Users\\heath\\AppData\\Local\\Temp\\ipykernel_1580\\2999920383.py:5: FutureWarning: The default value of regex will change from True to False in a future version. In addition, single character regular expressions will *not* be treated as literal strings when regex=True.\n",
      "  data[\"English\"] = data[\"English\"].str.replace(\"?\", \"\")\n"
     ]
    }
   ],
   "source": [
    "# Remove all question marks from the \"Afrikaans\" column\n",
    "data[\"Afrikaans\"] = data[\"Afrikaans\"].str.replace(\"?\", \"\")\n",
    "\n",
    "# Remove all question marks from the \"English\" column\n",
    "data[\"English\"] = data[\"English\"].str.replace(\"?\", \"\")"
   ]
  },
  {
   "cell_type": "code",
   "execution_count": 45,
   "metadata": {},
   "outputs": [
    {
     "data": {
      "text/html": [
       "<div>\n",
       "<style scoped>\n",
       "    .dataframe tbody tr th:only-of-type {\n",
       "        vertical-align: middle;\n",
       "    }\n",
       "\n",
       "    .dataframe tbody tr th {\n",
       "        vertical-align: top;\n",
       "    }\n",
       "\n",
       "    .dataframe thead th {\n",
       "        text-align: right;\n",
       "    }\n",
       "</style>\n",
       "<table border=\"1\" class=\"dataframe\">\n",
       "  <thead>\n",
       "    <tr style=\"text-align: right;\">\n",
       "      <th></th>\n",
       "      <th>Afrikaans</th>\n",
       "      <th>English</th>\n",
       "    </tr>\n",
       "  </thead>\n",
       "  <tbody>\n",
       "    <tr>\n",
       "      <th>0</th>\n",
       "      <td>Come in</td>\n",
       "      <td>Gaan binne</td>\n",
       "    </tr>\n",
       "    <tr>\n",
       "      <th>1</th>\n",
       "      <td>I'm full</td>\n",
       "      <td>Ek is vol</td>\n",
       "    </tr>\n",
       "    <tr>\n",
       "      <th>2</th>\n",
       "      <td>She runs</td>\n",
       "      <td>Sy hardloop</td>\n",
       "    </tr>\n",
       "    <tr>\n",
       "      <th>3</th>\n",
       "      <td>You lost</td>\n",
       "      <td>Jy verloor</td>\n",
       "    </tr>\n",
       "    <tr>\n",
       "      <th>4</th>\n",
       "      <td>Go inside</td>\n",
       "      <td>Gaan binne</td>\n",
       "    </tr>\n",
       "    <tr>\n",
       "      <th>...</th>\n",
       "      <td>...</td>\n",
       "      <td>...</td>\n",
       "    </tr>\n",
       "    <tr>\n",
       "      <th>907</th>\n",
       "      <td>A 5% consumption tax is levied on purchases of...</td>\n",
       "      <td>'n Verbruiksbelasting van 5% word gehef op die...</td>\n",
       "    </tr>\n",
       "    <tr>\n",
       "      <th>908</th>\n",
       "      <td>Since you have a sore throat and a fever, you ...</td>\n",
       "      <td>Aangesien jy 'n seer keel en koors het moet jy...</td>\n",
       "    </tr>\n",
       "    <tr>\n",
       "      <th>909</th>\n",
       "      <td>In the past, the boys were taught to fend for ...</td>\n",
       "      <td>In die verlede was die seuns geleer om vir hul...</td>\n",
       "    </tr>\n",
       "    <tr>\n",
       "      <th>910</th>\n",
       "      <td>These three hours of driving have worn me out ...</td>\n",
       "      <td>Hierdie drie ure van bestuur het my uitgeput K...</td>\n",
       "    </tr>\n",
       "    <tr>\n",
       "      <th>911</th>\n",
       "      <td>I had an appointment at 2:30, but I got caught...</td>\n",
       "      <td>Ek het 'n afspraak gehad om 2:30, maar ek was ...</td>\n",
       "    </tr>\n",
       "  </tbody>\n",
       "</table>\n",
       "<p>912 rows × 2 columns</p>\n",
       "</div>"
      ],
      "text/plain": [
       "                                             Afrikaans  \\\n",
       "0                                              Come in   \n",
       "1                                             I'm full   \n",
       "2                                             She runs   \n",
       "3                                             You lost   \n",
       "4                                            Go inside   \n",
       "..                                                 ...   \n",
       "907  A 5% consumption tax is levied on purchases of...   \n",
       "908  Since you have a sore throat and a fever, you ...   \n",
       "909  In the past, the boys were taught to fend for ...   \n",
       "910  These three hours of driving have worn me out ...   \n",
       "911  I had an appointment at 2:30, but I got caught...   \n",
       "\n",
       "                                               English  \n",
       "0                                           Gaan binne  \n",
       "1                                            Ek is vol  \n",
       "2                                          Sy hardloop  \n",
       "3                                           Jy verloor  \n",
       "4                                           Gaan binne  \n",
       "..                                                 ...  \n",
       "907  'n Verbruiksbelasting van 5% word gehef op die...  \n",
       "908  Aangesien jy 'n seer keel en koors het moet jy...  \n",
       "909  In die verlede was die seuns geleer om vir hul...  \n",
       "910  Hierdie drie ure van bestuur het my uitgeput K...  \n",
       "911  Ek het 'n afspraak gehad om 2:30, maar ek was ...  \n",
       "\n",
       "[912 rows x 2 columns]"
      ]
     },
     "execution_count": 45,
     "metadata": {},
     "output_type": "execute_result"
    }
   ],
   "source": [
    "data.drop(['source', 'target'], axis= 1)"
   ]
  },
  {
   "attachments": {},
   "cell_type": "markdown",
   "metadata": {},
   "source": [
    "### Data Preperation\n",
    "\n",
    "Now I'll tokenize the words and count how often they appear in this data. "
   ]
  },
  {
   "cell_type": "code",
   "execution_count": 54,
   "metadata": {},
   "outputs": [
    {
     "name": "stdout",
     "output_type": "stream",
     "text": [
      "Most common words in 'source' column:\n",
      "[('i', 333), ('tom', 223), ('you', 219), (\"n't\", 210), ('to', 158), ('the', 131), ('be', 125), ('a', 109), ('is', 104), ('do', 86)]\n",
      "Most common words in 'target' column:\n",
      "[('nie', 456), ('ek', 323), ('tom', 222), ('het', 201), ('is', 193), ('die', 153), ('jy', 150), (\"'n\", 109), ('dit', 105), ('gaan', 91)]\n"
     ]
    }
   ],
   "source": [
    "import nltk\n",
    "from collections import Counter\n",
    "\n",
    "# Tokenize the sentences in the \"Afrikaans\" and \"English\" columns\n",
    "Afrikaans_sentences = [nltk.word_tokenize(sentence.lower()) for sentence in data['Afrikaans']]\n",
    "English_sentences = [nltk.word_tokenize(sentence.lower()) for sentence in data['English']]\n",
    "\n",
    "# Count the frequency of each word in the tokenized sentences\n",
    "Afrikaans_word_counts = Counter([word for sentence in Afrikaans_sentences for word in sentence])\n",
    "English_word_counts = Counter([word for sentence in English_sentences for word in sentence])\n",
    "\n",
    "# Sort the word frequencies in descending order\n",
    "most_common_source_words = Afrikaans_word_counts.most_common(10)\n",
    "most_common_target_words = English_word_counts.most_common(10)\n",
    "\n",
    "print(\"Most common words in 'source' column:\")\n",
    "print(most_common_source_words)\n",
    "\n",
    "print(\"Most common words in 'target' column:\")\n",
    "print(most_common_target_words)\n"
   ]
  },
  {
   "attachments": {},
   "cell_type": "markdown",
   "metadata": {},
   "source": [
    "The words 'I' and 'tom' seems to appear the most in the English dataset. <br>\n",
    "The words 'nie' and 'ek' seems to appear the most in the Afrikaans dataset."
   ]
  },
  {
   "cell_type": "code",
   "execution_count": 47,
   "metadata": {},
   "outputs": [
    {
     "data": {
      "text/plain": [
       "source       object\n",
       "target       object\n",
       "Afrikaans    object\n",
       "English      object\n",
       "dtype: object"
      ]
     },
     "execution_count": 47,
     "metadata": {},
     "output_type": "execute_result"
    }
   ],
   "source": [
    "data.dtypes"
   ]
  },
  {
   "cell_type": "code",
   "execution_count": 53,
   "metadata": {},
   "outputs": [
    {
     "name": "stdout",
     "output_type": "stream",
     "text": [
      "                                                source  \\\n",
      "117                                  The bill, please.   \n",
      "170                                 The check, please.   \n",
      "224                                Now, don't be late.   \n",
      "257                               You can go now, sir.   \n",
      "392                           What are you doing, Dad?   \n",
      "477                        I'd like one stamp, please.   \n",
      "601                     You don't know my dad, do you?   \n",
      "617                    This, however, is not possible.   \n",
      "619                    We'll have a problem, won't we?   \n",
      "620                    Will you pay attention, please?   \n",
      "643                   Would you move your car, please?   \n",
      "644                   Would you move your car, please?   \n",
      "672                 He invested 500,000 yen in stocks.   \n",
      "684                 Naturally, that's why we are here.   \n",
      "727                You can use my car, if you want to.   \n",
      "755              I've told you that before, haven't I?   \n",
      "775             Tom sat by the window, reading a book.   \n",
      "798           If you don't like it, then you can quit.   \n",
      "805          Apples are usually green, yellow, or red.   \n",
      "829         When he came to, he was lying in the park.   \n",
      "843        No matter what he may say, don't trust him.   \n",
      "847        Whatever you do, don't drop your new phone.   \n",
      "853      Tom might be able to do that, but I doubt it.   \n",
      "856     I had to walk there because my car broke down.   \n",
      "865     You can do whatever you want to do, of course.   \n",
      "868    No matter what you say, I won't change my mind.   \n",
      "871   I like grapes, but I can't eat too many of them.   \n",
      "874   Tom wasn't wearing socks, so his feet were cold.   \n",
      "882  Out of twenty students, only one has read the ...   \n",
      "885  I hate to interrupt you, but I need to say som...   \n",
      "887  Properly used, certain poisons will prove bene...   \n",
      "888  Yesterday at this time, we were at the movie t...   \n",
      "889  If you really want to know, all you have to do...   \n",
      "893  Can I speak to Tom, please? \"I'm sorry, he jus...   \n",
      "898  After lunch today, our plan is to take a walk ...   \n",
      "902  I don't know if I've ever told you, but you ha...   \n",
      "903  If you want more details about that, you'll ha...   \n",
      "906  As time went on, people grew less and less con...   \n",
      "908  Since you have a sore throat and a fever, you ...   \n",
      "909  In the past, the boys were taught to fend for ...   \n",
      "911  I had an appointment at 2:30, but I got caught...   \n",
      "\n",
      "                                                target  \\\n",
      "117                            Die rekening asseblief.   \n",
      "170                            Die rekening asseblief.   \n",
      "224                        Moet nie nou laat wees nie.   \n",
      "257                       Jy mag nou maar gaan meneer.   \n",
      "392                                Wat doen jy, pappa?   \n",
      "477                 Ek versoek een stempel, asseblief.   \n",
      "601                     Jy ken nie my pa nie, doen jy?   \n",
      "617                     Dit is egter nie moontlik nie.   \n",
      "619             Ons gaan 'n probleem hê, gaan ons nie?   \n",
      "620                       Sal jy asseblief aandag gee?   \n",
      "643                   Kan jy jou kar beweeg asseblief?   \n",
      "644                    Kan jy asseblief jou kar skuif.   \n",
      "672                Hy het 500,000 ten in aandele belê.   \n",
      "684                 Natuurlik, dis hoekom ons hier is.   \n",
      "727                   Jy kan my kar gebruik as jy wil.   \n",
      "755      Ek het dit voorheen vir jou gesê, het ek nie?   \n",
      "775       Tom sit by venster besig om 'n boek te lees.   \n",
      "798            As jy nie daarvan hou nie kan jy opgee.   \n",
      "805           Appels is gewoonlik groen, geel of rooi.   \n",
      "829             Toe hy bykom, het hy in die park gelê.   \n",
      "843  Dit maak nie saak wat hy sê nie, moet hom nie ...   \n",
      "847  Wat jy ook al doen, moenie die nuwe foon laat ...   \n",
      "853   Tom mag dit dalk kan doen, maar ek betwyfel dit.   \n",
      "856  Ek moes daarntoe loop, omdat my kar afgebreek ...   \n",
      "865        Jy kan natuurlik doen wat okal jy wil doen.   \n",
      "868  Ek gaan nie my keuse verander nie maak nie saa...   \n",
      "871  Ek hou van druiwe, maar kan nie te veel daarva...   \n",
      "874  Tom het nie sokkies gedra nie so sy voete was ...   \n",
      "882  Uit twintig studente het net een die book gelees.   \n",
      "885  Ek haat dit om jou te onderbreek, maar ek moet...   \n",
      "887  Met die korrekte gebruik is sommige gifstowwe ...   \n",
      "888         Gister hierdie tyd was on by die bioskoop.   \n",
      "889         As jy regtig sou wou weet moet jy net vra.   \n",
      "893  Kan ek assebleif met Tom praat? \"Ek is jammer,...   \n",
      "898  Ons plan is om 'n loop deur die park te neem n...   \n",
      "902  Ek weet nie of ek jou ooit gesê het nie, maar ...   \n",
      "903  As jy meer besonderhede oor dit versoek sal jy...   \n",
      "906  Met die verloop van tyd, het mense hulle minde...   \n",
      "908  Aangesien jy 'n seer keel en koors het moet jy...   \n",
      "909  In die verlede was die seuns geleer om vir hul...   \n",
      "911  Ek het 'n afspraak gehad om 2:30, maar ek was ...   \n",
      "\n",
      "                                             Afrikaans  \\\n",
      "117                                   The bill, please   \n",
      "170                                  The check, please   \n",
      "224                                 Now, don't be late   \n",
      "257                                You can go now, sir   \n",
      "392                            What are you doing, Dad   \n",
      "477                         I'd like one stamp, please   \n",
      "601                      You don't know my dad, do you   \n",
      "617                     This, however, is not possible   \n",
      "619                     We'll have a problem, won't we   \n",
      "620                     Will you pay attention, please   \n",
      "643                    Would you move your car, please   \n",
      "644                    Would you move your car, please   \n",
      "672                  He invested 500,000 yen in stocks   \n",
      "684                  Naturally, that's why we are here   \n",
      "727                 You can use my car, if you want to   \n",
      "755               I've told you that before, haven't I   \n",
      "775              Tom sat by the window, reading a book   \n",
      "798            If you don't like it, then you can quit   \n",
      "805           Apples are usually green, yellow, or red   \n",
      "829          When he came to, he was lying in the park   \n",
      "843         No matter what he may say, don't trust him   \n",
      "847         Whatever you do, don't drop your new phone   \n",
      "853       Tom might be able to do that, but I doubt it   \n",
      "856      I had to walk there because my car broke down   \n",
      "865      You can do whatever you want to do, of course   \n",
      "868     No matter what you say, I won't change my mind   \n",
      "871    I like grapes, but I can't eat too many of them   \n",
      "874    Tom wasn't wearing socks, so his feet were cold   \n",
      "882  Out of twenty students, only one has read the ...   \n",
      "885  I hate to interrupt you, but I need to say som...   \n",
      "887  Properly used, certain poisons will prove bene...   \n",
      "888  Yesterday at this time, we were at the movie t...   \n",
      "889  If you really want to know, all you have to do...   \n",
      "893  Can I speak to Tom, please \"I'm sorry, he just...   \n",
      "898  After lunch today, our plan is to take a walk ...   \n",
      "902  I don't know if I've ever told you, but you ha...   \n",
      "903  If you want more details about that, you'll ha...   \n",
      "906  As time went on, people grew less and less con...   \n",
      "908  Since you have a sore throat and a fever, you ...   \n",
      "909  In the past, the boys were taught to fend for ...   \n",
      "911  I had an appointment at 2:30, but I got caught...   \n",
      "\n",
      "                                               English  \n",
      "117                             Die rekening asseblief  \n",
      "170                             Die rekening asseblief  \n",
      "224                         Moet nie nou laat wees nie  \n",
      "257                        Jy mag nou maar gaan meneer  \n",
      "392                                 Wat doen jy, pappa  \n",
      "477                  Ek versoek een stempel, asseblief  \n",
      "601                      Jy ken nie my pa nie, doen jy  \n",
      "617                      Dit is egter nie moontlik nie  \n",
      "619              Ons gaan 'n probleem hê, gaan ons nie  \n",
      "620                        Sal jy asseblief aandag gee  \n",
      "643                    Kan jy jou kar beweeg asseblief  \n",
      "644                     Kan jy asseblief jou kar skuif  \n",
      "672                 Hy het 500,000 ten in aandele belê  \n",
      "684                  Natuurlik, dis hoekom ons hier is  \n",
      "727                    Jy kan my kar gebruik as jy wil  \n",
      "755       Ek het dit voorheen vir jou gesê, het ek nie  \n",
      "775        Tom sit by venster besig om 'n boek te lees  \n",
      "798             As jy nie daarvan hou nie kan jy opgee  \n",
      "805            Appels is gewoonlik groen, geel of rooi  \n",
      "829              Toe hy bykom, het hy in die park gelê  \n",
      "843  Dit maak nie saak wat hy sê nie, moet hom nie ...  \n",
      "847  Wat jy ook al doen, moenie die nuwe foon laat ...  \n",
      "853    Tom mag dit dalk kan doen, maar ek betwyfel dit  \n",
      "856  Ek moes daarntoe loop, omdat my kar afgebreek het  \n",
      "865         Jy kan natuurlik doen wat okal jy wil doen  \n",
      "868  Ek gaan nie my keuse verander nie maak nie saa...  \n",
      "871  Ek hou van druiwe, maar kan nie te veel daarva...  \n",
      "874  Tom het nie sokkies gedra nie so sy voete was ...  \n",
      "882   Uit twintig studente het net een die book gelees  \n",
      "885  Ek haat dit om jou te onderbreek, maar ek moet...  \n",
      "887  Met die korrekte gebruik is sommige gifstowwe ...  \n",
      "888          Gister hierdie tyd was on by die bioskoop  \n",
      "889          As jy regtig sou wou weet moet jy net vra  \n",
      "893  Kan ek assebleif met Tom praat \"Ek is jammer, ...  \n",
      "898  Ons plan is om 'n loop deur die park te neem n...  \n",
      "902  Ek weet nie of ek jou ooit gesê het nie, maar ...  \n",
      "903  As jy meer besonderhede oor dit versoek sal jy...  \n",
      "906  Met die verloop van tyd, het mense hulle minde...  \n",
      "908  Aangesien jy 'n seer keel en koors het moet jy...  \n",
      "909  In die verlede was die seuns geleer om vir hul...  \n",
      "911  Ek het 'n afspraak gehad om 2:30, maar ek was ...  \n",
      "                          source                     target  \\\n",
      "19                  What a pity!                Hoe jammer!   \n",
      "26                 Please hurry!        Maak asseblief gou!   \n",
      "29                 What a shame!                Hoe jammer!   \n",
      "34                Men don't cry.             Mans huil nie!   \n",
      "35                Men never cry.             Mans huil nie!   \n",
      "42                You are drunk!               Jy is dronk!   \n",
      "43                You are drunk!            Julle is dronk!   \n",
      "66              Congratulations!                Baie geluk!   \n",
      "154           Go there yourself.         Gaan self soontoe!   \n",
      "158           How disappointing!        Hoe teleurstellend!   \n",
      "216          Help! I'm drowning!         Help! Ek verdrink!   \n",
      "232          What a coincidence!             Wat 'n toeval!   \n",
      "248         That's quite enough!            Dis nou genoeg!   \n",
      "299       Change into your suit.          Trek jou pak aan!   \n",
      "319       That's the last straw!     Dis die laaste strooi.   \n",
      "484  Japan is full of surprises!  Japan is vol verrassings!   \n",
      "\n",
      "                       Afrikaans                    English  \n",
      "19                  What a pity!                Hoe jammer!  \n",
      "26                 Please hurry!        Maak asseblief gou!  \n",
      "29                 What a shame!                Hoe jammer!  \n",
      "34                 Men don't cry             Mans huil nie!  \n",
      "35                 Men never cry             Mans huil nie!  \n",
      "42                You are drunk!               Jy is dronk!  \n",
      "43                You are drunk!            Julle is dronk!  \n",
      "66              Congratulations!                Baie geluk!  \n",
      "154            Go there yourself         Gaan self soontoe!  \n",
      "158           How disappointing!        Hoe teleurstellend!  \n",
      "216          Help! I'm drowning!         Help! Ek verdrink!  \n",
      "232          What a coincidence!             Wat 'n toeval!  \n",
      "248         That's quite enough!            Dis nou genoeg!  \n",
      "299        Change into your suit          Trek jou pak aan!  \n",
      "319       That's the last straw!      Dis die laaste strooi  \n",
      "484  Japan is full of surprises!  Japan is vol verrassings!  \n"
     ]
    }
   ],
   "source": [
    "# Check for commas in each row of the dataframe\n",
    "has_commas = data.apply(lambda row: row.str.contains(\",\").any(), axis=1)\n",
    "\n",
    "has_excMark = data.apply(lambda row: row.str.contains(\"!\").any(), axis=1)\n",
    "\n",
    "# Print the rows that contain commas\n",
    "print(data[has_commas])\n",
    "print(data[has_excMark])\n"
   ]
  },
  {
   "cell_type": "code",
   "execution_count": null,
   "metadata": {},
   "outputs": [],
   "source": []
  }
 ],
 "metadata": {
  "kernelspec": {
   "display_name": "chessEnv",
   "language": "python",
   "name": "python3"
  },
  "language_info": {
   "codemirror_mode": {
    "name": "ipython",
    "version": 3
   },
   "file_extension": ".py",
   "mimetype": "text/x-python",
   "name": "python",
   "nbconvert_exporter": "python",
   "pygments_lexer": "ipython3",
   "version": "3.10.9"
  },
  "orig_nbformat": 4
 },
 "nbformat": 4,
 "nbformat_minor": 2
}
