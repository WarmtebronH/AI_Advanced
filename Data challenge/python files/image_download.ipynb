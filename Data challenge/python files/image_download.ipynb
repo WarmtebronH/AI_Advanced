{
 "cells": [
  {
   "attachments": {},
   "cell_type": "markdown",
   "metadata": {},
   "source": [
    "# Download image from image url\n",
    "\n",
    "As I only possess the image URLs and not the actual images, my initial step is to download the images."
   ]
  },
  {
   "cell_type": "code",
   "execution_count": null,
   "metadata": {},
   "outputs": [],
   "source": [
    "import pandas as pd\n",
    "observation_df = pd.read_csv('observations.csv')"
   ]
  },
  {
   "attachments": {},
   "cell_type": "markdown",
   "metadata": {},
   "source": [
    "## Import libraries"
   ]
  },
  {
   "cell_type": "code",
   "execution_count": null,
   "metadata": {},
   "outputs": [],
   "source": [
    "import requests\n",
    "from PIL import Image\n",
    "from io import BytesIO\n",
    "import os"
   ]
  },
  {
   "attachments": {},
   "cell_type": "markdown",
   "metadata": {},
   "source": [
    "## 2. Create a function to download and preprocess images"
   ]
  },
  {
   "cell_type": "code",
   "execution_count": null,
   "metadata": {},
   "outputs": [],
   "source": [
    "def download_and_preprocess_image(url, save_path, target_size=(224, 224)):\n",
    "    try:\n",
    "        response = requests.get(url, timeout=5)\n",
    "        img = Image.open(BytesIO(response.content))\n",
    "        img = img.convert('RGB')\n",
    "        img = img.resize(target_size, Image.ANTIALIAS)\n",
    "        img.save(save_path)\n",
    "        return True\n",
    "    except Exception as e:\n",
    "        print(f\"Error downloading and processing image: {e}\")\n",
    "        return False"
   ]
  },
  {
   "attachments": {},
   "cell_type": "markdown",
   "metadata": {},
   "source": [
    "## 3. Create a directory to store the downloaded images"
   ]
  },
  {
   "cell_type": "code",
   "execution_count": null,
   "metadata": {},
   "outputs": [],
   "source": [
    "images_dir = 'images'\n",
    "os.makedirs(images_dir, exist_ok=True)"
   ]
  },
  {
   "attachments": {},
   "cell_type": "markdown",
   "metadata": {},
   "source": [
    "## 4. Iterate through the dataset and downlaod images using the 'image_url' column"
   ]
  },
  {
   "cell_type": "code",
   "execution_count": null,
   "metadata": {},
   "outputs": [],
   "source": [
    "for idx, row in observation_df.iterrows():\n",
    "    image_url = row['image_url']\n",
    "    if not pd.isnull(image_url):\n",
    "        file_name = f\"{row['id']}_{row['scientific_name'].replace(' ', '_')}.jpg\"\n",
    "        save_path = os.path.join(images_dir, file_name)\n",
    "        success = download_and_preprocess_image(image_url, save_path)\n",
    "        if success:\n",
    "            print(f\"Downloaded and processed image for ID: {row['id']}\")\n",
    "        else:\n",
    "            print(f\"Failed to download and process image for ID: {row['id']}\")"
   ]
  }
 ],
 "metadata": {
  "kernelspec": {
   "display_name": "ghEnv",
   "language": "python",
   "name": "python3"
  },
  "language_info": {
   "name": "python",
   "version": "3.9.15"
  },
  "orig_nbformat": 4
 },
 "nbformat": 4,
 "nbformat_minor": 2
}
