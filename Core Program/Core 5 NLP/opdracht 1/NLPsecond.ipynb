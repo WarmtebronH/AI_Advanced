{
 "cells": [
  {
   "attachments": {},
   "cell_type": "markdown",
   "metadata": {},
   "source": [
    "# NLP project\n",
    "\n",
    "I'm about to start my second NLP task and I'm trying out a faster and shorter NLP method this time around. However, the dataset I'm working with only has two sentiment values - positive and negative - which won't work with my model. So, I've decided to add a start and stop token to the dataset to make it fit better. This should improve the accuracy of my model and allow for more detailed analysis of the data."
   ]
  },
  {
   "cell_type": "code",
   "execution_count": 1,
   "metadata": {},
   "outputs": [
    {
     "data": {
      "text/html": [
       "<div>\n",
       "<style scoped>\n",
       "    .dataframe tbody tr th:only-of-type {\n",
       "        vertical-align: middle;\n",
       "    }\n",
       "\n",
       "    .dataframe tbody tr th {\n",
       "        vertical-align: top;\n",
       "    }\n",
       "\n",
       "    .dataframe thead th {\n",
       "        text-align: right;\n",
       "    }\n",
       "</style>\n",
       "<table border=\"1\" class=\"dataframe\">\n",
       "  <thead>\n",
       "    <tr style=\"text-align: right;\">\n",
       "      <th></th>\n",
       "      <th>review</th>\n",
       "      <th>sentiment</th>\n",
       "    </tr>\n",
       "  </thead>\n",
       "  <tbody>\n",
       "    <tr>\n",
       "      <th>0</th>\n",
       "      <td>One of the other reviewers has mentioned that ...</td>\n",
       "      <td>positive</td>\n",
       "    </tr>\n",
       "    <tr>\n",
       "      <th>1</th>\n",
       "      <td>A wonderful little production. &lt;br /&gt;&lt;br /&gt;The...</td>\n",
       "      <td>positive</td>\n",
       "    </tr>\n",
       "    <tr>\n",
       "      <th>2</th>\n",
       "      <td>I thought this was a wonderful way to spend ti...</td>\n",
       "      <td>positive</td>\n",
       "    </tr>\n",
       "    <tr>\n",
       "      <th>3</th>\n",
       "      <td>Basically there's a family where a little boy ...</td>\n",
       "      <td>negative</td>\n",
       "    </tr>\n",
       "    <tr>\n",
       "      <th>4</th>\n",
       "      <td>Petter Mattei's \"Love in the Time of Money\" is...</td>\n",
       "      <td>positive</td>\n",
       "    </tr>\n",
       "  </tbody>\n",
       "</table>\n",
       "</div>"
      ],
      "text/plain": [
       "                                              review sentiment\n",
       "0  One of the other reviewers has mentioned that ...  positive\n",
       "1  A wonderful little production. <br /><br />The...  positive\n",
       "2  I thought this was a wonderful way to spend ti...  positive\n",
       "3  Basically there's a family where a little boy ...  negative\n",
       "4  Petter Mattei's \"Love in the Time of Money\" is...  positive"
      ]
     },
     "execution_count": 1,
     "metadata": {},
     "output_type": "execute_result"
    }
   ],
   "source": [
    "import pandas as pd\n",
    "import numpy as np\n",
    "from keras.preprocessing.text import Tokenizer\n",
    "from keras.layers import Input, LSTM, Dense, Embedding\n",
    "from keras.models import Model\n",
    "from keras.utils import pad_sequences\n",
    "\n",
    "# Read in the dataset\n",
    "data = pd.read_csv(\"IMDB Dataset.csv\")\n",
    "\n",
    "data.head()\n",
    "\n"
   ]
  },
  {
   "attachments": {},
   "cell_type": "markdown",
   "metadata": {},
   "source": [
    "## Adding a start and stop token."
   ]
  },
  {
   "cell_type": "code",
   "execution_count": 2,
   "metadata": {},
   "outputs": [
    {
     "data": {
      "text/html": [
       "<div>\n",
       "<style scoped>\n",
       "    .dataframe tbody tr th:only-of-type {\n",
       "        vertical-align: middle;\n",
       "    }\n",
       "\n",
       "    .dataframe tbody tr th {\n",
       "        vertical-align: top;\n",
       "    }\n",
       "\n",
       "    .dataframe thead th {\n",
       "        text-align: right;\n",
       "    }\n",
       "</style>\n",
       "<table border=\"1\" class=\"dataframe\">\n",
       "  <thead>\n",
       "    <tr style=\"text-align: right;\">\n",
       "      <th></th>\n",
       "      <th>review</th>\n",
       "      <th>sentiment</th>\n",
       "    </tr>\n",
       "  </thead>\n",
       "  <tbody>\n",
       "    <tr>\n",
       "      <th>0</th>\n",
       "      <td>One of the other reviewers has mentioned that ...</td>\n",
       "      <td>&lt;START&gt; positive &lt;STOP&gt;</td>\n",
       "    </tr>\n",
       "    <tr>\n",
       "      <th>1</th>\n",
       "      <td>A wonderful little production. &lt;br /&gt;&lt;br /&gt;The...</td>\n",
       "      <td>&lt;START&gt; positive &lt;STOP&gt;</td>\n",
       "    </tr>\n",
       "    <tr>\n",
       "      <th>2</th>\n",
       "      <td>I thought this was a wonderful way to spend ti...</td>\n",
       "      <td>&lt;START&gt; positive &lt;STOP&gt;</td>\n",
       "    </tr>\n",
       "    <tr>\n",
       "      <th>3</th>\n",
       "      <td>Basically there's a family where a little boy ...</td>\n",
       "      <td>&lt;START&gt; negative &lt;STOP&gt;</td>\n",
       "    </tr>\n",
       "    <tr>\n",
       "      <th>4</th>\n",
       "      <td>Petter Mattei's \"Love in the Time of Money\" is...</td>\n",
       "      <td>&lt;START&gt; positive &lt;STOP&gt;</td>\n",
       "    </tr>\n",
       "    <tr>\n",
       "      <th>...</th>\n",
       "      <td>...</td>\n",
       "      <td>...</td>\n",
       "    </tr>\n",
       "    <tr>\n",
       "      <th>49995</th>\n",
       "      <td>I thought this movie did a down right good job...</td>\n",
       "      <td>&lt;START&gt; positive &lt;STOP&gt;</td>\n",
       "    </tr>\n",
       "    <tr>\n",
       "      <th>49996</th>\n",
       "      <td>Bad plot, bad dialogue, bad acting, idiotic di...</td>\n",
       "      <td>&lt;START&gt; negative &lt;STOP&gt;</td>\n",
       "    </tr>\n",
       "    <tr>\n",
       "      <th>49997</th>\n",
       "      <td>I am a Catholic taught in parochial elementary...</td>\n",
       "      <td>&lt;START&gt; negative &lt;STOP&gt;</td>\n",
       "    </tr>\n",
       "    <tr>\n",
       "      <th>49998</th>\n",
       "      <td>I'm going to have to disagree with the previou...</td>\n",
       "      <td>&lt;START&gt; negative &lt;STOP&gt;</td>\n",
       "    </tr>\n",
       "    <tr>\n",
       "      <th>49999</th>\n",
       "      <td>No one expects the Star Trek movies to be high...</td>\n",
       "      <td>&lt;START&gt; negative &lt;STOP&gt;</td>\n",
       "    </tr>\n",
       "  </tbody>\n",
       "</table>\n",
       "<p>50000 rows × 2 columns</p>\n",
       "</div>"
      ],
      "text/plain": [
       "                                                  review  \\\n",
       "0      One of the other reviewers has mentioned that ...   \n",
       "1      A wonderful little production. <br /><br />The...   \n",
       "2      I thought this was a wonderful way to spend ti...   \n",
       "3      Basically there's a family where a little boy ...   \n",
       "4      Petter Mattei's \"Love in the Time of Money\" is...   \n",
       "...                                                  ...   \n",
       "49995  I thought this movie did a down right good job...   \n",
       "49996  Bad plot, bad dialogue, bad acting, idiotic di...   \n",
       "49997  I am a Catholic taught in parochial elementary...   \n",
       "49998  I'm going to have to disagree with the previou...   \n",
       "49999  No one expects the Star Trek movies to be high...   \n",
       "\n",
       "                     sentiment  \n",
       "0      <START> positive <STOP>  \n",
       "1      <START> positive <STOP>  \n",
       "2      <START> positive <STOP>  \n",
       "3      <START> negative <STOP>  \n",
       "4      <START> positive <STOP>  \n",
       "...                        ...  \n",
       "49995  <START> positive <STOP>  \n",
       "49996  <START> negative <STOP>  \n",
       "49997  <START> negative <STOP>  \n",
       "49998  <START> negative <STOP>  \n",
       "49999  <START> negative <STOP>  \n",
       "\n",
       "[50000 rows x 2 columns]"
      ]
     },
     "execution_count": 2,
     "metadata": {},
     "output_type": "execute_result"
    }
   ],
   "source": [
    "# Define the start and stop tokens\n",
    "start_token = '<START>'\n",
    "stop_token = '<STOP>'\n",
    "\n",
    "# Add start and stop tokens to the sentiment column\n",
    "data['sentiment'] = data['sentiment'].apply(lambda x: start_token + ' ' + x + ' ' + stop_token)\n",
    "data\n"
   ]
  },
  {
   "attachments": {},
   "cell_type": "markdown",
   "metadata": {},
   "source": [
    "## Data Cleaning\n",
    "\n",
    "In order to improve the outcome of our analysis, we need to remove any punctuation and website URLs that may be present in the review data column. This is because such extraneous elements can interfere with the accuracy of our NLP model and produce less reliable results. Therefore, it is important to preprocess the data by removing any unnecessary elements before conducting any analysis or modeling."
   ]
  },
  {
   "attachments": {},
   "cell_type": "markdown",
   "metadata": {},
   "source": [
    "### Visualizing the data"
   ]
  },
  {
   "cell_type": "code",
   "execution_count": 3,
   "metadata": {},
   "outputs": [
    {
     "name": "stdout",
     "output_type": "stream",
     "text": [
      "First 10 samples of good reviews\n",
      " 0     One of the other reviewers has mentioned that ...\n",
      "1     A wonderful little production. <br /><br />The...\n",
      "2     I thought this was a wonderful way to spend ti...\n",
      "4     Petter Mattei's \"Love in the Time of Money\" is...\n",
      "5     Probably my all-time favorite movie, a story o...\n",
      "6     I sure would like to see a resurrection of a u...\n",
      "9     If you like original gut wrenching laughter yo...\n",
      "14    This a fantastic movie of three prisoners who ...\n",
      "16    Some films just simply should not be remade. T...\n",
      "18    I remember this film,it was the first film i h...\n",
      "Name: review, dtype: object\n",
      "First 10 samples of bad reviews\n",
      " 3     Basically there's a family where a little boy ...\n",
      "7     This show was an amazing, fresh & innovative i...\n",
      "8     Encouraged by the positive comments about this...\n",
      "10    Phil the Alien is one of those quirky films wh...\n",
      "11    I saw this movie when I was about 12 when it c...\n",
      "12    So im not a big fan of Boll's work but then ag...\n",
      "13    The cast played Shakespeare.<br /><br />Shakes...\n",
      "15    Kind of drawn in by the erotic scenes, only to...\n",
      "17    This movie made it into one of my top 10 most ...\n",
      "19    An awful film! It must have been up against so...\n",
      "Name: review, dtype: object\n"
     ]
    }
   ],
   "source": [
    "good_reviews=data[data['sentiment']=='<START> positive <STOP>']['review']\n",
    "bad_reviews=data[data['sentiment']=='<START> negative <STOP>']['review']\n",
    "print(\"First 10 samples of good reviews\\n\".format(),good_reviews[:10])\n",
    "print(\"First 10 samples of bad reviews\\n\".format(),bad_reviews[:10])"
   ]
  },
  {
   "cell_type": "code",
   "execution_count": 4,
   "metadata": {},
   "outputs": [
    {
     "name": "stdout",
     "output_type": "stream",
     "text": [
      "Total Counts of both sets <START> positive <STOP>    25000\n",
      "<START> negative <STOP>    25000\n",
      "Name: sentiment, dtype: int64\n",
      "==============\n"
     ]
    },
    {
     "data": {
      "image/png": "[encoded data removed]",
      "text/plain": [
       "<Figure size 600x600 with 1 Axes>"
      ]
     },
     "metadata": {},
     "output_type": "display_data"
    }
   ],
   "source": [
    "import matplotlib.pyplot as plt\n",
    "\n",
    "#Count of good and bad reviews\n",
    "count=data['sentiment'].value_counts()\n",
    "print('Total Counts of both sets'.format(),count)\n",
    "\n",
    "print(\"==============\")\n",
    "#Creating a function to plot the counts using matplotlib\n",
    "def plot_counts(count_good,count_bad):\n",
    "    plt.rcParams['figure.figsize']=(6,6)\n",
    "    plt.bar(0,count_good,width=0.6,label='Positive Reviews',color='Green')\n",
    "    plt.legend()\n",
    "    plt.bar(2,count_bad,width=0.6,label='Negative Reviews',color='Red')\n",
    "    plt.legend()\n",
    "    plt.ylabel('Count of Reviews')\n",
    "    plt.xlabel('Types of Reviews')\n",
    "    plt.show()\n",
    "    \n",
    "count_good=data[data['sentiment']=='<START> positive <STOP>']\n",
    "count_bad=data[data['sentiment']=='<START> negative <STOP>']\n",
    "plot_counts(len(count_good),len(count_bad))"
   ]
  },
  {
   "cell_type": "code",
   "execution_count": 5,
   "metadata": {},
   "outputs": [
    {
     "data": {
      "text/plain": [
       "<Axes: >"
      ]
     },
     "execution_count": 5,
     "metadata": {},
     "output_type": "execute_result"
    },
    {
     "data": {
      "image/png": "[encoded data removed]",
      "text/plain": [
       "<Figure size 600x600 with 1 Axes>"
      ]
     },
     "metadata": {},
     "output_type": "display_data"
    }
   ],
   "source": [
    "import seaborn as sns\n",
    "from collections import Counter\n",
    "from nltk.corpus import stopwords\n",
    "stop_words = stopwords.words('english')\n",
    "\n",
    "stops=set(stopwords.words('english'))\n",
    "\n",
    "#Simplified counter function\n",
    "def create_corpus(word):\n",
    "    corpus=[]\n",
    "    \n",
    "    for x in data[data['sentiment']==word]['review'].str.split():\n",
    "        for i in x:\n",
    "            corpus.append(i)\n",
    "    return corpus\n",
    "\n",
    "corpus=create_corpus('<START> positive <STOP>')\n",
    "counter=Counter(corpus)\n",
    "most=counter.most_common()\n",
    "x=[]\n",
    "y=[]\n",
    "for word,count in most[:100]:\n",
    "    if (word not in stops) :\n",
    "        x.append(word)\n",
    "        y.append(count)\n",
    "sns.barplot(x=y,y=x)"
   ]
  },
  {
   "attachments": {},
   "cell_type": "markdown",
   "metadata": {},
   "source": [
    "### Cleaning the data"
   ]
  },
  {
   "cell_type": "code",
   "execution_count": 6,
   "metadata": {},
   "outputs": [
    {
     "name": "stdout",
     "output_type": "stream",
     "text": [
      "CPU times: total: 2.55 s\n",
      "Wall time: 3.56 s\n"
     ]
    }
   ],
   "source": [
    "%%time\n",
    "import re\n",
    "#Removes Punctuations\n",
    "def remove_punctuations(data):\n",
    "    punct_tag=re.compile(r'[^\\w\\s]')\n",
    "    data=punct_tag.sub(r'',data)\n",
    "    return data\n",
    "\n",
    "#Removes HTML syntaxes\n",
    "def remove_html(data):\n",
    "    html_tag=re.compile(r'<.*?>')\n",
    "    data=html_tag.sub(r'',data)\n",
    "    return data\n",
    "\n",
    "#Removes URL data\n",
    "def remove_url(data):\n",
    "    url_clean= re.compile(r\"https://\\S+|www\\.\\S+\")\n",
    "    data=url_clean.sub(r'',data)\n",
    "    return data\n",
    "\n",
    "#Removes Emojis\n",
    "def remove_emoji(data):\n",
    "    emoji_clean= re.compile(\"[\"\n",
    "                           u\"\\U0001F600-\\U0001F64F\"  # emoticons\n",
    "                           u\"\\U0001F300-\\U0001F5FF\"  # symbols & pictographs\n",
    "                           u\"\\U0001F680-\\U0001F6FF\"  # transport & map symbols\n",
    "                           u\"\\U0001F1E0-\\U0001F1FF\"  # flags (iOS)\n",
    "                           u\"\\U00002702-\\U000027B0\"\n",
    "                           u\"\\U000024C2-\\U0001F251\"\n",
    "                           \"]+\", flags=re.UNICODE)\n",
    "    data=emoji_clean.sub(r'',data)\n",
    "    url_clean= re.compile(r\"https://\\S+|www\\.\\S+\")\n",
    "    data=url_clean.sub(r'',data)\n",
    "    return data\n",
    "\n",
    "data['review']=data['review'].apply(lambda z: remove_punctuations(z))\n",
    "\n",
    "data['review']=data['review'].apply(lambda z: remove_html(z))\n",
    "data['review']=data['review'].apply(lambda z: remove_url(z))\n",
    "data['review']=data['review'].apply(lambda z: remove_emoji(z))"
   ]
  },
  {
   "cell_type": "code",
   "execution_count": 7,
   "metadata": {},
   "outputs": [],
   "source": [
    "## In this case, we will be replacing some abbreviated pronouns with full forms (example:\"you've\"->you have\")\n",
    "def remove_abb(data):\n",
    "    data = re.sub(r\"he's\", \"he is\", data)\n",
    "    data = re.sub(r\"there's\", \"there is\", data)\n",
    "    data = re.sub(r\"We're\", \"We are\", data)\n",
    "    data = re.sub(r\"That's\", \"That is\", data)\n",
    "    data = re.sub(r\"won't\", \"will not\", data)\n",
    "    data = re.sub(r\"they're\", \"they are\", data)\n",
    "    data = re.sub(r\"Can't\", \"Cannot\", data)\n",
    "    data = re.sub(r\"wasn't\", \"was not\", data)\n",
    "    data = re.sub(r\"don\\x89Ûªt\", \"do not\", data)\n",
    "    data= re.sub(r\"aren't\", \"are not\", data)\n",
    "    data = re.sub(r\"isn't\", \"is not\", data)\n",
    "    data = re.sub(r\"What's\", \"What is\", data)\n",
    "    data = re.sub(r\"haven't\", \"have not\", data)\n",
    "    data = re.sub(r\"hasn't\", \"has not\", data)\n",
    "    data = re.sub(r\"There's\", \"There is\", data)\n",
    "    data = re.sub(r\"He's\", \"He is\", data)\n",
    "    data = re.sub(r\"It's\", \"It is\", data)\n",
    "    data = re.sub(r\"You're\", \"You are\", data)\n",
    "    data = re.sub(r\"I'M\", \"I am\", data)\n",
    "    data = re.sub(r\"shouldn't\", \"should not\", data)\n",
    "    data = re.sub(r\"wouldn't\", \"would not\", data)\n",
    "    data = re.sub(r\"i'm\", \"I am\", data)\n",
    "    data = re.sub(r\"I\\x89Ûªm\", \"I am\", data)\n",
    "    data = re.sub(r\"I'm\", \"I am\", data)\n",
    "    data = re.sub(r\"Isn't\", \"is not\", data)\n",
    "    data = re.sub(r\"Here's\", \"Here is\", data)\n",
    "    data = re.sub(r\"you've\", \"you have\", data)\n",
    "    data = re.sub(r\"you\\x89Ûªve\", \"you have\", data)\n",
    "    data = re.sub(r\"we're\", \"we are\", data)\n",
    "    data = re.sub(r\"what's\", \"what is\", data)\n",
    "    data = re.sub(r\"couldn't\", \"could not\", data)\n",
    "    data = re.sub(r\"we've\", \"we have\", data)\n",
    "    data = re.sub(r\"it\\x89Ûªs\", \"it is\", data)\n",
    "    data = re.sub(r\"doesn\\x89Ûªt\", \"does not\", data)\n",
    "    data = re.sub(r\"It\\x89Ûªs\", \"It is\", data)\n",
    "    data = re.sub(r\"Here\\x89Ûªs\", \"Here is\", data)\n",
    "    data = re.sub(r\"who's\", \"who is\", data)\n",
    "    data = re.sub(r\"I\\x89Ûªve\", \"I have\", data)\n",
    "    data = re.sub(r\"y'all\", \"you all\", data)\n",
    "    data = re.sub(r\"can\\x89Ûªt\", \"cannot\", data)\n",
    "    data = re.sub(r\"would've\", \"would have\", data)\n",
    "    data = re.sub(r\"it'll\", \"it will\", data)\n",
    "    data = re.sub(r\"we'll\", \"we will\", data)\n",
    "    data = re.sub(r\"wouldn\\x89Ûªt\", \"would not\", data)\n",
    "    data = re.sub(r\"We've\", \"We have\", data)\n",
    "    data = re.sub(r\"he'll\", \"he will\", data)\n",
    "    data = re.sub(r\"Y'all\", \"You all\", data)\n",
    "    data = re.sub(r\"Weren't\", \"Were not\", data)\n",
    "    data = re.sub(r\"Didn't\", \"Did not\", data)\n",
    "    data = re.sub(r\"they'll\", \"they will\", data)\n",
    "    data = re.sub(r\"they'd\", \"they would\", data)\n",
    "    data = re.sub(r\"DON'T\", \"DO NOT\", data)\n",
    "    data = re.sub(r\"That\\x89Ûªs\", \"That is\", data)\n",
    "    data = re.sub(r\"they've\", \"they have\", data)\n",
    "    data = re.sub(r\"i'd\", \"I would\", data)\n",
    "    data = re.sub(r\"should've\", \"should have\", data)\n",
    "    data = re.sub(r\"You\\x89Ûªre\", \"You are\", data)\n",
    "    data = re.sub(r\"where's\", \"where is\", data)\n",
    "    data = re.sub(r\"Don\\x89Ûªt\", \"Do not\", data)\n",
    "    data = re.sub(r\"we'd\", \"we would\", data)\n",
    "    data = re.sub(r\"i'll\", \"I will\", data)\n",
    "    data = re.sub(r\"weren't\", \"were not\", data)\n",
    "    data = re.sub(r\"They're\", \"They are\", data)\n",
    "    data = re.sub(r\"Can\\x89Ûªt\", \"Cannot\", data)\n",
    "    data = re.sub(r\"you\\x89Ûªll\", \"you will\", data)\n",
    "    data = re.sub(r\"I\\x89Ûªd\", \"I would\", data)\n",
    "    data = re.sub(r\"let's\", \"let us\", data)\n",
    "    data = re.sub(r\"it's\", \"it is\", data)\n",
    "    data = re.sub(r\"can't\", \"cannot\", data)\n",
    "    data = re.sub(r\"don't\", \"do not\", data)\n",
    "    data = re.sub(r\"you're\", \"you are\", data)\n",
    "    data = re.sub(r\"i've\", \"I have\", data)\n",
    "    data = re.sub(r\"that's\", \"that is\", data)\n",
    "    data = re.sub(r\"i'll\", \"I will\", data)\n",
    "    data = re.sub(r\"doesn't\", \"does not\",data)\n",
    "    data = re.sub(r\"i'd\", \"I would\", data)\n",
    "    data = re.sub(r\"didn't\", \"did not\", data)\n",
    "    data = re.sub(r\"ain't\", \"am not\", data)\n",
    "    data = re.sub(r\"you'll\", \"you will\", data)\n",
    "    data = re.sub(r\"I've\", \"I have\", data)\n",
    "    data = re.sub(r\"Don't\", \"do not\", data)\n",
    "    data = re.sub(r\"I'll\", \"I will\", data)\n",
    "    data = re.sub(r\"I'd\", \"I would\", data)\n",
    "    data = re.sub(r\"Let's\", \"Let us\", data)\n",
    "    data = re.sub(r\"you'd\", \"You would\", data)\n",
    "    data = re.sub(r\"It's\", \"It is\", data)\n",
    "    data = re.sub(r\"Ain't\", \"am not\", data)\n",
    "    data = re.sub(r\"Haven't\", \"Have not\", data)\n",
    "    data = re.sub(r\"Could've\", \"Could have\", data)\n",
    "    data = re.sub(r\"youve\", \"you have\", data)  \n",
    "    data = re.sub(r\"donå«t\", \"do not\", data) \n",
    "    return data \n",
    "\n",
    "data['review']=data['review'].apply(lambda z: remove_abb(z))"
   ]
  },
  {
   "cell_type": "code",
   "execution_count": 8,
   "metadata": {},
   "outputs": [
    {
     "data": {
      "text/plain": [
       "0    One of the other reviewers has mentioned that ...\n",
       "1    A wonderful little production br br The filmin...\n",
       "2    I thought this was a wonderful way to spend ti...\n",
       "3    Basically theres a family where a little boy J...\n",
       "4    Petter Matteis Love in the Time of Money is a ...\n",
       "Name: review, dtype: object"
      ]
     },
     "execution_count": 8,
     "metadata": {},
     "output_type": "execute_result"
    }
   ],
   "source": [
    "data['review'][:5]"
   ]
  },
  {
   "attachments": {},
   "cell_type": "markdown",
   "metadata": {},
   "source": [
    "## Tokenizing\n",
    "\n",
    "After cleaning the data, the next step is to tokenize all the words in the dataset. This means converting the words in tThe next step is to tokenize and pad the DataFrame. To do this, we need to determine the number of unique words present in the dataset. Since the dataset is quite large, we will use a fixed length of 1000 words for our analysis. This means that any reviews with more than 1000 words will be truncated, and any reviews with fewer than 1000 words will be padded with zeros to reach the desired length. This will allow us to represent each review as a fixed-length sequence of tokens, which can be used as input to our model."
   ]
  },
  {
   "cell_type": "code",
   "execution_count": 9,
   "metadata": {},
   "outputs": [],
   "source": [
    "# Convert text to lowercase\n",
    "data['review'] = data['review'].apply(lambda x: x.lower())\n",
    "\n",
    "# Tokenize the text\n",
    "review_tokenizer = Tokenizer()\n",
    "review_tokenizer.fit_on_texts(data['review'])\n",
    "sentiment_tokenizer = Tokenizer()\n",
    "sentiment_tokenizer.fit_on_texts(data['sentiment'])\n",
    "\n",
    "# Convert text to sequences of integers\n",
    "review_sequences = review_tokenizer.texts_to_sequences(data['review'])\n",
    "sentiment_sequences = sentiment_tokenizer.texts_to_sequences(data['sentiment'])\n",
    "\n",
    "# Pad sequences to a fixed length\n",
    "max_sequence_length = 100\n",
    "review_data = pad_sequences(review_sequences, maxlen=max_sequence_length, padding='post')\n",
    "sentiment_data = pad_sequences(sentiment_sequences, maxlen=3, padding='post')"
   ]
  },
  {
   "attachments": {},
   "cell_type": "markdown",
   "metadata": {},
   "source": [
    "In this code, we first read in the dataset. We then convert the text to lowercase and tokenize the text using Keras' Tokenizer class. We also pad the sequences to a fixed length of 100.\n",
    "\n",
    "Next, we split the data into training and validation sets."
   ]
  },
  {
   "cell_type": "code",
   "execution_count": 10,
   "metadata": {},
   "outputs": [
    {
     "data": {
      "text/plain": [
       "array([[   14,    37,  1572, ...,   122,  4018,   500],\n",
       "       [10149,    32,     1, ...,  1899,    73,   223],\n",
       "       [    8,    13,  3028, ...,    64,    15,   333],\n",
       "       ...,\n",
       "       [ 1037,   225,    26, ..., 23643,     2,  6058],\n",
       "       [    5,    69,   132, ...,    68,   711,    42],\n",
       "       [  116,   684,   472, ...,   781,    10,    17]])"
      ]
     },
     "execution_count": 10,
     "metadata": {},
     "output_type": "execute_result"
    }
   ],
   "source": [
    "review_data"
   ]
  },
  {
   "cell_type": "code",
   "execution_count": 11,
   "metadata": {},
   "outputs": [
    {
     "data": {
      "text/plain": [
       "array([[1, 3, 2],\n",
       "       [1, 3, 2],\n",
       "       [1, 3, 2],\n",
       "       ...,\n",
       "       [1, 4, 2],\n",
       "       [1, 4, 2],\n",
       "       [1, 4, 2]])"
      ]
     },
     "execution_count": 11,
     "metadata": {},
     "output_type": "execute_result"
    }
   ],
   "source": [
    "# start en stop token erbij\n",
    "\n",
    "sentiment_data"
   ]
  },
  {
   "cell_type": "code",
   "execution_count": 12,
   "metadata": {},
   "outputs": [],
   "source": [
    "# Split the data into training and validation sets\n",
    "from sklearn.model_selection import train_test_split\n",
    "\n",
    "X_train, X_val, y_train, y_val = train_test_split(review_data, sentiment_data, test_size=0.2, random_state=42)\n"
   ]
  },
  {
   "attachments": {},
   "cell_type": "markdown",
   "metadata": {},
   "source": [
    "We can now define our encoder and decoder models."
   ]
  },
  {
   "cell_type": "code",
   "execution_count": 13,
   "metadata": {},
   "outputs": [],
   "source": [
    "# Define input sequence\n",
    "encoder_inputs = Input(shape=(None,))\n",
    "# Define output sequence\n",
    "decoder_inputs = Input(shape=(None,))\n",
    "\n",
    "# Define encoder embedding layer\n",
    "encoder_embedding = Embedding(len(review_tokenizer.word_index) + 1, 256)\n",
    "encoder_embedding_output = encoder_embedding(encoder_inputs)\n",
    "\n",
    "# Define encoder LSTM layer\n",
    "encoder_lstm = LSTM(256, return_state=True)\n",
    "encoder_outputs, state_h, state_c = encoder_lstm(encoder_embedding_output)\n",
    "encoder_states = [state_h, state_c]\n",
    "\n",
    "# Define decoder embedding layer\n",
    "decoder_embedding = Embedding(len(sentiment_tokenizer.word_index) + 1, 256)\n",
    "decoder_embedding_output = decoder_embedding(decoder_inputs)\n",
    "\n",
    "# Define decoder LSTM layer\n",
    "decoder_lstm = LSTM(256, return_sequences=True, return_state=True)\n",
    "decoder_outputs, _, _ = decoder_lstm(decoder_embedding_output, initial_state=encoder_states)\n",
    "\n",
    "# Define output layer\n",
    "decoder_dense = Dense(len(sentiment_tokenizer.word_index) + 1, activation='softmax')\n",
    "decoder_outputs = decoder_dense(decoder_outputs)\n",
    "\n",
    "# Define model\n",
    "model = Model([encoder_inputs, decoder_inputs], decoder_outputs)"
   ]
  },
  {
   "attachments": {},
   "cell_type": "markdown",
   "metadata": {},
   "source": [
    "In this code, we define the input and output sequences, as well as the embedding and LSTM layers for the encoder and decoder. We also define the output layer and the entire model.\n",
    "\n",
    "We can now compile and train the model.\n",
    "\n",
    "In this code, we define the batch size and number of epochs. We also define the generators for the training and validation data. The generate_batch function generates batches of data for the training data. The generate_validation function generates data for the validation data. We then train the model using the fit_generator function."
   ]
  },
  {
   "cell_type": "code",
   "execution_count": 14,
   "metadata": {},
   "outputs": [
    {
     "name": "stdout",
     "output_type": "stream",
     "text": [
      "Epoch 1/10\n",
      "625/625 [==============================] - ETA: 0s - loss: 0.2737 - accuracy: 0.8606WARNING:tensorflow:Your input ran out of data; interrupting training. Make sure that your dataset or generator can generate at least `steps_per_epoch * epochs` batches (in this case, 156 batches). You may need to use the repeat() function when building your dataset.\n",
      "625/625 [==============================] - 321s 509ms/step - loss: 0.2737 - accuracy: 0.8606 - val_loss: 0.1720 - val_accuracy: 0.9284\n",
      "Epoch 2/10\n",
      "625/625 [==============================] - 312s 499ms/step - loss: 0.1145 - accuracy: 0.9550\n",
      "Epoch 3/10\n",
      "625/625 [==============================] - 297s 474ms/step - loss: 0.0525 - accuracy: 0.9815\n",
      "Epoch 4/10\n",
      "625/625 [==============================] - 270s 431ms/step - loss: 0.0199 - accuracy: 0.9939\n",
      "Epoch 5/10\n",
      "625/625 [==============================] - 269s 430ms/step - loss: 0.0076 - accuracy: 0.9979\n",
      "Epoch 6/10\n",
      "625/625 [==============================] - 269s 431ms/step - loss: 0.0040 - accuracy: 0.9988\n",
      "Epoch 7/10\n",
      "625/625 [==============================] - 269s 430ms/step - loss: 0.0036 - accuracy: 0.9990\n",
      "Epoch 8/10\n",
      "625/625 [==============================] - 271s 433ms/step - loss: 0.0018 - accuracy: 0.9995\n",
      "Epoch 9/10\n",
      "625/625 [==============================] - 271s 434ms/step - loss: 0.0012 - accuracy: 0.9996\n",
      "Epoch 10/10\n",
      "625/625 [==============================] - 271s 433ms/step - loss: 8.9991e-04 - accuracy: 0.9996\n"
     ]
    }
   ],
   "source": [
    "from keras.utils import to_categorical\n",
    "\n",
    "\n",
    "# Compile model\n",
    "model.compile(optimizer='adam', loss='categorical_crossentropy', metrics=['accuracy'])\n",
    "\n",
    "# Train model\n",
    "# Define batch size and number of epochs\n",
    "batch_size = 64\n",
    "epochs = 10\n",
    "\n",
    "# Define generator for training data\n",
    "def generate_batch(X=X_train, y=y_train, batch_size=batch_size):\n",
    "    while True:\n",
    "        for i in range(0, len(X), batch_size):\n",
    "            encoder_input_data = X[i:i + batch_size]\n",
    "            decoder_input_data = y[i:i + batch_size, :-1]\n",
    "            decoder_output_data = y[i:i + batch_size, 1:]\n",
    "            encoder_input_data = np.array(encoder_input_data)\n",
    "            decoder_input_data = np.array(decoder_input_data)\n",
    "            decoder_output_data = np.array(decoder_output_data)\n",
    "            decoder_output_data = to_categorical(decoder_output_data, num_classes=len(sentiment_tokenizer.word_index) + 1)\n",
    "            yield ([encoder_input_data, decoder_input_data], decoder_output_data)\n",
    "\n",
    "# Define generator for validation data\n",
    "def generate_validation(X=X_val, y=y_val):\n",
    "    encoder_input_data = np.array(X)\n",
    "    decoder_input_data = np.array(y[:, :-1])\n",
    "    decoder_output_data = np.array(y[:, 1:])\n",
    "    decoder_output_data = to_categorical(decoder_output_data, num_classes=len(sentiment_tokenizer.word_index) + 1)\n",
    "    return ([encoder_input_data, decoder_input_data], decoder_output_data)\n",
    "\n",
    "# Train model\n",
    "history = model.fit(x=generate_batch(),\n",
    "                    steps_per_epoch=len(X_train)//batch_size,\n",
    "                    epochs=epochs,\n",
    "                    validation_data=generate_validation(),\n",
    "                    validation_steps=len(X_val)//batch_size)"
   ]
  },
  {
   "cell_type": "code",
   "execution_count": 15,
   "metadata": {},
   "outputs": [
    {
     "data": {
      "image/png": "[encoded data removed]",
      "text/plain": [
       "<Figure size 600x600 with 1 Axes>"
      ]
     },
     "metadata": {},
     "output_type": "display_data"
    },
    {
     "data": {
      "image/png": "[encoded data removed]",
      "text/plain": [
       "<Figure size 600x600 with 1 Axes>"
      ]
     },
     "metadata": {},
     "output_type": "display_data"
    }
   ],
   "source": [
    "# Plot training and validation loss\n",
    "plt.plot(history.history['loss'])\n",
    "plt.plot(history.history['val_loss'])\n",
    "plt.title('Model Loss')\n",
    "plt.ylabel('Loss')\n",
    "plt.xlabel('Epoch')\n",
    "plt.legend(['Train', 'Validation'], loc='upper right')\n",
    "plt.show()\n",
    "\n",
    "# Plot training and validation accuracy\n",
    "plt.plot(history.history['accuracy'])\n",
    "plt.plot(history.history['val_accuracy'])\n",
    "plt.title('Model Accuracy')\n",
    "plt.ylabel('Accuracy')\n",
    "plt.xlabel('Epoch')\n",
    "plt.legend(['Train', 'Validation'], loc='lower right')\n",
    "plt.show()\n"
   ]
  },
  {
   "attachments": {},
   "cell_type": "markdown",
   "metadata": {},
   "source": [
    "# Test the model\n",
    "\n",
    "The performance of the model is excellent, with a 99% accuracy rate, which is significantly better than the first NLP implementation I worked on, which achieved a maximum accuracy rate of 88%. <br> \n",
    "To confirm the effectiveness of the model, I plan to input a random review and assess the predicted outcome."
   ]
  },
  {
   "cell_type": "code",
   "execution_count": 16,
   "metadata": {},
   "outputs": [],
   "source": [
    "# Define encoder model\n",
    "encoder_model = Model(encoder_inputs, encoder_states)\n",
    "\n",
    "# Define decoder inputs\n",
    "decoder_state_input_h = Input(shape=(256,))\n",
    "decoder_state_input_c = Input(shape=(256,))\n",
    "decoder_states_inputs = [decoder_state_input_h, decoder_state_input_c]\n",
    "decoder_inputs = Input(shape=(None,))\n",
    "decoder_embedding_output = decoder_embedding(decoder_inputs)\n",
    "decoder_outputs, state_h, state_c = decoder_lstm(decoder_embedding_output, initial_state=decoder_states_inputs)\n",
    "decoder_states = [state_h, state_c]\n",
    "decoder_outputs = decoder_dense(decoder_outputs)\n",
    "decoder_model = Model([decoder_inputs] + decoder_states_inputs, [decoder_outputs] + decoder_states)\n",
    "\n",
    "def decode_sequence(input_seq):\n",
    "    # Encode the input sequence to get the encoder states\n",
    "    states_value = encoder_model.predict(input_seq)\n",
    "\n",
    "    # Generate empty target sequence of length 1\n",
    "    target_seq = np.zeros((1, 1))\n",
    "\n",
    "    # Populate the first character of target sequence with the start character\n",
    "    target_seq[0, 0] = sentiment_tokenizer.word_index['<Start>']\n",
    "\n",
    "    # Generate output sequence\n",
    "    stop_condition = False\n",
    "    decoded_sentence = ''\n",
    "    while not stop_condition:\n",
    "        output_tokens, h, c = decoder_model.predict([target_seq] + states_value)\n",
    "\n",
    "        # Sample a token\n",
    "        sampled_token_index = np.argmax(output_tokens[0, -1, :])\n",
    "        sampled_token = sentiment_tokenizer.index_word[sampled_token_index]\n",
    "\n",
    "        # Exit condition: either hit max length or find stop character\n",
    "        if (sampled_token == '<Stop>' or len(decoded_sentence) > max_sequence_length):\n",
    "            stop_condition = True\n",
    "        else:\n",
    "            decoded_sentence += ' ' + sampled_token\n",
    "\n",
    "            # Update the target sequence\n",
    "            target_seq = np.zeros((1, 1))\n",
    "            target_seq[0, 0] = sampled_token_index\n",
    "\n",
    "            # Update states\n",
    "            states_value = [h, c]\n",
    "\n",
    "    return decoded_sentence\n",
    "\n"
   ]
  },
  {
   "attachments": {},
   "cell_type": "markdown",
   "metadata": {},
   "source": [
    "In this code, we define a function sequence_to_text that converts a sequence to text. We then generate some translations for the validation data by selecting a random input sequence, using the decode_sequence function to generate the predicted output sequence, and then converting the sequences to text. We print the input, target, and predicted sequences for each example."
   ]
  },
  {
   "cell_type": "code",
   "execution_count": 17,
   "metadata": {},
   "outputs": [],
   "source": [
    "def sequence_to_text(sequence, tokenizer):\n",
    "    text = tokenizer.sequences_to_texts([sequence])[0]\n",
    "    return text\n"
   ]
  },
  {
   "cell_type": "code",
   "execution_count": 18,
   "metadata": {},
   "outputs": [
    {
     "name": "stdout",
     "output_type": "stream",
     "text": [
      "1/1 [==============================] - 0s 413ms/step\n",
      "Review: This movie is fantastic. I loved every minute of it!\n",
      "Predicted sentiment: positive\n"
     ]
    }
   ],
   "source": [
    "# Define a new review\n",
    "new_review = \"This movie is fantastic. I loved every minute of it!\"\n",
    "\n",
    "# Convert the review to a sequence of integers\n",
    "new_review_seq = review_tokenizer.texts_to_sequences([new_review])[0]\n",
    "\n",
    "# Pad the sequence to the same length as the training data\n",
    "new_review_seq = pad_sequences([new_review_seq], maxlen=max_sequence_length, padding='post')\n",
    "\n",
    "# Use the model to predict the sentiment of the review\n",
    "pred_sentiment_seq = model.predict([new_review_seq, np.zeros((len(new_review_seq), 1))])\n",
    "\n",
    "# Convert the predicted sentiment sequence to text\n",
    "pred_sentiment_text = sequence_to_text(np.argmax(pred_sentiment_seq, axis=2)[0], sentiment_tokenizer)\n",
    "\n",
    "print(\"Review:\", new_review)\n",
    "print(\"Predicted sentiment:\", pred_sentiment_text)\n"
   ]
  },
  {
   "attachments": {},
   "cell_type": "markdown",
   "metadata": {},
   "source": [
    "# Conclusion\n",
    "\n",
    "The model is performing according to our expectations, as it is able to deliver excellent results despite being trained on a maximum of 100 words per sentence instead of the entire sentence. In fact, the accuracy of the model is an impressive 99%, indicating its high level of proficiency in processing language."
   ]
  }
 ],
 "metadata": {
  "kernelspec": {
   "display_name": "chessEnv",
   "language": "python",
   "name": "python3"
  },
  "language_info": {
   "codemirror_mode": {
    "name": "ipython",
    "version": 3
   },
   "file_extension": ".py",
   "mimetype": "text/x-python",
   "name": "python",
   "nbconvert_exporter": "python",
   "pygments_lexer": "ipython3",
   "version": "3.10.9"
  },
  "orig_nbformat": 4
 },
 "nbformat": 4,
 "nbformat_minor": 2
}
