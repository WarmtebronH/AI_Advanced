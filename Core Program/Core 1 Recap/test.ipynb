{
 "cells": [
  {
   "cell_type": "code",
   "execution_count": 1,
   "metadata": {},
   "outputs": [
    {
     "name": "stdout",
     "output_type": "stream",
     "text": [
      "Downloading data from https://storage.googleapis.com/tensorflow/tf-keras-datasets/train-labels-idx1-ubyte.gz\n",
      "29515/29515 [==============================] - 0s 1us/step\n",
      "Downloading data from https://storage.googleapis.com/tensorflow/tf-keras-datasets/train-images-idx3-ubyte.gz\n",
      "26421880/26421880 [==============================] - 3s 0us/step\n",
      "Downloading data from https://storage.googleapis.com/tensorflow/tf-keras-datasets/t10k-labels-idx1-ubyte.gz\n",
      "5148/5148 [==============================] - 0s 0s/step\n",
      "Downloading data from https://storage.googleapis.com/tensorflow/tf-keras-datasets/t10k-images-idx3-ubyte.gz\n",
      "4422102/4422102 [==============================] - 0s 0us/step\n",
      "Training set:  (48000, 28, 28) (48000,)\n",
      "Validation set:  (12000, 28, 28) (12000,)\n",
      "Test set:  (10000, 28, 28) (10000,)\n"
     ]
    }
   ],
   "source": [
    "from sklearn.model_selection import train_test_split\n",
    "from tensorflow.keras.datasets import fashion_mnist\n",
    "\n",
    "# Load the Fashion-MNIST dataset\n",
    "(X_train_full, y_train_full), (X_test, y_test) = fashion_mnist.load_data()\n",
    "\n",
    "# Split the full training set into a smaller training set and a validation set\n",
    "X_train, X_valid, y_train, y_valid = train_test_split(X_train_full, y_train_full, test_size=0.2, random_state=42)\n",
    "\n",
    "# Print the shape of each set\n",
    "print(\"Training set: \", X_train.shape, y_train.shape)\n",
    "print(\"Validation set: \", X_valid.shape, y_valid.shape)\n",
    "print(\"Test set: \", X_test.shape, y_test.shape)\n"
   ]
  },
  {
   "cell_type": "code",
   "execution_count": 2,
   "metadata": {},
   "outputs": [
    {
     "name": "stdout",
     "output_type": "stream",
     "text": [
      "Training time: 42.90 seconds\n",
      "Test set accuracy: 0.87\n"
     ]
    }
   ],
   "source": [
    "from sklearn.ensemble import RandomForestClassifier\n",
    "import time\n",
    "\n",
    "# Create a Random Forest classifier\n",
    "rf_clf = RandomForestClassifier(n_estimators=100, random_state=42)\n",
    "\n",
    "# Train the classifier and time it\n",
    "start_time = time.time()\n",
    "rf_clf.fit(X_train.reshape((X_train.shape[0], -1)), y_train)\n",
    "end_time = time.time()\n",
    "\n",
    "# Print the training time\n",
    "print(\"Training time: {:.2f} seconds\".format(end_time - start_time))\n",
    "\n",
    "# Evaluate the classifier on the test set\n",
    "score = rf_clf.score(X_test.reshape((X_test.shape[0], -1)), y_test)\n",
    "print(\"Test set accuracy: {:.2f}\".format(score))\n"
   ]
  },
  {
   "cell_type": "code",
   "execution_count": 3,
   "metadata": {},
   "outputs": [
    {
     "name": "stdout",
     "output_type": "stream",
     "text": [
      "Transformed training set:  (48000, 187)\n",
      "Transformed validation set:  (12000, 187)\n",
      "Transformed test set:  (10000, 187)\n"
     ]
    }
   ],
   "source": [
    "from sklearn.decomposition import PCA\n",
    "\n",
    "# Reshape the training set to 2D array\n",
    "X_train_2d = X_train.reshape((X_train.shape[0], -1))\n",
    "\n",
    "# Create a PCA transformer\n",
    "pca = PCA(n_components=0.95, random_state=42)\n",
    "\n",
    "# Fit the transformer to the training set\n",
    "pca.fit(X_train_2d)\n",
    "\n",
    "# Apply the transformer to the training set and the test set\n",
    "X_train_pca = pca.transform(X_train_2d)\n",
    "X_valid_pca = pca.transform(X_valid.reshape((X_valid.shape[0], -1)))\n",
    "X_test_pca = pca.transform(X_test.reshape((X_test.shape[0], -1)))\n",
    "\n",
    "# Print the shape of the transformed sets\n",
    "print(\"Transformed training set: \", X_train_pca.shape)\n",
    "print(\"Transformed validation set: \", X_valid_pca.shape)\n",
    "print(\"Transformed test set: \", X_test_pca.shape)\n"
   ]
  },
  {
   "cell_type": "code",
   "execution_count": 4,
   "metadata": {},
   "outputs": [
    {
     "name": "stdout",
     "output_type": "stream",
     "text": [
      "Training time on reduced dataset: 53.48 seconds\n"
     ]
    }
   ],
   "source": [
    "from sklearn.ensemble import RandomForestClassifier\n",
    "import time\n",
    "\n",
    "# Create a new Random Forest classifier\n",
    "rf_clf_pca = RandomForestClassifier(n_estimators=100, random_state=42)\n",
    "\n",
    "# Train the classifier on the reduced dataset and time it\n",
    "start_time = time.time()\n",
    "rf_clf_pca.fit(X_train_pca, y_train)\n",
    "end_time = time.time()\n",
    "\n",
    "# Print the training time\n",
    "print(\"Training time on reduced dataset: {:.2f} seconds\".format(end_time - start_time))\n"
   ]
  },
  {
   "cell_type": "code",
   "execution_count": null,
   "metadata": {},
   "outputs": [],
   "source": []
  }
 ],
 "metadata": {
  "kernelspec": {
   "display_name": "base",
   "language": "python",
   "name": "python3"
  },
  "language_info": {
   "codemirror_mode": {
    "name": "ipython",
    "version": 3
   },
   "file_extension": ".py",
   "mimetype": "text/x-python",
   "name": "python",
   "nbconvert_exporter": "python",
   "pygments_lexer": "ipython3",
   "version": "3.9.13"
  },
  "orig_nbformat": 4,
  "vscode": {
   "interpreter": {
    "hash": "135dd61f25e7ad99382e31a9b18da1fa31b0780841b4ca2974d870836fb3c00a"
   }
  }
 },
 "nbformat": 4,
 "nbformat_minor": 2
}
