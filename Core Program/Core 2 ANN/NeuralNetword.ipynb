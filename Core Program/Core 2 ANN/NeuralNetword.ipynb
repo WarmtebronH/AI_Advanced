{
 "cells": [
  {
   "attachments": {},
   "cell_type": "markdown",
   "metadata": {},
   "source": [
    "# Core 2 Artificial Neural Network\n",
    "\n",
    "In this project, I will create a neural network that can classify Pokémon based on their atributes."
   ]
  },
  {
   "attachments": {},
   "cell_type": "markdown",
   "metadata": {},
   "source": [
    "## EDA\n",
    "\n",
    "I will start with cleaning and visualizing the data."
   ]
  },
  {
   "attachments": {},
   "cell_type": "markdown",
   "metadata": {},
   "source": [
    "### 1. Data Understanding\n",
    "\n",
    "I will start with Understanding the dataset"
   ]
  },
  {
   "cell_type": "code",
   "execution_count": 1,
   "metadata": {},
   "outputs": [
    {
     "data": {
      "text/html": [
       "<div>\n",
       "<style scoped>\n",
       "    .dataframe tbody tr th:only-of-type {\n",
       "        vertical-align: middle;\n",
       "    }\n",
       "\n",
       "    .dataframe tbody tr th {\n",
       "        vertical-align: top;\n",
       "    }\n",
       "\n",
       "    .dataframe thead th {\n",
       "        text-align: right;\n",
       "    }\n",
       "</style>\n",
       "<table border=\"1\" class=\"dataframe\">\n",
       "  <thead>\n",
       "    <tr style=\"text-align: right;\">\n",
       "      <th></th>\n",
       "      <th>abilities</th>\n",
       "      <th>against_bug</th>\n",
       "      <th>against_dark</th>\n",
       "      <th>against_dragon</th>\n",
       "      <th>against_electric</th>\n",
       "      <th>against_fairy</th>\n",
       "      <th>against_fight</th>\n",
       "      <th>against_fire</th>\n",
       "      <th>against_flying</th>\n",
       "      <th>against_ghost</th>\n",
       "      <th>...</th>\n",
       "      <th>percentage_male</th>\n",
       "      <th>pokedex_number</th>\n",
       "      <th>sp_attack</th>\n",
       "      <th>sp_defense</th>\n",
       "      <th>speed</th>\n",
       "      <th>type1</th>\n",
       "      <th>type2</th>\n",
       "      <th>weight_kg</th>\n",
       "      <th>generation</th>\n",
       "      <th>is_legendary</th>\n",
       "    </tr>\n",
       "  </thead>\n",
       "  <tbody>\n",
       "    <tr>\n",
       "      <th>0</th>\n",
       "      <td>['Overgrow', 'Chlorophyll']</td>\n",
       "      <td>1.0</td>\n",
       "      <td>1.0</td>\n",
       "      <td>1.0</td>\n",
       "      <td>0.5</td>\n",
       "      <td>0.5</td>\n",
       "      <td>0.5</td>\n",
       "      <td>2.0</td>\n",
       "      <td>2.0</td>\n",
       "      <td>1.0</td>\n",
       "      <td>...</td>\n",
       "      <td>88.1</td>\n",
       "      <td>1</td>\n",
       "      <td>65</td>\n",
       "      <td>65</td>\n",
       "      <td>45</td>\n",
       "      <td>grass</td>\n",
       "      <td>poison</td>\n",
       "      <td>6.9</td>\n",
       "      <td>1</td>\n",
       "      <td>0</td>\n",
       "    </tr>\n",
       "    <tr>\n",
       "      <th>1</th>\n",
       "      <td>['Overgrow', 'Chlorophyll']</td>\n",
       "      <td>1.0</td>\n",
       "      <td>1.0</td>\n",
       "      <td>1.0</td>\n",
       "      <td>0.5</td>\n",
       "      <td>0.5</td>\n",
       "      <td>0.5</td>\n",
       "      <td>2.0</td>\n",
       "      <td>2.0</td>\n",
       "      <td>1.0</td>\n",
       "      <td>...</td>\n",
       "      <td>88.1</td>\n",
       "      <td>2</td>\n",
       "      <td>80</td>\n",
       "      <td>80</td>\n",
       "      <td>60</td>\n",
       "      <td>grass</td>\n",
       "      <td>poison</td>\n",
       "      <td>13.0</td>\n",
       "      <td>1</td>\n",
       "      <td>0</td>\n",
       "    </tr>\n",
       "    <tr>\n",
       "      <th>2</th>\n",
       "      <td>['Overgrow', 'Chlorophyll']</td>\n",
       "      <td>1.0</td>\n",
       "      <td>1.0</td>\n",
       "      <td>1.0</td>\n",
       "      <td>0.5</td>\n",
       "      <td>0.5</td>\n",
       "      <td>0.5</td>\n",
       "      <td>2.0</td>\n",
       "      <td>2.0</td>\n",
       "      <td>1.0</td>\n",
       "      <td>...</td>\n",
       "      <td>88.1</td>\n",
       "      <td>3</td>\n",
       "      <td>122</td>\n",
       "      <td>120</td>\n",
       "      <td>80</td>\n",
       "      <td>grass</td>\n",
       "      <td>poison</td>\n",
       "      <td>100.0</td>\n",
       "      <td>1</td>\n",
       "      <td>0</td>\n",
       "    </tr>\n",
       "    <tr>\n",
       "      <th>3</th>\n",
       "      <td>['Blaze', 'Solar Power']</td>\n",
       "      <td>0.5</td>\n",
       "      <td>1.0</td>\n",
       "      <td>1.0</td>\n",
       "      <td>1.0</td>\n",
       "      <td>0.5</td>\n",
       "      <td>1.0</td>\n",
       "      <td>0.5</td>\n",
       "      <td>1.0</td>\n",
       "      <td>1.0</td>\n",
       "      <td>...</td>\n",
       "      <td>88.1</td>\n",
       "      <td>4</td>\n",
       "      <td>60</td>\n",
       "      <td>50</td>\n",
       "      <td>65</td>\n",
       "      <td>fire</td>\n",
       "      <td>NaN</td>\n",
       "      <td>8.5</td>\n",
       "      <td>1</td>\n",
       "      <td>0</td>\n",
       "    </tr>\n",
       "    <tr>\n",
       "      <th>4</th>\n",
       "      <td>['Blaze', 'Solar Power']</td>\n",
       "      <td>0.5</td>\n",
       "      <td>1.0</td>\n",
       "      <td>1.0</td>\n",
       "      <td>1.0</td>\n",
       "      <td>0.5</td>\n",
       "      <td>1.0</td>\n",
       "      <td>0.5</td>\n",
       "      <td>1.0</td>\n",
       "      <td>1.0</td>\n",
       "      <td>...</td>\n",
       "      <td>88.1</td>\n",
       "      <td>5</td>\n",
       "      <td>80</td>\n",
       "      <td>65</td>\n",
       "      <td>80</td>\n",
       "      <td>fire</td>\n",
       "      <td>NaN</td>\n",
       "      <td>19.0</td>\n",
       "      <td>1</td>\n",
       "      <td>0</td>\n",
       "    </tr>\n",
       "  </tbody>\n",
       "</table>\n",
       "<p>5 rows × 41 columns</p>\n",
       "</div>"
      ],
      "text/plain": [
       "                     abilities  against_bug  against_dark  against_dragon  \\\n",
       "0  ['Overgrow', 'Chlorophyll']          1.0           1.0             1.0   \n",
       "1  ['Overgrow', 'Chlorophyll']          1.0           1.0             1.0   \n",
       "2  ['Overgrow', 'Chlorophyll']          1.0           1.0             1.0   \n",
       "3     ['Blaze', 'Solar Power']          0.5           1.0             1.0   \n",
       "4     ['Blaze', 'Solar Power']          0.5           1.0             1.0   \n",
       "\n",
       "   against_electric  against_fairy  against_fight  against_fire  \\\n",
       "0               0.5            0.5            0.5           2.0   \n",
       "1               0.5            0.5            0.5           2.0   \n",
       "2               0.5            0.5            0.5           2.0   \n",
       "3               1.0            0.5            1.0           0.5   \n",
       "4               1.0            0.5            1.0           0.5   \n",
       "\n",
       "   against_flying  against_ghost  ...  percentage_male  pokedex_number  \\\n",
       "0             2.0            1.0  ...             88.1               1   \n",
       "1             2.0            1.0  ...             88.1               2   \n",
       "2             2.0            1.0  ...             88.1               3   \n",
       "3             1.0            1.0  ...             88.1               4   \n",
       "4             1.0            1.0  ...             88.1               5   \n",
       "\n",
       "   sp_attack  sp_defense  speed  type1   type2  weight_kg  generation  \\\n",
       "0         65          65     45  grass  poison        6.9           1   \n",
       "1         80          80     60  grass  poison       13.0           1   \n",
       "2        122         120     80  grass  poison      100.0           1   \n",
       "3         60          50     65   fire     NaN        8.5           1   \n",
       "4         80          65     80   fire     NaN       19.0           1   \n",
       "\n",
       "   is_legendary  \n",
       "0             0  \n",
       "1             0  \n",
       "2             0  \n",
       "3             0  \n",
       "4             0  \n",
       "\n",
       "[5 rows x 41 columns]"
      ]
     },
     "execution_count": 1,
     "metadata": {},
     "output_type": "execute_result"
    }
   ],
   "source": [
    "import pandas as pd\n",
    "import seaborn as sns \n",
    "import numpy as np\n",
    "\n",
    "#Reading the data\n",
    "df_pokemon = pd.read_csv(\"pokemon.csv\")\n",
    "\n",
    "#Show the first 5 rows of the data\n",
    "df_pokemon.head()"
   ]
  },
  {
   "cell_type": "code",
   "execution_count": 2,
   "metadata": {},
   "outputs": [
    {
     "name": "stdout",
     "output_type": "stream",
     "text": [
      "<class 'pandas.core.frame.DataFrame'>\n",
      "RangeIndex: 801 entries, 0 to 800\n",
      "Data columns (total 41 columns):\n",
      " #   Column             Non-Null Count  Dtype  \n",
      "---  ------             --------------  -----  \n",
      " 0   abilities          801 non-null    object \n",
      " 1   against_bug        801 non-null    float64\n",
      " 2   against_dark       801 non-null    float64\n",
      " 3   against_dragon     801 non-null    float64\n",
      " 4   against_electric   801 non-null    float64\n",
      " 5   against_fairy      801 non-null    float64\n",
      " 6   against_fight      801 non-null    float64\n",
      " 7   against_fire       801 non-null    float64\n",
      " 8   against_flying     801 non-null    float64\n",
      " 9   against_ghost      801 non-null    float64\n",
      " 10  against_grass      801 non-null    float64\n",
      " 11  against_ground     801 non-null    float64\n",
      " 12  against_ice        801 non-null    float64\n",
      " 13  against_normal     801 non-null    float64\n",
      " 14  against_poison     801 non-null    float64\n",
      " 15  against_psychic    801 non-null    float64\n",
      " 16  against_rock       801 non-null    float64\n",
      " 17  against_steel      801 non-null    float64\n",
      " 18  against_water      801 non-null    float64\n",
      " 19  attack             801 non-null    int64  \n",
      " 20  base_egg_steps     801 non-null    int64  \n",
      " 21  base_happiness     801 non-null    int64  \n",
      " 22  base_total         801 non-null    int64  \n",
      " 23  capture_rate       801 non-null    object \n",
      " 24  classfication      801 non-null    object \n",
      " 25  defense            801 non-null    int64  \n",
      " 26  experience_growth  801 non-null    int64  \n",
      " 27  height_m           781 non-null    float64\n",
      " 28  hp                 801 non-null    int64  \n",
      " 29  japanese_name      801 non-null    object \n",
      " 30  name               801 non-null    object \n",
      " 31  percentage_male    703 non-null    float64\n",
      " 32  pokedex_number     801 non-null    int64  \n",
      " 33  sp_attack          801 non-null    int64  \n",
      " 34  sp_defense         801 non-null    int64  \n",
      " 35  speed              801 non-null    int64  \n",
      " 36  type1              801 non-null    object \n",
      " 37  type2              417 non-null    object \n",
      " 38  weight_kg          781 non-null    float64\n",
      " 39  generation         801 non-null    int64  \n",
      " 40  is_legendary       801 non-null    int64  \n",
      "dtypes: float64(21), int64(13), object(7)\n",
      "memory usage: 256.7+ KB\n"
     ]
    }
   ],
   "source": [
    "#Check what data we have, their count and their data type\n",
    "df_pokemon.info()"
   ]
  },
  {
   "cell_type": "code",
   "execution_count": 3,
   "metadata": {},
   "outputs": [
    {
     "data": {
      "text/plain": [
       "(801, 41)"
      ]
     },
     "execution_count": 3,
     "metadata": {},
     "output_type": "execute_result"
    }
   ],
   "source": [
    "#Check the shape of the dataset\n",
    "df_pokemon.shape"
   ]
  },
  {
   "cell_type": "code",
   "execution_count": 4,
   "metadata": {},
   "outputs": [
    {
     "data": {
      "text/plain": [
       "abilities            482\n",
       "against_bug            5\n",
       "against_dark           5\n",
       "against_dragon         4\n",
       "against_electric       6\n",
       "against_fairy          5\n",
       "against_fight          6\n",
       "against_fire           5\n",
       "against_flying         5\n",
       "against_ghost          5\n",
       "against_grass          5\n",
       "against_ground         6\n",
       "against_ice            5\n",
       "against_normal         4\n",
       "against_poison         6\n",
       "against_psychic        6\n",
       "against_rock           5\n",
       "against_steel          5\n",
       "against_water          5\n",
       "attack               114\n",
       "base_egg_steps        10\n",
       "base_happiness         6\n",
       "base_total           203\n",
       "capture_rate          34\n",
       "classfication        588\n",
       "defense              109\n",
       "experience_growth      6\n",
       "height_m              51\n",
       "hp                    99\n",
       "japanese_name        801\n",
       "name                 801\n",
       "percentage_male        7\n",
       "pokedex_number       801\n",
       "sp_attack            111\n",
       "sp_defense            97\n",
       "speed                113\n",
       "type1                 18\n",
       "type2                 18\n",
       "weight_kg            421\n",
       "generation             7\n",
       "is_legendary           2\n",
       "dtype: int64"
      ]
     },
     "execution_count": 4,
     "metadata": {},
     "output_type": "execute_result"
    }
   ],
   "source": [
    "#Check unique values\n",
    "df_pokemon.nunique()"
   ]
  },
  {
   "attachments": {},
   "cell_type": "markdown",
   "metadata": {},
   "source": [
    "### 2. Data Cleaning\n",
    "\n",
    "Now I want to check if there are any empty columns and replace them with values"
   ]
  },
  {
   "cell_type": "code",
   "execution_count": 5,
   "metadata": {},
   "outputs": [
    {
     "data": {
      "text/plain": [
       "True"
      ]
     },
     "execution_count": 5,
     "metadata": {},
     "output_type": "execute_result"
    }
   ],
   "source": [
    "df_pokemon.isnull().values.any()"
   ]
  },
  {
   "cell_type": "code",
   "execution_count": 6,
   "metadata": {},
   "outputs": [
    {
     "name": "stdout",
     "output_type": "stream",
     "text": [
      "['height_m', 'percentage_male', 'type2', 'weight_kg']\n"
     ]
    }
   ],
   "source": [
    "#Put the columns with null values in seperate variable and print it\n",
    "cols_missing_val = df_pokemon.columns[df_pokemon.isnull().any()].tolist()\n",
    "print(cols_missing_val)"
   ]
  },
  {
   "cell_type": "code",
   "execution_count": 7,
   "metadata": {},
   "outputs": [
    {
     "name": "stdout",
     "output_type": "stream",
     "text": [
      "height_m : 20\n",
      "percentage_male : 98\n",
      "type2 : 384\n",
      "weight_kg : 20\n"
     ]
    }
   ],
   "source": [
    "#Count missing values in each column:\n",
    "for col in cols_missing_val:\n",
    "    print(\"%s : %d\" % (col, df_pokemon[col].isnull().sum()))"
   ]
  },
  {
   "cell_type": "code",
   "execution_count": 8,
   "metadata": {},
   "outputs": [
    {
     "data": {
      "text/plain": [
       "<AxesSubplot:>"
      ]
     },
     "execution_count": 8,
     "metadata": {},
     "output_type": "execute_result"
    },
    {
     "data": {
      "image/png": "[encoded data removed]",
      "text/plain": [
       "<Figure size 640x480 with 1 Axes>"
      ]
     },
     "metadata": {},
     "output_type": "display_data"
    }
   ],
   "source": [
    "sns.heatmap(df_pokemon[cols_missing_val].isnull(), yticklabels = False, cbar = False)"
   ]
  },
  {
   "cell_type": "code",
   "execution_count": 10,
   "metadata": {},
   "outputs": [
    {
     "name": "stderr",
     "output_type": "stream",
     "text": [
      "C:\\Users\\Warmtebron\\AppData\\Local\\Temp\\ipykernel_21124\\2827358361.py:2: DeprecationWarning: `np.int` is a deprecated alias for the builtin `int`. To silence this warning, use `int` by itself. Doing this will not modify any behavior and is safe. When replacing `np.int`, you may wish to use e.g. `np.int64` or `np.int32` to specify the precision. If you wish to review your current use, check the release note link for additional information.\n",
      "Deprecated in NumPy 1.20; for more details and guidance: https://numpy.org/devdocs/release/1.20.0-notes.html#deprecations\n",
      "  df_pokemon['percentage_male'].fillna(np.int(-1), inplace= True)\n"
     ]
    }
   ],
   "source": [
    "#Genderless pokemons can be assigned '-1'\n",
    "df_pokemon['percentage_male'].fillna(np.int(-1), inplace= True)"
   ]
  },
  {
   "cell_type": "code",
   "execution_count": 11,
   "metadata": {},
   "outputs": [
    {
     "data": {
      "text/plain": [
       "array(['poison', nan, 'flying', 'dark', 'electric', 'ice', 'ground',\n",
       "       'fairy', 'grass', 'fighting', 'psychic', 'steel', 'fire', 'rock',\n",
       "       'water', 'dragon', 'ghost', 'bug', 'normal'], dtype=object)"
      ]
     },
     "execution_count": 11,
     "metadata": {},
     "output_type": "execute_result"
    }
   ],
   "source": [
    "#Unique values\n",
    "df_pokemon['type2'].unique()"
   ]
  },
  {
   "cell_type": "code",
   "execution_count": 12,
   "metadata": {},
   "outputs": [],
   "source": [
    "#replace nan with new type2\n",
    "df_pokemon['type2'].fillna('hormann', inplace=True)"
   ]
  },
  {
   "cell_type": "code",
   "execution_count": 14,
   "metadata": {},
   "outputs": [
    {
     "name": "stderr",
     "output_type": "stream",
     "text": [
      "C:\\Users\\Warmtebron\\AppData\\Local\\Temp\\ipykernel_21124\\2156206290.py:2: DeprecationWarning: `np.int` is a deprecated alias for the builtin `int`. To silence this warning, use `int` by itself. Doing this will not modify any behavior and is safe. When replacing `np.int`, you may wish to use e.g. `np.int64` or `np.int32` to specify the precision. If you wish to review your current use, check the release note link for additional information.\n",
      "Deprecated in NumPy 1.20; for more details and guidance: https://numpy.org/devdocs/release/1.20.0-notes.html#deprecations\n",
      "  df_pokemon['height_m'].fillna(np.int(0), inplace=True)\n",
      "C:\\Users\\Warmtebron\\AppData\\Local\\Temp\\ipykernel_21124\\2156206290.py:3: DeprecationWarning: `np.int` is a deprecated alias for the builtin `int`. To silence this warning, use `int` by itself. Doing this will not modify any behavior and is safe. When replacing `np.int`, you may wish to use e.g. `np.int64` or `np.int32` to specify the precision. If you wish to review your current use, check the release note link for additional information.\n",
      "Deprecated in NumPy 1.20; for more details and guidance: https://numpy.org/devdocs/release/1.20.0-notes.html#deprecations\n",
      "  df_pokemon['weight_kg'].fillna(np.int(0), inplace=True)\n"
     ]
    }
   ],
   "source": [
    "#Replace the missing values with 0.\n",
    "df_pokemon['height_m'].fillna(np.int(0), inplace=True)\n",
    "df_pokemon['weight_kg'].fillna(np.int(0), inplace=True)"
   ]
  },
  {
   "cell_type": "code",
   "execution_count": 17,
   "metadata": {},
   "outputs": [
    {
     "data": {
      "text/plain": [
       "False"
      ]
     },
     "execution_count": 17,
     "metadata": {},
     "output_type": "execute_result"
    }
   ],
   "source": [
    "df_pokemon.isnull().values.any()"
   ]
  },
  {
   "attachments": {},
   "cell_type": "markdown",
   "metadata": {},
   "source": [
    "Now that all the missing values are filled, I'm going to change all dtypes of the dataset to int."
   ]
  },
  {
   "cell_type": "code",
   "execution_count": 20,
   "metadata": {},
   "outputs": [
    {
     "data": {
      "text/plain": [
       "abilities             object\n",
       "against_bug          float64\n",
       "against_dark         float64\n",
       "against_dragon       float64\n",
       "against_electric     float64\n",
       "against_fairy        float64\n",
       "against_fight        float64\n",
       "against_fire         float64\n",
       "against_flying       float64\n",
       "against_ghost        float64\n",
       "against_grass        float64\n",
       "against_ground       float64\n",
       "against_ice          float64\n",
       "against_normal       float64\n",
       "against_poison       float64\n",
       "against_psychic      float64\n",
       "against_rock         float64\n",
       "against_steel        float64\n",
       "against_water        float64\n",
       "attack                 int64\n",
       "base_egg_steps         int64\n",
       "base_happiness         int64\n",
       "base_total             int64\n",
       "capture_rate          object\n",
       "classfication         object\n",
       "defense                int64\n",
       "experience_growth      int64\n",
       "height_m             float64\n",
       "hp                     int64\n",
       "japanese_name         object\n",
       "name                  object\n",
       "percentage_male      float64\n",
       "pokedex_number         int64\n",
       "sp_attack              int64\n",
       "sp_defense             int64\n",
       "speed                  int64\n",
       "type1                 object\n",
       "type2                 object\n",
       "weight_kg            float64\n",
       "generation             int64\n",
       "is_legendary           int64\n",
       "dtype: object"
      ]
     },
     "execution_count": 20,
     "metadata": {},
     "output_type": "execute_result"
    }
   ],
   "source": [
    "df_pokemon.dtypes"
   ]
  },
  {
   "cell_type": "code",
   "execution_count": 21,
   "metadata": {},
   "outputs": [],
   "source": [
    "for label,content in df_pokemon.items():\n",
    "    if pd.api.types.is_float_dtype(content):\n",
    "        df_pokemon[label] = df_pokemon[label].astype('int')"
   ]
  },
  {
   "cell_type": "code",
   "execution_count": 22,
   "metadata": {},
   "outputs": [
    {
     "data": {
      "text/plain": [
       "abilities            object\n",
       "against_bug           int32\n",
       "against_dark          int32\n",
       "against_dragon        int32\n",
       "against_electric      int32\n",
       "against_fairy         int32\n",
       "against_fight         int32\n",
       "against_fire          int32\n",
       "against_flying        int32\n",
       "against_ghost         int32\n",
       "against_grass         int32\n",
       "against_ground        int32\n",
       "against_ice           int32\n",
       "against_normal        int32\n",
       "against_poison        int32\n",
       "against_psychic       int32\n",
       "against_rock          int32\n",
       "against_steel         int32\n",
       "against_water         int32\n",
       "attack                int64\n",
       "base_egg_steps        int64\n",
       "base_happiness        int64\n",
       "base_total            int64\n",
       "capture_rate         object\n",
       "classfication        object\n",
       "defense               int64\n",
       "experience_growth     int64\n",
       "height_m              int32\n",
       "hp                    int64\n",
       "japanese_name        object\n",
       "name                 object\n",
       "percentage_male       int32\n",
       "pokedex_number        int64\n",
       "sp_attack             int64\n",
       "sp_defense            int64\n",
       "speed                 int64\n",
       "type1                object\n",
       "type2                object\n",
       "weight_kg             int32\n",
       "generation            int64\n",
       "is_legendary          int64\n",
       "dtype: object"
      ]
     },
     "execution_count": 22,
     "metadata": {},
     "output_type": "execute_result"
    }
   ],
   "source": [
    "df_pokemon.dtypes"
   ]
  },
  {
   "cell_type": "code",
   "execution_count": 24,
   "metadata": {},
   "outputs": [
    {
     "data": {
      "text/plain": [
       "abilities            category\n",
       "against_bug             int32\n",
       "against_dark            int32\n",
       "against_dragon          int32\n",
       "against_electric        int32\n",
       "against_fairy           int32\n",
       "against_fight           int32\n",
       "against_fire            int32\n",
       "against_flying          int32\n",
       "against_ghost           int32\n",
       "against_grass           int32\n",
       "against_ground          int32\n",
       "against_ice             int32\n",
       "against_normal          int32\n",
       "against_poison          int32\n",
       "against_psychic         int32\n",
       "against_rock            int32\n",
       "against_steel           int32\n",
       "against_water           int32\n",
       "attack                  int64\n",
       "base_egg_steps          int64\n",
       "base_happiness          int64\n",
       "base_total              int64\n",
       "capture_rate         category\n",
       "classfication        category\n",
       "defense                 int64\n",
       "experience_growth       int64\n",
       "height_m                int32\n",
       "hp                      int64\n",
       "japanese_name        category\n",
       "name                 category\n",
       "percentage_male         int32\n",
       "pokedex_number          int64\n",
       "sp_attack               int64\n",
       "sp_defense              int64\n",
       "speed                   int64\n",
       "type1                category\n",
       "type2                category\n",
       "weight_kg               int32\n",
       "generation              int64\n",
       "is_legendary            int64\n",
       "dtype: object"
      ]
     },
     "execution_count": 24,
     "metadata": {},
     "output_type": "execute_result"
    }
   ],
   "source": [
    "for label,content in df_pokemon.items():\n",
    "    if not pd.api.types.is_numeric_dtype(content):\n",
    "        df_pokemon[label] = df_pokemon[label].astype('category')\n",
    "df_pokemon.dtypes"
   ]
  },
  {
   "cell_type": "code",
   "execution_count": 25,
   "metadata": {},
   "outputs": [],
   "source": [
    "for label,content in df_pokemon.items():\n",
    "    if pd.api.types.is_categorical_dtype(content):\n",
    "        df_pokemon[label] = pd.Categorical(content).codes + 1"
   ]
  },
  {
   "cell_type": "code",
   "execution_count": 26,
   "metadata": {},
   "outputs": [
    {
     "data": {
      "text/plain": [
       "abilities            int16\n",
       "against_bug          int32\n",
       "against_dark         int32\n",
       "against_dragon       int32\n",
       "against_electric     int32\n",
       "against_fairy        int32\n",
       "against_fight        int32\n",
       "against_fire         int32\n",
       "against_flying       int32\n",
       "against_ghost        int32\n",
       "against_grass        int32\n",
       "against_ground       int32\n",
       "against_ice          int32\n",
       "against_normal       int32\n",
       "against_poison       int32\n",
       "against_psychic      int32\n",
       "against_rock         int32\n",
       "against_steel        int32\n",
       "against_water        int32\n",
       "attack               int64\n",
       "base_egg_steps       int64\n",
       "base_happiness       int64\n",
       "base_total           int64\n",
       "capture_rate          int8\n",
       "classfication        int16\n",
       "defense              int64\n",
       "experience_growth    int64\n",
       "height_m             int32\n",
       "hp                   int64\n",
       "japanese_name        int16\n",
       "name                 int16\n",
       "percentage_male      int32\n",
       "pokedex_number       int64\n",
       "sp_attack            int64\n",
       "sp_defense           int64\n",
       "speed                int64\n",
       "type1                 int8\n",
       "type2                 int8\n",
       "weight_kg            int32\n",
       "generation           int64\n",
       "is_legendary         int64\n",
       "dtype: object"
      ]
     },
     "execution_count": 26,
     "metadata": {},
     "output_type": "execute_result"
    }
   ],
   "source": [
    "df_pokemon.dtypes"
   ]
  },
  {
   "cell_type": "code",
   "execution_count": null,
   "metadata": {},
   "outputs": [],
   "source": []
  }
 ],
 "metadata": {
  "kernelspec": {
   "display_name": "base",
   "language": "python",
   "name": "python3"
  },
  "language_info": {
   "codemirror_mode": {
    "name": "ipython",
    "version": 3
   },
   "file_extension": ".py",
   "mimetype": "text/x-python",
   "name": "python",
   "nbconvert_exporter": "python",
   "pygments_lexer": "ipython3",
   "version": "3.9.13"
  },
  "orig_nbformat": 4,
  "vscode": {
   "interpreter": {
    "hash": "135dd61f25e7ad99382e31a9b18da1fa31b0780841b4ca2974d870836fb3c00a"
   }
  }
 },
 "nbformat": 4,
 "nbformat_minor": 2
}
