{
 "cells": [
  {
   "cell_type": "markdown",
   "metadata": {},
   "source": [
    "# 1. Setup Mario"
   ]
  },
  {
   "cell_type": "code",
   "execution_count": null,
   "metadata": {
    "tags": []
   },
   "outputs": [],
   "source": [
    "!pip install gym_super_mario_bros==7.3.0 nes_py"
   ]
  },
  {
   "cell_type": "code",
   "execution_count": 1,
   "metadata": {},
   "outputs": [],
   "source": [
    "# Import the game\n",
    "import gym_super_mario_bros\n",
    "# Import the Joypad wrapper\n",
    "from nes_py.wrappers import JoypadSpace\n",
    "# Import the SIMPLIFIED controls\n",
    "from gym_super_mario_bros.actions import SIMPLE_MOVEMENT"
   ]
  },
  {
   "cell_type": "code",
   "execution_count": 2,
   "metadata": {},
   "outputs": [],
   "source": [
    "# Setup game\n",
    "env = gym_super_mario_bros.make('SuperMarioBros-v0')\n",
    "env = JoypadSpace(env, SIMPLE_MOVEMENT)"
   ]
  },
  {
   "cell_type": "code",
   "execution_count": 3,
   "metadata": {
    "tags": []
   },
   "outputs": [
    {
     "name": "stderr",
     "output_type": "stream",
     "text": [
      "c:\\Users\\Warmtebron\\anaconda3\\envs\\rnEnv\\lib\\site-packages\\pyglet\\image\\codecs\\wic.py:289: UserWarning: [WinError -2147417850] Kan threadmodus niet wijzigen nadat deze is ingesteld\n",
      "  warnings.warn(str(err))\n",
      "c:\\Users\\Warmtebron\\anaconda3\\envs\\rnEnv\\lib\\site-packages\\gym_super_mario_bros\\smb_env.py:148: RuntimeWarning: overflow encountered in ubyte_scalars\n",
      "  return (self.ram[0x86] - self.ram[0x071c]) % 256\n"
     ]
    },
    {
     "ename": "KeyboardInterrupt",
     "evalue": "",
     "output_type": "error",
     "traceback": [
      "\u001b[1;31m---------------------------------------------------------------------------\u001b[0m",
      "\u001b[1;31mKeyboardInterrupt\u001b[0m                         Traceback (most recent call last)",
      "Cell \u001b[1;32mIn[3], line 12\u001b[0m\n\u001b[0;32m     10\u001b[0m     state, reward, done, info \u001b[39m=\u001b[39m env\u001b[39m.\u001b[39mstep(env\u001b[39m.\u001b[39maction_space\u001b[39m.\u001b[39msample())\n\u001b[0;32m     11\u001b[0m     \u001b[39m# Show the game on the screen\u001b[39;00m\n\u001b[1;32m---> 12\u001b[0m     env\u001b[39m.\u001b[39;49mrender()\n\u001b[0;32m     13\u001b[0m \u001b[39m# Close the game\u001b[39;00m\n\u001b[0;32m     14\u001b[0m env\u001b[39m.\u001b[39mclose()\n",
      "File \u001b[1;32mc:\\Users\\Warmtebron\\anaconda3\\envs\\rnEnv\\lib\\site-packages\\gym\\core.py:295\u001b[0m, in \u001b[0;36mWrapper.render\u001b[1;34m(self, mode, **kwargs)\u001b[0m\n\u001b[0;32m    294\u001b[0m \u001b[39mdef\u001b[39;00m \u001b[39mrender\u001b[39m(\u001b[39mself\u001b[39m, mode\u001b[39m=\u001b[39m\u001b[39m\"\u001b[39m\u001b[39mhuman\u001b[39m\u001b[39m\"\u001b[39m, \u001b[39m*\u001b[39m\u001b[39m*\u001b[39mkwargs):\n\u001b[1;32m--> 295\u001b[0m     \u001b[39mreturn\u001b[39;00m \u001b[39mself\u001b[39m\u001b[39m.\u001b[39menv\u001b[39m.\u001b[39mrender(mode, \u001b[39m*\u001b[39m\u001b[39m*\u001b[39mkwargs)\n",
      "File \u001b[1;32mc:\\Users\\Warmtebron\\anaconda3\\envs\\rnEnv\\lib\\site-packages\\gym\\core.py:295\u001b[0m, in \u001b[0;36mWrapper.render\u001b[1;34m(self, mode, **kwargs)\u001b[0m\n\u001b[0;32m    294\u001b[0m \u001b[39mdef\u001b[39;00m \u001b[39mrender\u001b[39m(\u001b[39mself\u001b[39m, mode\u001b[39m=\u001b[39m\u001b[39m\"\u001b[39m\u001b[39mhuman\u001b[39m\u001b[39m\"\u001b[39m, \u001b[39m*\u001b[39m\u001b[39m*\u001b[39mkwargs):\n\u001b[1;32m--> 295\u001b[0m     \u001b[39mreturn\u001b[39;00m \u001b[39mself\u001b[39m\u001b[39m.\u001b[39menv\u001b[39m.\u001b[39mrender(mode, \u001b[39m*\u001b[39m\u001b[39m*\u001b[39mkwargs)\n",
      "File \u001b[1;32mc:\\Users\\Warmtebron\\anaconda3\\envs\\rnEnv\\lib\\site-packages\\nes_py\\nes_env.py:386\u001b[0m, in \u001b[0;36mNESEnv.render\u001b[1;34m(self, mode)\u001b[0m\n\u001b[0;32m    380\u001b[0m         \u001b[39mself\u001b[39m\u001b[39m.\u001b[39mviewer \u001b[39m=\u001b[39m ImageViewer(\n\u001b[0;32m    381\u001b[0m             caption\u001b[39m=\u001b[39mcaption,\n\u001b[0;32m    382\u001b[0m             height\u001b[39m=\u001b[39mSCREEN_HEIGHT,\n\u001b[0;32m    383\u001b[0m             width\u001b[39m=\u001b[39mSCREEN_WIDTH,\n\u001b[0;32m    384\u001b[0m         )\n\u001b[0;32m    385\u001b[0m     \u001b[39m# show the screen on the image viewer\u001b[39;00m\n\u001b[1;32m--> 386\u001b[0m     \u001b[39mself\u001b[39;49m\u001b[39m.\u001b[39;49mviewer\u001b[39m.\u001b[39;49mshow(\u001b[39mself\u001b[39;49m\u001b[39m.\u001b[39;49mscreen)\n\u001b[0;32m    387\u001b[0m \u001b[39melif\u001b[39;00m mode \u001b[39m==\u001b[39m \u001b[39m'\u001b[39m\u001b[39mrgb_array\u001b[39m\u001b[39m'\u001b[39m:\n\u001b[0;32m    388\u001b[0m     \u001b[39mreturn\u001b[39;00m \u001b[39mself\u001b[39m\u001b[39m.\u001b[39mscreen\n",
      "File \u001b[1;32mc:\\Users\\Warmtebron\\anaconda3\\envs\\rnEnv\\lib\\site-packages\\nes_py\\_image_viewer.py:149\u001b[0m, in \u001b[0;36mImageViewer.show\u001b[1;34m(self, frame)\u001b[0m\n\u001b[0;32m    147\u001b[0m \u001b[39m# send the image to the window\u001b[39;00m\n\u001b[0;32m    148\u001b[0m image\u001b[39m.\u001b[39mblit(\u001b[39m0\u001b[39m, \u001b[39m0\u001b[39m, width\u001b[39m=\u001b[39m\u001b[39mself\u001b[39m\u001b[39m.\u001b[39m_window\u001b[39m.\u001b[39mwidth, height\u001b[39m=\u001b[39m\u001b[39mself\u001b[39m\u001b[39m.\u001b[39m_window\u001b[39m.\u001b[39mheight)\n\u001b[1;32m--> 149\u001b[0m \u001b[39mself\u001b[39;49m\u001b[39m.\u001b[39;49m_window\u001b[39m.\u001b[39;49mflip()\n",
      "File \u001b[1;32mc:\\Users\\Warmtebron\\anaconda3\\envs\\rnEnv\\lib\\site-packages\\pyglet\\window\\win32\\__init__.py:380\u001b[0m, in \u001b[0;36mWin32Window.flip\u001b[1;34m(self)\u001b[0m\n\u001b[0;32m    377\u001b[0m \u001b[39mif\u001b[39;00m \u001b[39mself\u001b[39m\u001b[39m.\u001b[39mstyle \u001b[39min\u001b[39;00m (\u001b[39m'\u001b[39m\u001b[39moverlay\u001b[39m\u001b[39m'\u001b[39m, \u001b[39m'\u001b[39m\u001b[39mtransparent\u001b[39m\u001b[39m'\u001b[39m):\n\u001b[0;32m    378\u001b[0m     \u001b[39mself\u001b[39m\u001b[39m.\u001b[39mupdate_transparency()\n\u001b[1;32m--> 380\u001b[0m \u001b[39mself\u001b[39;49m\u001b[39m.\u001b[39;49mcontext\u001b[39m.\u001b[39;49mflip()\n",
      "File \u001b[1;32mc:\\Users\\Warmtebron\\anaconda3\\envs\\rnEnv\\lib\\site-packages\\pyglet\\gl\\win32.py:252\u001b[0m, in \u001b[0;36mWin32Context.flip\u001b[1;34m(self)\u001b[0m\n\u001b[0;32m    251\u001b[0m \u001b[39mdef\u001b[39;00m \u001b[39mflip\u001b[39m(\u001b[39mself\u001b[39m):\n\u001b[1;32m--> 252\u001b[0m     _gdi32\u001b[39m.\u001b[39;49mSwapBuffers(\u001b[39mself\u001b[39;49m\u001b[39m.\u001b[39;49mcanvas\u001b[39m.\u001b[39;49mhdc)\n",
      "\u001b[1;31mKeyboardInterrupt\u001b[0m: "
     ]
    }
   ],
   "source": [
    "# Create a flag - restart or not\n",
    "done = True\n",
    "# Loop through each frame in the game\n",
    "for step in range(100000): \n",
    "    # Start the game to begin with \n",
    "    if done: \n",
    "        # Start the gamee\n",
    "        env.reset()\n",
    "    # Do random actions\n",
    "    state, reward, done, info = env.step(env.action_space.sample())\n",
    "    # Show the game on the screen\n",
    "    env.render()\n",
    "# Close the game\n",
    "env.close()"
   ]
  },
  {
   "cell_type": "code",
   "execution_count": 4,
   "metadata": {},
   "outputs": [],
   "source": [
    "# Close the game\n",
    "env.close()"
   ]
  },
  {
   "cell_type": "markdown",
   "metadata": {},
   "source": [
    "# 2. Preprocess Environment"
   ]
  },
  {
   "cell_type": "code",
   "execution_count": null,
   "metadata": {
    "tags": []
   },
   "outputs": [
    {
     "name": "stdout",
     "output_type": "stream",
     "text": [
      "Looking in links: https://download.pytorch.org/whl/cu113/torch_stable.html\n"
     ]
    },
    {
     "name": "stderr",
     "output_type": "stream",
     "text": [
      "ERROR: Could not find a version that satisfies the requirement torch==1.10.1+cu113 (from versions: 1.11.0, 1.11.0+cu113, 1.12.0, 1.12.0+cu113, 1.12.1, 1.12.1+cu113, 1.13.0, 1.13.1, 2.0.0)\n",
      "ERROR: No matching distribution found for torch==1.10.1+cu113\n"
     ]
    }
   ],
   "source": [
    "# Install pytorch\n",
    "!pip install torch==1.10.1+cu113 torchvision==0.11.2+cu113 torchaudio===0.10.1+cu113 -f https://download.pytorch.org/whl/cu113/torch_stable.html"
   ]
  },
  {
   "cell_type": "code",
   "execution_count": 2,
   "metadata": {
    "tags": []
   },
   "outputs": [
    {
     "name": "stdout",
     "output_type": "stream",
     "text": [
      "Collecting stable-baselines3[extra]\n",
      "  Downloading stable_baselines3-1.7.0-py3-none-any.whl (171 kB)\n",
      "     ---------------------------------------- 0.0/171.8 kB ? eta -:--:--\n",
      "     ------------------------------------ - 163.8/171.8 kB 5.0 MB/s eta 0:00:01\n",
      "     -------------------------------------- 171.8/171.8 kB 3.4 MB/s eta 0:00:00\n",
      "Collecting gym==0.21\n",
      "  Downloading gym-0.21.0.tar.gz (1.5 MB)\n",
      "     ---------------------------------------- 0.0/1.5 MB ? eta -:--:--\n",
      "     ------ --------------------------------- 0.3/1.5 MB 5.4 MB/s eta 0:00:01\n",
      "     -------- ------------------------------- 0.3/1.5 MB 3.3 MB/s eta 0:00:01\n",
      "     ------------------ --------------------- 0.7/1.5 MB 5.0 MB/s eta 0:00:01\n",
      "     ------------------------- -------------- 1.0/1.5 MB 5.1 MB/s eta 0:00:01\n",
      "     ------------------------------- -------- 1.2/1.5 MB 5.2 MB/s eta 0:00:01\n",
      "     ---------------------------------------- 1.5/1.5 MB 5.5 MB/s eta 0:00:00\n",
      "  Preparing metadata (setup.py): started\n",
      "  Preparing metadata (setup.py): finished with status 'done'\n",
      "Requirement already satisfied: numpy in c:\\users\\warmtebron\\anaconda3\\envs\\rnenv\\lib\\site-packages (from stable-baselines3[extra]) (1.23.5)\n",
      "Requirement already satisfied: matplotlib in c:\\users\\warmtebron\\anaconda3\\envs\\rnenv\\lib\\site-packages (from stable-baselines3[extra]) (3.7.1)\n",
      "Collecting importlib-metadata~=4.13\n",
      "  Using cached importlib_metadata-4.13.0-py3-none-any.whl (23 kB)\n",
      "Requirement already satisfied: pandas in c:\\users\\warmtebron\\anaconda3\\envs\\rnenv\\lib\\site-packages (from stable-baselines3[extra]) (1.5.3)\n",
      "Requirement already satisfied: cloudpickle in c:\\users\\warmtebron\\anaconda3\\envs\\rnenv\\lib\\site-packages (from stable-baselines3[extra]) (2.0.0)\n",
      "Requirement already satisfied: torch>=1.11 in c:\\users\\warmtebron\\anaconda3\\envs\\rnenv\\lib\\site-packages (from stable-baselines3[extra]) (1.12.1)\n",
      "Requirement already satisfied: tqdm in c:\\users\\warmtebron\\anaconda3\\envs\\rnenv\\lib\\site-packages (from stable-baselines3[extra]) (4.65.0)\n",
      "Collecting tensorboard>=2.9.1\n",
      "  Downloading tensorboard-2.12.1-py3-none-any.whl (5.6 MB)\n",
      "     ---------------------------------------- 0.0/5.6 MB ? eta -:--:--\n",
      "     -- ------------------------------------- 0.3/5.6 MB 5.9 MB/s eta 0:00:01\n",
      "     ---- ----------------------------------- 0.6/5.6 MB 6.3 MB/s eta 0:00:01\n",
      "     ------- -------------------------------- 1.0/5.6 MB 7.1 MB/s eta 0:00:01\n",
      "     ---------- ----------------------------- 1.5/5.6 MB 7.7 MB/s eta 0:00:01\n",
      "     ------------ --------------------------- 1.8/5.6 MB 7.7 MB/s eta 0:00:01\n",
      "     --------------- ------------------------ 2.2/5.6 MB 7.9 MB/s eta 0:00:01\n",
      "     ------------------- -------------------- 2.7/5.6 MB 8.1 MB/s eta 0:00:01\n",
      "     ---------------------- ----------------- 3.2/5.6 MB 8.5 MB/s eta 0:00:01\n",
      "     ------------------------- -------------- 3.6/5.6 MB 8.6 MB/s eta 0:00:01\n",
      "     ---------------------------- ----------- 4.1/5.6 MB 8.7 MB/s eta 0:00:01\n",
      "     -------------------------------- ------- 4.5/5.6 MB 8.8 MB/s eta 0:00:01\n",
      "     ----------------------------------- ---- 5.0/5.6 MB 8.9 MB/s eta 0:00:01\n",
      "     ---------------------------------------  5.6/5.6 MB 9.1 MB/s eta 0:00:01\n",
      "     ---------------------------------------- 5.6/5.6 MB 8.8 MB/s eta 0:00:00\n",
      "Collecting ale-py==0.7.4\n",
      "  Downloading ale_py-0.7.4-cp310-cp310-win_amd64.whl (904 kB)\n",
      "     ---------------------------------------- 0.0/904.7 kB ? eta -:--:--\n",
      "     ---------------- -------------------- 409.6/904.7 kB 12.9 MB/s eta 0:00:01\n",
      "     ----------------------------------- - 860.2/904.7 kB 10.9 MB/s eta 0:00:01\n",
      "     -------------------------------------- 904.7/904.7 kB 9.6 MB/s eta 0:00:00\n",
      "Collecting rich\n",
      "  Downloading rich-13.3.3-py3-none-any.whl (238 kB)\n",
      "     ---------------------------------------- 0.0/238.7 kB ? eta -:--:--\n",
      "     -------------------------------------- 238.7/238.7 kB 7.4 MB/s eta 0:00:00\n",
      "Collecting autorom[accept-rom-license]~=0.4.2\n",
      "  Downloading AutoROM-0.4.2-py3-none-any.whl (16 kB)\n",
      "Collecting opencv-python\n",
      "  Using cached opencv_python-4.7.0.72-cp37-abi3-win_amd64.whl (38.2 MB)\n",
      "Requirement already satisfied: psutil in c:\\users\\warmtebron\\anaconda3\\envs\\rnenv\\lib\\site-packages (from stable-baselines3[extra]) (5.9.0)\n",
      "Requirement already satisfied: pillow in c:\\users\\warmtebron\\anaconda3\\envs\\rnenv\\lib\\site-packages (from stable-baselines3[extra]) (9.4.0)\n",
      "Collecting importlib-resources\n",
      "  Downloading importlib_resources-5.12.0-py3-none-any.whl (36 kB)\n",
      "Requirement already satisfied: click in c:\\users\\warmtebron\\anaconda3\\envs\\rnenv\\lib\\site-packages (from autorom[accept-rom-license]~=0.4.2->stable-baselines3[extra]) (8.0.4)\n",
      "Requirement already satisfied: requests in c:\\users\\warmtebron\\anaconda3\\envs\\rnenv\\lib\\site-packages (from autorom[accept-rom-license]~=0.4.2->stable-baselines3[extra]) (2.28.1)\n",
      "Collecting AutoROM.accept-rom-license\n",
      "  Downloading AutoROM.accept-rom-license-0.6.0.tar.gz (434 kB)\n",
      "     ---------------------------------------- 0.0/434.7 kB ? eta -:--:--\n",
      "     -------------------------------------  430.1/434.7 kB 8.9 MB/s eta 0:00:01\n",
      "     -------------------------------------- 434.7/434.7 kB 9.0 MB/s eta 0:00:00\n",
      "  Installing build dependencies: started\n",
      "  Installing build dependencies: finished with status 'done'\n",
      "  Getting requirements to build wheel: started\n",
      "  Getting requirements to build wheel: finished with status 'done'\n",
      "  Preparing metadata (pyproject.toml): started\n",
      "  Preparing metadata (pyproject.toml): finished with status 'done'\n",
      "Requirement already satisfied: zipp>=0.5 in c:\\users\\warmtebron\\anaconda3\\envs\\rnenv\\lib\\site-packages (from importlib-metadata~=4.13->stable-baselines3[extra]) (3.11.0)\n",
      "Requirement already satisfied: werkzeug>=1.0.1 in c:\\users\\warmtebron\\anaconda3\\envs\\rnenv\\lib\\site-packages (from tensorboard>=2.9.1->stable-baselines3[extra]) (2.2.3)\n",
      "Collecting google-auth<3,>=1.6.3\n",
      "  Downloading google_auth-2.17.1-py2.py3-none-any.whl (178 kB)\n",
      "     ---------------------------------------- 0.0/178.1 kB ? eta -:--:--\n",
      "     ------------------------------------- 178.1/178.1 kB 11.2 MB/s eta 0:00:00\n",
      "Requirement already satisfied: wheel>=0.26 in c:\\users\\warmtebron\\anaconda3\\envs\\rnenv\\lib\\site-packages (from tensorboard>=2.9.1->stable-baselines3[extra]) (0.38.4)\n",
      "Collecting protobuf>=3.19.6\n",
      "  Using cached protobuf-4.22.1-cp310-abi3-win_amd64.whl (420 kB)\n",
      "Collecting absl-py>=0.4\n",
      "  Using cached absl_py-1.4.0-py3-none-any.whl (126 kB)\n",
      "Collecting grpcio>=1.48.2\n",
      "  Using cached grpcio-1.53.0-cp310-cp310-win_amd64.whl (3.9 MB)\n",
      "Collecting google-auth-oauthlib<1.1,>=0.5\n",
      "  Downloading google_auth_oauthlib-1.0.0-py2.py3-none-any.whl (18 kB)\n",
      "Requirement already satisfied: setuptools>=41.0.0 in c:\\users\\warmtebron\\anaconda3\\envs\\rnenv\\lib\\site-packages (from tensorboard>=2.9.1->stable-baselines3[extra]) (65.6.3)\n",
      "Collecting tensorboard-plugin-wit>=1.6.0\n",
      "  Using cached tensorboard_plugin_wit-1.8.1-py3-none-any.whl (781 kB)\n",
      "Requirement already satisfied: markdown>=2.6.8 in c:\\users\\warmtebron\\anaconda3\\envs\\rnenv\\lib\\site-packages (from tensorboard>=2.9.1->stable-baselines3[extra]) (3.4.1)\n",
      "Collecting tensorboard-data-server<0.8.0,>=0.7.0\n",
      "  Using cached tensorboard_data_server-0.7.0-py3-none-any.whl (2.4 kB)\n",
      "Requirement already satisfied: typing_extensions in c:\\users\\warmtebron\\anaconda3\\envs\\rnenv\\lib\\site-packages (from torch>=1.11->stable-baselines3[extra]) (4.4.0)\n",
      "Requirement already satisfied: packaging>=20.0 in c:\\users\\warmtebron\\anaconda3\\envs\\rnenv\\lib\\site-packages (from matplotlib->stable-baselines3[extra]) (23.0)\n",
      "Requirement already satisfied: contourpy>=1.0.1 in c:\\users\\warmtebron\\anaconda3\\envs\\rnenv\\lib\\site-packages (from matplotlib->stable-baselines3[extra]) (1.0.5)\n",
      "Requirement already satisfied: pyparsing>=2.3.1 in c:\\users\\warmtebron\\anaconda3\\envs\\rnenv\\lib\\site-packages (from matplotlib->stable-baselines3[extra]) (3.0.9)\n",
      "Requirement already satisfied: kiwisolver>=1.0.1 in c:\\users\\warmtebron\\anaconda3\\envs\\rnenv\\lib\\site-packages (from matplotlib->stable-baselines3[extra]) (1.4.4)\n",
      "Requirement already satisfied: fonttools>=4.22.0 in c:\\users\\warmtebron\\anaconda3\\envs\\rnenv\\lib\\site-packages (from matplotlib->stable-baselines3[extra]) (4.25.0)\n",
      "Requirement already satisfied: python-dateutil>=2.7 in c:\\users\\warmtebron\\anaconda3\\envs\\rnenv\\lib\\site-packages (from matplotlib->stable-baselines3[extra]) (2.8.2)\n",
      "Requirement already satisfied: cycler>=0.10 in c:\\users\\warmtebron\\anaconda3\\envs\\rnenv\\lib\\site-packages (from matplotlib->stable-baselines3[extra]) (0.11.0)\n",
      "Requirement already satisfied: pytz>=2020.1 in c:\\users\\warmtebron\\anaconda3\\envs\\rnenv\\lib\\site-packages (from pandas->stable-baselines3[extra]) (2022.7)\n",
      "Collecting markdown-it-py<3.0.0,>=2.2.0\n",
      "  Using cached markdown_it_py-2.2.0-py3-none-any.whl (84 kB)\n",
      "Collecting pygments<3.0.0,>=2.13.0\n",
      "  Downloading Pygments-2.14.0-py3-none-any.whl (1.1 MB)\n",
      "     ---------------------------------------- 0.0/1.1 MB ? eta -:--:--\n",
      "     ------------- -------------------------- 0.4/1.1 MB 8.1 MB/s eta 0:00:01\n",
      "     ---------------------------- ----------- 0.8/1.1 MB 8.3 MB/s eta 0:00:01\n",
      "     ---------------------------------------- 1.1/1.1 MB 7.9 MB/s eta 0:00:00\n",
      "Requirement already satisfied: colorama in c:\\users\\warmtebron\\anaconda3\\envs\\rnenv\\lib\\site-packages (from tqdm->stable-baselines3[extra]) (0.4.6)\n",
      "Requirement already satisfied: six>=1.9.0 in c:\\users\\warmtebron\\anaconda3\\envs\\rnenv\\lib\\site-packages (from google-auth<3,>=1.6.3->tensorboard>=2.9.1->stable-baselines3[extra]) (1.16.0)\n",
      "Collecting cachetools<6.0,>=2.0.0\n",
      "  Using cached cachetools-5.3.0-py3-none-any.whl (9.3 kB)\n",
      "Requirement already satisfied: pyasn1-modules>=0.2.1 in c:\\users\\warmtebron\\anaconda3\\envs\\rnenv\\lib\\site-packages (from google-auth<3,>=1.6.3->tensorboard>=2.9.1->stable-baselines3[extra]) (0.2.8)\n",
      "Collecting rsa<5,>=3.1.4\n",
      "  Using cached rsa-4.9-py3-none-any.whl (34 kB)\n",
      "Collecting requests-oauthlib>=0.7.0\n",
      "  Using cached requests_oauthlib-1.3.1-py2.py3-none-any.whl (23 kB)\n",
      "Collecting mdurl~=0.1\n",
      "  Using cached mdurl-0.1.2-py3-none-any.whl (10.0 kB)\n",
      "Requirement already satisfied: certifi>=2017.4.17 in c:\\users\\warmtebron\\anaconda3\\envs\\rnenv\\lib\\site-packages (from requests->autorom[accept-rom-license]~=0.4.2->stable-baselines3[extra]) (2022.12.7)\n",
      "Requirement already satisfied: urllib3<1.27,>=1.21.1 in c:\\users\\warmtebron\\anaconda3\\envs\\rnenv\\lib\\site-packages (from requests->autorom[accept-rom-license]~=0.4.2->stable-baselines3[extra]) (1.26.15)\n",
      "Requirement already satisfied: idna<4,>=2.5 in c:\\users\\warmtebron\\anaconda3\\envs\\rnenv\\lib\\site-packages (from requests->autorom[accept-rom-license]~=0.4.2->stable-baselines3[extra]) (3.4)\n",
      "Requirement already satisfied: charset-normalizer<3,>=2 in c:\\users\\warmtebron\\anaconda3\\envs\\rnenv\\lib\\site-packages (from requests->autorom[accept-rom-license]~=0.4.2->stable-baselines3[extra]) (2.0.4)\n",
      "Requirement already satisfied: MarkupSafe>=2.1.1 in c:\\users\\warmtebron\\anaconda3\\envs\\rnenv\\lib\\site-packages (from werkzeug>=1.0.1->tensorboard>=2.9.1->stable-baselines3[extra]) (2.1.1)\n",
      "Collecting libtorrent\n",
      "  Downloading libtorrent-2.0.7-cp310-cp310-win_amd64.whl (1.9 MB)\n",
      "     ---------------------------------------- 0.0/1.9 MB ? eta -:--:--\n",
      "     -------- ------------------------------- 0.4/1.9 MB 8.9 MB/s eta 0:00:01\n",
      "     ------------------- -------------------- 0.9/1.9 MB 9.6 MB/s eta 0:00:01\n",
      "     ---------------------------- ----------- 1.4/1.9 MB 9.5 MB/s eta 0:00:01\n",
      "     ------------------------------------- -- 1.8/1.9 MB 9.5 MB/s eta 0:00:01\n",
      "     ---------------------------------------- 1.9/1.9 MB 9.4 MB/s eta 0:00:00\n",
      "Requirement already satisfied: pyasn1<0.5.0,>=0.4.6 in c:\\users\\warmtebron\\anaconda3\\envs\\rnenv\\lib\\site-packages (from pyasn1-modules>=0.2.1->google-auth<3,>=1.6.3->tensorboard>=2.9.1->stable-baselines3[extra]) (0.4.8)\n",
      "Collecting oauthlib>=3.0.0\n",
      "  Using cached oauthlib-3.2.2-py3-none-any.whl (151 kB)\n",
      "Building wheels for collected packages: gym, AutoROM.accept-rom-license\n",
      "  Building wheel for gym (setup.py): started\n",
      "  Building wheel for gym (setup.py): finished with status 'done'\n",
      "  Created wheel for gym: filename=gym-0.21.0-py3-none-any.whl size=1616805 sha256=a5d6f462e8725b02ef95b3905c14af0302232d4464989c905f7b48542d2bd630\n",
      "  Stored in directory: c:\\users\\warmtebron\\appdata\\local\\pip\\cache\\wheels\\81\\aa\\90\\b67df76370d3916a2189b662cf48da38ce41a4e7e58b6abff5\n",
      "  Building wheel for AutoROM.accept-rom-license (pyproject.toml): started\n",
      "  Building wheel for AutoROM.accept-rom-license (pyproject.toml): finished with status 'done'\n",
      "  Created wheel for AutoROM.accept-rom-license: filename=AutoROM.accept_rom_license-0.6.0-py3-none-any.whl size=446690 sha256=ce78b0c4ac0fdf53d9921ec28a99757a1bf634b3084d4469430022bb7599a97f\n",
      "  Stored in directory: c:\\users\\warmtebron\\appdata\\local\\pip\\cache\\wheels\\ef\\43\\7f\\995ae5c61379835a05e9ef304ed3c64408f6d3c7d5bf27346e\n",
      "Successfully built gym AutoROM.accept-rom-license\n",
      "Installing collected packages: tensorboard-plugin-wit, libtorrent, tensorboard-data-server, rsa, pygments, protobuf, opencv-python, oauthlib, mdurl, importlib-resources, importlib-metadata, gym, grpcio, cachetools, absl-py, requests-oauthlib, markdown-it-py, google-auth, AutoROM.accept-rom-license, autorom, ale-py, stable-baselines3, rich, google-auth-oauthlib, tensorboard\n",
      "  Attempting uninstall: pygments\n",
      "    Found existing installation: Pygments 2.11.2\n",
      "    Uninstalling Pygments-2.11.2:\n",
      "      Successfully uninstalled Pygments-2.11.2\n",
      "  Attempting uninstall: importlib-metadata\n",
      "    Found existing installation: importlib-metadata 6.0.0\n",
      "    Uninstalling importlib-metadata-6.0.0:\n",
      "      Successfully uninstalled importlib-metadata-6.0.0\n",
      "  Attempting uninstall: gym\n",
      "    Found existing installation: gym 0.26.2\n",
      "    Uninstalling gym-0.26.2:\n",
      "      Successfully uninstalled gym-0.26.2\n",
      "Successfully installed AutoROM.accept-rom-license-0.6.0 absl-py-1.4.0 ale-py-0.7.4 autorom-0.4.2 cachetools-5.3.0 google-auth-2.17.1 google-auth-oauthlib-1.0.0 grpcio-1.53.0 gym-0.21.0 importlib-metadata-4.13.0 importlib-resources-5.12.0 libtorrent-2.0.7 markdown-it-py-2.2.0 mdurl-0.1.2 oauthlib-3.2.2 opencv-python-4.7.0.72 protobuf-4.22.1 pygments-2.14.0 requests-oauthlib-1.3.1 rich-13.3.3 rsa-4.9 stable-baselines3-1.7.0 tensorboard-2.12.1 tensorboard-data-server-0.7.0 tensorboard-plugin-wit-1.8.1\n"
     ]
    }
   ],
   "source": [
    "# Install stable baselines for RL stuff\n",
    "!pip install stable-baselines3[extra]"
   ]
  },
  {
   "cell_type": "code",
   "execution_count": 3,
   "metadata": {},
   "outputs": [],
   "source": [
    "# Import Frame Stacker Wrapper and GrayScaling Wrapper\n",
    "from gym.wrappers import GrayScaleObservation\n",
    "# Import Vectorization Wrappers\n",
    "from stable_baselines3.common.vec_env import VecFrameStack, DummyVecEnv\n",
    "# Import Matplotlib to show the impact of frame stacking\n",
    "from matplotlib import pyplot as plt"
   ]
  },
  {
   "cell_type": "code",
   "execution_count": 4,
   "metadata": {},
   "outputs": [
    {
     "ename": "NameError",
     "evalue": "name 'gym_super_mario_bros' is not defined",
     "output_type": "error",
     "traceback": [
      "\u001b[1;31m---------------------------------------------------------------------------\u001b[0m",
      "\u001b[1;31mNameError\u001b[0m                                 Traceback (most recent call last)",
      "Cell \u001b[1;32mIn[4], line 2\u001b[0m\n\u001b[0;32m      1\u001b[0m \u001b[39m# 1. Create the base environment\u001b[39;00m\n\u001b[1;32m----> 2\u001b[0m env \u001b[39m=\u001b[39m gym_super_mario_bros\u001b[39m.\u001b[39mmake(\u001b[39m'\u001b[39m\u001b[39mSuperMarioBros-v0\u001b[39m\u001b[39m'\u001b[39m)\n\u001b[0;32m      3\u001b[0m \u001b[39m# 2. Simplify the controls \u001b[39;00m\n\u001b[0;32m      4\u001b[0m env \u001b[39m=\u001b[39m JoypadSpace(env, SIMPLE_MOVEMENT)\n",
      "\u001b[1;31mNameError\u001b[0m: name 'gym_super_mario_bros' is not defined"
     ]
    }
   ],
   "source": [
    "# 1. Create the base environment\n",
    "env = gym_super_mario_bros.make('SuperMarioBros-v0')\n",
    "# 2. Simplify the controls \n",
    "env = JoypadSpace(env, SIMPLE_MOVEMENT)\n",
    "# 3. Grayscale\n",
    "env = GrayScaleObservation(env, keep_dim=True)\n",
    "# 4. Wrap inside the Dummy Environment\n",
    "env = DummyVecEnv([lambda: env])\n",
    "# 5. Stack the frames\n",
    "env = VecFrameStack(env, 4, channels_order='last')"
   ]
  },
  {
   "cell_type": "code",
   "execution_count": null,
   "metadata": {},
   "outputs": [],
   "source": [
    "state = env.reset()"
   ]
  },
  {
   "cell_type": "code",
   "execution_count": null,
   "metadata": {},
   "outputs": [],
   "source": [
    "state, reward, done, info = env.step([5])"
   ]
  },
  {
   "cell_type": "code",
   "execution_count": null,
   "metadata": {},
   "outputs": [],
   "source": [
    "plt.figure(figsize=(20,16))\n",
    "for idx in range(state.shape[3]):\n",
    "    plt.subplot(1,4,idx+1)\n",
    "    plt.imshow(state[0][:,:,idx])\n",
    "plt.show()"
   ]
  },
  {
   "cell_type": "markdown",
   "metadata": {},
   "source": [
    "# 3. Train the RL Model"
   ]
  },
  {
   "cell_type": "code",
   "execution_count": null,
   "metadata": {},
   "outputs": [],
   "source": [
    "# Import os for file path management\n",
    "import os \n",
    "# Import PPO for algos\n",
    "from stable_baselines3 import PPO\n",
    "# Import Base Callback for saving models\n",
    "from stable_baselines3.common.callbacks import BaseCallback"
   ]
  },
  {
   "cell_type": "code",
   "execution_count": null,
   "metadata": {
    "jupyter": {
     "source_hidden": true
    },
    "tags": []
   },
   "outputs": [],
   "source": [
    "class TrainAndLoggingCallback(BaseCallback):\n",
    "\n",
    "    def __init__(self, check_freq, save_path, verbose=1):\n",
    "        super(TrainAndLoggingCallback, self).__init__(verbose)\n",
    "        self.check_freq = check_freq\n",
    "        self.save_path = save_path\n",
    "\n",
    "    def _init_callback(self):\n",
    "        if self.save_path is not None:\n",
    "            os.makedirs(self.save_path, exist_ok=True)\n",
    "\n",
    "    def _on_step(self):\n",
    "        if self.n_calls % self.check_freq == 0:\n",
    "            model_path = os.path.join(self.save_path, 'best_model_{}'.format(self.n_calls))\n",
    "            self.model.save(model_path)\n",
    "\n",
    "        return True"
   ]
  },
  {
   "cell_type": "code",
   "execution_count": null,
   "metadata": {},
   "outputs": [],
   "source": [
    "CHECKPOINT_DIR = './train/'\n",
    "LOG_DIR = './logs/'"
   ]
  },
  {
   "cell_type": "code",
   "execution_count": null,
   "metadata": {
    "jupyter": {
     "source_hidden": true
    },
    "tags": []
   },
   "outputs": [],
   "source": [
    "# Setup model saving callback\n",
    "callback = TrainAndLoggingCallback(check_freq=10000, save_path=CHECKPOINT_DIR)"
   ]
  },
  {
   "cell_type": "code",
   "execution_count": null,
   "metadata": {},
   "outputs": [],
   "source": [
    "# This is the AI model started\n",
    "model = PPO('CnnPolicy', env, verbose=1, tensorboard_log=LOG_DIR, learning_rate=0.000001, \n",
    "            n_steps=512) "
   ]
  },
  {
   "cell_type": "code",
   "execution_count": null,
   "metadata": {
    "tags": []
   },
   "outputs": [],
   "source": [
    "# Train the AI model, this is where the AI model starts to learn\n",
    "model.learn(total_timesteps=1000000, callback=callback)"
   ]
  },
  {
   "cell_type": "code",
   "execution_count": null,
   "metadata": {},
   "outputs": [],
   "source": [
    "model.save('thisisatestmodel')"
   ]
  },
  {
   "cell_type": "markdown",
   "metadata": {},
   "source": [
    "# 4. Test it Out"
   ]
  },
  {
   "cell_type": "code",
   "execution_count": null,
   "metadata": {},
   "outputs": [],
   "source": [
    "# Load model\n",
    "model = PPO.load('./train/best_model_1000000')"
   ]
  },
  {
   "cell_type": "code",
   "execution_count": null,
   "metadata": {},
   "outputs": [],
   "source": [
    "state = env.reset()"
   ]
  },
  {
   "cell_type": "code",
   "execution_count": null,
   "metadata": {},
   "outputs": [],
   "source": [
    "# Start the game \n",
    "state = env.reset()\n",
    "# Loop through the game\n",
    "while True: \n",
    "    \n",
    "    action, _ = model.predict(state)\n",
    "    state, reward, done, info = env.step(action)\n",
    "    env.render()"
   ]
  },
  {
   "cell_type": "code",
   "execution_count": null,
   "metadata": {},
   "outputs": [],
   "source": []
  }
 ],
 "metadata": {
  "kernelspec": {
   "display_name": "rnEnv",
   "language": "python",
   "name": "python3"
  },
  "language_info": {
   "codemirror_mode": {
    "name": "ipython",
    "version": 3
   },
   "file_extension": ".py",
   "mimetype": "text/x-python",
   "name": "python",
   "nbconvert_exporter": "python",
   "pygments_lexer": "ipython3",
   "version": "3.10.10"
  }
 },
 "nbformat": 4,
 "nbformat_minor": 4
}
