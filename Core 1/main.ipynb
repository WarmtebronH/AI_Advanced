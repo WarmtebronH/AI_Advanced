{
 "cells": [
  {
   "attachments": {},
   "cell_type": "markdown",
   "metadata": {},
   "source": [
    "# ML Exercise"
   ]
  },
  {
   "attachments": {},
   "cell_type": "markdown",
   "metadata": {},
   "source": [
    "### 1. Load the dataset and split into training and test set."
   ]
  },
  {
   "cell_type": "code",
   "execution_count": 1,
   "metadata": {},
   "outputs": [],
   "source": [
    "import mnist_reader\n",
    "\n",
    "X_train, y_train = mnist_reader.load_mnist('data/fashion', kind='train')\n",
    "X_test, y_test = mnist_reader.load_mnist('data/fashion', kind='t10k')"
   ]
  },
  {
   "attachments": {},
   "cell_type": "markdown",
   "metadata": {},
   "source": [
    "### 2. Train a Random Forest classifier on the dataset and time how long it takes, then evaluate the resulting model on the test set"
   ]
  },
  {
   "cell_type": "code",
   "execution_count": 2,
   "metadata": {},
   "outputs": [
    {
     "name": "stdout",
     "output_type": "stream",
     "text": [
      "Time taken to train model: 58.29 seconds\n",
      "Accuracy of the model on the test set: 0.88\n"
     ]
    }
   ],
   "source": [
    "from sklearn.ensemble import RandomForestClassifier\n",
    "import time\n",
    "from sklearn.metrics import accuracy_score\n",
    "\n",
    "model = RandomForestClassifier(n_estimators= 100)\n",
    "model.fit(X_train, y_train)\n",
    "\n",
    "\n",
    "# train the model on the reduced dataset and time the process\n",
    "start_time = time.time()\n",
    "model.fit(X_train, y_train)\n",
    "end_time = time.time()\n",
    "\n",
    "# measure the accuracy of the model on the test set\n",
    "y_pred = model.predict(X_test)\n",
    "accuracy = accuracy_score(y_test, y_pred)\n",
    "\n",
    "# print the time taken to train the model and its accuracy\n",
    "print(\"Time taken to train model: {:.2f} seconds\".format(end_time - start_time))\n",
    "print(\"Accuracy of the model on the test set: {:.2f}\".format(accuracy))"
   ]
  },
  {
   "attachments": {},
   "cell_type": "markdown",
   "metadata": {},
   "source": [
    "It takes 59 seconds to train this model."
   ]
  },
  {
   "cell_type": "code",
   "execution_count": 3,
   "metadata": {},
   "outputs": [
    {
     "data": {
      "text/plain": [
       "0.8769"
      ]
     },
     "execution_count": 3,
     "metadata": {},
     "output_type": "execute_result"
    }
   ],
   "source": [
    "from sklearn.metrics import accuracy_score\n",
    "\n",
    "y_pred = model.predict(X_test)\n",
    "accuracy_score(y_test, y_pred)"
   ]
  },
  {
   "attachments": {},
   "cell_type": "markdown",
   "metadata": {},
   "source": [
    "### 3. Next, use PCA to reduce the dataset's dimensionality"
   ]
  },
  {
   "cell_type": "code",
   "execution_count": 4,
   "metadata": {},
   "outputs": [],
   "source": [
    "from sklearn.decomposition import PCA\n",
    "\n",
    "# create a PCA object with an explained variance ratio of 0.95\n",
    "pca = PCA(n_components=0.95)\n",
    "\n",
    "# fit the PCA object to the training set\n",
    "pca.fit(X_train)\n",
    "\n",
    "# transform the training and test sets\n",
    "X_train_pca = pca.transform(X_train)\n",
    "X_test_pca = pca.transform(X_test)\n"
   ]
  },
  {
   "attachments": {},
   "cell_type": "markdown",
   "metadata": {},
   "source": [
    "### 4. Train a new Random Forest classifier on the reduced dataset and measure how long it takes."
   ]
  },
  {
   "cell_type": "code",
   "execution_count": 5,
   "metadata": {},
   "outputs": [
    {
     "name": "stdout",
     "output_type": "stream",
     "text": [
      "Time taken to train model: 69.93 seconds\n",
      "Accuracy of the model on the test set: 0.85\n"
     ]
    }
   ],
   "source": [
    "import time \n",
    "\n",
    "# create a new Random Forest classifier with 100 trees\n",
    "model = RandomForestClassifier(n_estimators=100)\n",
    "\n",
    "# train the model on the reduced dataset and time the process\n",
    "start_time = time.time()\n",
    "model.fit(X_train_pca, y_train)\n",
    "end_time = time.time()\n",
    "\n",
    "# measure the accuracy of the model on the test set\n",
    "y_pred = model.predict(X_test_pca)\n",
    "accuracy = accuracy_score(y_test, y_pred)\n",
    "\n",
    "# print the time taken to train the model and its accuracy\n",
    "print(\"Time taken to train model: {:.2f} seconds\".format(end_time - start_time))\n",
    "print(\"Accuracy of the model on the test set: {:.2f}\".format(accuracy))\n"
   ]
  },
  {
   "attachments": {},
   "cell_type": "markdown",
   "metadata": {},
   "source": [
    "### 5. Was training much faster?"
   ]
  },
  {
   "attachments": {},
   "cell_type": "markdown",
   "metadata": {},
   "source": [
    "### 6. Evaluate the classifier on the test set: how does it compare to the previous classifier?"
   ]
  },
  {
   "attachments": {},
   "cell_type": "markdown",
   "metadata": {},
   "source": [
    "### 7. Apply softmax regression (using the original dataset) and time how long it takes, then evaluate the resulting model on the test set."
   ]
  },
  {
   "cell_type": "code",
   "execution_count": 8,
   "metadata": {},
   "outputs": [
    {
     "name": "stdout",
     "output_type": "stream",
     "text": [
      "Time taken to train softmax regression model: 6.73 seconds\n",
      "Softmax Regression: Test Set accuracy = 0.84\n"
     ]
    },
    {
     "name": "stderr",
     "output_type": "stream",
     "text": [
      "c:\\Users\\Warmtebron\\anaconda3\\lib\\site-packages\\sklearn\\linear_model\\_logistic.py:814: ConvergenceWarning: lbfgs failed to converge (status=1):\n",
      "STOP: TOTAL NO. of ITERATIONS REACHED LIMIT.\n",
      "\n",
      "Increase the number of iterations (max_iter) or scale the data as shown in:\n",
      "    https://scikit-learn.org/stable/modules/preprocessing.html\n",
      "Please also refer to the documentation for alternative solver options:\n",
      "    https://scikit-learn.org/stable/modules/linear_model.html#logistic-regression\n",
      "  n_iter_i = _check_optimize_result(\n"
     ]
    }
   ],
   "source": [
    "from sklearn.linear_model import LogisticRegression\n",
    "import time\n",
    "\n",
    "# apply softmax regression and time how long it takes\n",
    "start_time = time.time()\n",
    "softmax = LogisticRegression(multi_class=\"multinomial\", solver=\"lbfgs\", max_iter=100)\n",
    "softmax.fit(X_train, y_train)\n",
    "end_time = time.time()\n",
    "print(\"Time taken to train softmax regression model: {:.2f} seconds\".format(end_time - start_time))\n",
    "\n",
    "# evaluate the resulting model on the test set\n",
    "y_pred_softmax = softmax.predict(X_test)\n",
    "accuracy_softmax = accuracy_score(y_test, y_pred_softmax)\n",
    "print(\"Softmax Regression: Test Set accuracy = {:.2f}\".format(accuracy_softmax))\n"
   ]
  },
  {
   "attachments": {},
   "cell_type": "markdown",
   "metadata": {},
   "source": [
    "### 8. Apply softmax regression (using the reduced dataset) and time how long it takes, then evaluate the resulting model on the test set."
   ]
  },
  {
   "cell_type": "code",
   "execution_count": 9,
   "metadata": {},
   "outputs": [
    {
     "name": "stdout",
     "output_type": "stream",
     "text": [
      "Time taken to train reduced softmax regression model: 3.06 seconds\n",
      "Reduced Softmax Regression: Test Set accuracy = 0.84\n"
     ]
    },
    {
     "name": "stderr",
     "output_type": "stream",
     "text": [
      "c:\\Users\\Warmtebron\\anaconda3\\lib\\site-packages\\sklearn\\linear_model\\_logistic.py:814: ConvergenceWarning: lbfgs failed to converge (status=1):\n",
      "STOP: TOTAL NO. of ITERATIONS REACHED LIMIT.\n",
      "\n",
      "Increase the number of iterations (max_iter) or scale the data as shown in:\n",
      "    https://scikit-learn.org/stable/modules/preprocessing.html\n",
      "Please also refer to the documentation for alternative solver options:\n",
      "    https://scikit-learn.org/stable/modules/linear_model.html#logistic-regression\n",
      "  n_iter_i = _check_optimize_result(\n"
     ]
    }
   ],
   "source": [
    "from sklearn.linear_model import LogisticRegression\n",
    "import time\n",
    "\n",
    "# original code to load data and perform PCA\n",
    "X_train, y_train = mnist_reader.load_mnist('data/fashion', kind='train')\n",
    "X_test, y_test = mnist_reader.load_mnist('data/fashion', kind='t10k')\n",
    "\n",
    "pca = PCA(n_components=95)\n",
    "X_train_reduced = pca.fit_transform(X_train)\n",
    "X_test_reduced = pca.transform(X_test)\n",
    "\n",
    "# apply softmax regression and time how long it takes\n",
    "start_time = time.time()\n",
    "softmax_reduced = LogisticRegression(multi_class=\"multinomial\", solver=\"lbfgs\", max_iter=100)\n",
    "softmax_reduced.fit(X_train_reduced, y_train)\n",
    "end_time = time.time()\n",
    "print(\"Time taken to train reduced softmax regression model: {:.2f} seconds\".format(end_time - start_time))\n",
    "\n",
    "# evaluate the resulting model on the test set\n",
    "y_pred_softmax_reduced = softmax_reduced.predict(X_test_reduced)\n",
    "accuracy_softmax_reduced = accuracy_score(y_test, y_pred_softmax_reduced)\n",
    "print(\"Reduced Softmax Regression: Test Set accuracy = {:.2f}\".format(accuracy_softmax_reduced))\n"
   ]
  },
  {
   "cell_type": "code",
   "execution_count": null,
   "metadata": {},
   "outputs": [],
   "source": []
  }
 ],
 "metadata": {
  "kernelspec": {
   "display_name": "base",
   "language": "python",
   "name": "python3"
  },
  "language_info": {
   "codemirror_mode": {
    "name": "ipython",
    "version": 3
   },
   "file_extension": ".py",
   "mimetype": "text/x-python",
   "name": "python",
   "nbconvert_exporter": "python",
   "pygments_lexer": "ipython3",
   "version": "3.9.13"
  },
  "orig_nbformat": 4,
  "vscode": {
   "interpreter": {
    "hash": "135dd61f25e7ad99382e31a9b18da1fa31b0780841b4ca2974d870836fb3c00a"
   }
  }
 },
 "nbformat": 4,
 "nbformat_minor": 2
}
